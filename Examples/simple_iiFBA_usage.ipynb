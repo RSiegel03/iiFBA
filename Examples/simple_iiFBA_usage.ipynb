{
 "cells": [
  {
   "cell_type": "markdown",
   "id": "83d7e8ec",
   "metadata": {},
   "source": [
    "<div class=\"alert alert-block alert-success\">\n",
    "Notes on Utility\n",
    "\n",
    "With only one bacteria, your only need 1 iteration\n",
    "1 bacteria in iiFBA == FBA aka you only need one iteration\n",
    "\n",
    "When you have one organism you will converge in one iteration, which is why is collapses to FBA\n",
    "\n",
    "No need for time and rates because iterative convergence helps lead to the exact behavior we can expect in the first instance. \n",
    "^^ As long as growth is limited only by environmental flux and not internal constraints\n",
    "\n",
    "If alpha zero, no insight to interaction unless there is cross-feeding, in which the consumer will consume after the first iteration\n",
    "</div>"
   ]
  },
  {
   "cell_type": "markdown",
   "id": "67f88209",
   "metadata": {},
   "source": [
    "# General Walkthrough and Usage of Iter-Active FBA \n",
    "\n",
    "Pip installation:<br>\n",
    "(from PyPI)<br>\n",
    "PyPI is not yet registered\n",
    "\n",
    "<br>\n",
    "(or from the github repo)<br>\n",
    "pip install \"git+https://github.com/m-3-lab/iiFBA.git@main#subdirectory=package\"\n"
   ]
  },
  {
   "cell_type": "markdown",
   "id": "923cbf14",
   "metadata": {},
   "source": [
    "## iiFBA Argument Formats\n",
    "This walkthrough will mention required formats, along with thorough docstring in package files, but will again be explicitly stated below.\n",
    "\n",
    "Models:\n",
    "- Must be provided to functions as a list of cobra.Model\n",
    "  - Even if only one model is being simulated\n",
    "  \n",
    "Media:\n",
    "- Must be formatted as dictionary\n",
    "  - Key: \"Exchange Reaction IDs\"\n",
    "  - Value: Negative Exchange Flux Lower Bound\n",
    "\n",
    "Relative Abundance:\n",
    "- Must be formatted as np.ndarray of float values as the decimal percentage of relative abundances or \"equal\"\n",
    "  - if rel_abund is \"equal\"\n",
    "    - rel_abund will default to vector of 1/n, of length n, (n = number of models) \n",
    "  - If relative abundances do not sum to 1:\n",
    "    - rel_abund is scaled to sum to 1\n",
    "  - Errors Raised if:\n",
    "    - rel_abund is not ndarray\n",
    "    - rel_abund is not capable of converting to ndarray (list types)\n",
    "    - any values are less than 0\n",
    "    - sum of values are equal to 0\n",
    "\n",
    "Iterations:\n",
    "- Must be numeric value for the count of iterations performed\n",
    "  - if iters less than 1\n",
    "    - change to 1\n",
    "  - if iters is not int\n",
    "    - will be cast as int (may raise errors)\n",
    "\n",
    "Flow:\n",
    "- Must be float value between 0 and 1, for ratio of environment replenishment\n",
    "  - If flow is outside of 0 and 1\n",
    "    - default to 0.5\n",
    "  - If flow is not float\n",
    "    - will be cast as float (may raise errors)\n",
    "\n"
   ]
  },
  {
   "cell_type": "code",
   "execution_count": 1,
   "id": "e2c56641",
   "metadata": {},
   "outputs": [],
   "source": [
    "# load package\n",
    "import iifba\n"
   ]
  },
  {
   "cell_type": "markdown",
   "id": "f0ef523a",
   "metadata": {},
   "source": [
    "## Model Loading\n",
    "This walkthrough will utilize example models installed with the Iter-Active FBA Package. These models are accessible at [VMH AGORA2](https://vmh.life/files/reconstructions/AGORA2/version2.01/mat_files/individual_reconstructions/):\n",
    "- Bacteroides_thetaiotaomicron_3731.mat\n",
    "- Escherichia_coli_str_K_12_substr_MG1655.mat\n",
    "\n",
    "\n",
    "<div class=\"alert alert-block alert-info\">\n",
    "Even if only 1 model will be used for simulation, model must still be stored in a list.\n",
    "</div>"
   ]
  },
  {
   "cell_type": "code",
   "execution_count": 2,
   "id": "dec98743",
   "metadata": {},
   "outputs": [
    {
     "ename": "FileNotFoundError",
     "evalue": "[Errno 2] No such file or directory: '/home/rseag/anaconda3/envs/MBE2/lib/python3.10/site-packages/iifba/Simple_Models/sit_I.json'",
     "output_type": "error",
     "traceback": [
      "\u001b[0;31m---------------------------------------------------------------------------\u001b[0m",
      "\u001b[0;31mFileNotFoundError\u001b[0m                         Traceback (most recent call last)",
      "Cell \u001b[0;32mIn[2], line 2\u001b[0m\n\u001b[1;32m      1\u001b[0m \u001b[38;5;28;01mfrom\u001b[39;00m \u001b[38;5;21;01miifba\u001b[39;00m\u001b[38;5;21;01m.\u001b[39;00m\u001b[38;5;21;01mutils\u001b[39;00m \u001b[38;5;28;01mimport\u001b[39;00m load_simple_models\n\u001b[0;32m----> 2\u001b[0m models \u001b[38;5;241m=\u001b[39m \u001b[43mload_simple_models\u001b[49m\u001b[43m(\u001b[49m\u001b[38;5;241;43m1\u001b[39;49m\u001b[43m)\u001b[49m\n",
      "File \u001b[0;32m~/anaconda3/envs/MBE2/lib/python3.10/site-packages/iifba/utils.py:55\u001b[0m, in \u001b[0;36mload_simple_models\u001b[0;34m(number)\u001b[0m\n\u001b[1;32m     53\u001b[0m \u001b[38;5;28;01mfor\u001b[39;00m file_idx, file_name \u001b[38;5;129;01min\u001b[39;00m \u001b[38;5;28menumerate\u001b[39m(situation_models[number \u001b[38;5;241m-\u001b[39m \u001b[38;5;241m1\u001b[39m]):\n\u001b[1;32m     54\u001b[0m \tmodel_path \u001b[38;5;241m=\u001b[39m files(\u001b[38;5;124m\"\u001b[39m\u001b[38;5;124miifba\u001b[39m\u001b[38;5;124m\"\u001b[39m)\u001b[38;5;241m.\u001b[39mjoinpath(\u001b[38;5;124m\"\u001b[39m\u001b[38;5;124mSimple_Models\u001b[39m\u001b[38;5;124m\"\u001b[39m, file_name)\n\u001b[0;32m---> 55\u001b[0m \tmodels\u001b[38;5;241m.\u001b[39mappend(\u001b[43mcb\u001b[49m\u001b[38;5;241;43m.\u001b[39;49m\u001b[43mio\u001b[49m\u001b[38;5;241;43m.\u001b[39;49m\u001b[43mload_json_model\u001b[49m\u001b[43m(\u001b[49m\u001b[38;5;28;43mstr\u001b[39;49m\u001b[43m(\u001b[49m\u001b[43mmodel_path\u001b[49m\u001b[43m)\u001b[49m\u001b[43m)\u001b[49m)\n\u001b[1;32m     57\u001b[0m \u001b[38;5;28;01mreturn\u001b[39;00m models\n",
      "File \u001b[0;32m~/anaconda3/envs/MBE2/lib/python3.10/site-packages/cobra/io/json.py:145\u001b[0m, in \u001b[0;36mload_json_model\u001b[0;34m(filename)\u001b[0m\n\u001b[1;32m    126\u001b[0m \u001b[38;5;250m\u001b[39m\u001b[38;5;124;03m\"\"\"Load a cobra model from a file in JSON format.\u001b[39;00m\n\u001b[1;32m    127\u001b[0m \n\u001b[1;32m    128\u001b[0m \u001b[38;5;124;03mParameters\u001b[39;00m\n\u001b[0;32m   (...)\u001b[0m\n\u001b[1;32m    142\u001b[0m \n\u001b[1;32m    143\u001b[0m \u001b[38;5;124;03m\"\"\"\u001b[39;00m\n\u001b[1;32m    144\u001b[0m \u001b[38;5;28;01mif\u001b[39;00m \u001b[38;5;28misinstance\u001b[39m(filename, (\u001b[38;5;28mstr\u001b[39m, Path)):\n\u001b[0;32m--> 145\u001b[0m     \u001b[38;5;28;01mwith\u001b[39;00m \u001b[38;5;28;43mopen\u001b[39;49m\u001b[43m(\u001b[49m\u001b[43mfilename\u001b[49m\u001b[43m,\u001b[49m\u001b[43m \u001b[49m\u001b[38;5;124;43m\"\u001b[39;49m\u001b[38;5;124;43mr\u001b[39;49m\u001b[38;5;124;43m\"\u001b[39;49m\u001b[43m)\u001b[49m \u001b[38;5;28;01mas\u001b[39;00m file_handle:\n\u001b[1;32m    146\u001b[0m         \u001b[38;5;28;01mreturn\u001b[39;00m model_from_dict(json\u001b[38;5;241m.\u001b[39mload(file_handle))\n\u001b[1;32m    147\u001b[0m \u001b[38;5;28;01melse\u001b[39;00m:\n",
      "\u001b[0;31mFileNotFoundError\u001b[0m: [Errno 2] No such file or directory: '/home/rseag/anaconda3/envs/MBE2/lib/python3.10/site-packages/iifba/Simple_Models/sit_I.json'"
     ]
    }
   ],
   "source": [
    "from iifba.utils import load_simple_models\n",
    "models = load_simple_models(1)\n"
   ]
  },
  {
   "cell_type": "markdown",
   "id": "4f9a7766",
   "metadata": {},
   "source": [
    "## Running iiFBA\n",
    "Iter-Active FBA utilizes COBRApy parsimonious FBA for simulation.\n",
    "\n"
   ]
  },
  {
   "cell_type": "code",
   "execution_count": 5,
   "id": "781ea774",
   "metadata": {},
   "outputs": [
    {
     "name": "stdout",
     "output_type": "stream",
     "text": [
      "Iterations set to: 10\n",
      "Flow set to: 0.0\n",
      "Relative abundances set to: [1.]\n",
      "Iteration: 0\n",
      "Iteration: 1\n",
      "Iteration: 2\n",
      "Iteration: 3\n",
      "Iteration: 4\n",
      "Iteration: 5\n",
      "Iteration: 6\n",
      "Iteration: 7\n",
      "Iteration: 8\n",
      "Iteration: 9\n",
      "model  Iteration\n",
      "0      0            0.784637\n",
      "       1            0.000000\n",
      "       2            0.000000\n",
      "       3            0.000000\n",
      "       4            0.000000\n",
      "       5            0.000000\n",
      "       6            0.000000\n",
      "       7            0.000000\n",
      "       8            0.000000\n",
      "       9            0.000000\n",
      "Name: biomass525, dtype: float64\n"
     ]
    }
   ],
   "source": [
    "from iifba import iipfba\n",
    "\n",
    "f, F_single = iipfba([EC], media, rel_abund=\"equal\", iters=10, flow=0) # defualt values\n",
    "\n",
    "biomass_id = \"biomass525\" # change to match biomass rxn id for model\n",
    "print(F_single[biomass_id])"
   ]
  },
  {
   "cell_type": "markdown",
   "id": "884da318",
   "metadata": {},
   "source": [
    "<div class=\"alert alert-block alert-info\">\n",
    "Single Bacteria simulation is simple and will converge to (1-flow)*flow_initial after the first iteration\n",
    "</div>"
   ]
  },
  {
   "cell_type": "markdown",
   "id": "b7019a85",
   "metadata": {},
   "source": [
    "## iiFBA with 2+ models\n"
   ]
  },
  {
   "cell_type": "code",
   "execution_count": 6,
   "id": "ffedafa5",
   "metadata": {},
   "outputs": [
    {
     "name": "stdout",
     "output_type": "stream",
     "text": [
      "Iterations set to: 10\n",
      "Flow set to: 0.0\n",
      "Relative abundances set to: [0.5 0.5]\n",
      "Iteration: 0\n",
      "Iteration: 1\n",
      "Iteration: 2\n",
      "Iteration: 3\n",
      "Iteration: 4\n",
      "Iteration: 5\n",
      "Iteration: 6\n",
      "Iteration: 7\n",
      "Iteration: 8\n",
      "Iteration: 9\n",
      "Iteration\n",
      "0    0.392319\n",
      "1    0.090492\n",
      "2    0.045246\n",
      "3    0.022623\n",
      "4    0.011311\n",
      "5    0.005656\n",
      "6    0.000000\n",
      "7    0.000000\n",
      "8    0.000000\n",
      "9    0.000000\n",
      "Name: biomass525, dtype: float64\n"
     ]
    }
   ],
   "source": [
    "from iifba import iipfba\n",
    "\n",
    "f, F_two = iipfba(models, media, rel_abund=\"equal\", iters=10, flow=0) # defualt values\n",
    "\n",
    "biomass_id = \"biomass525\" # change to match biomass rxn id for model\n",
    "print(F_two.loc[0, :][biomass_id])"
   ]
  },
  {
   "cell_type": "code",
   "execution_count": null,
   "id": "ec093802",
   "metadata": {},
   "outputs": [
    {
     "data": {
      "text/plain": [
       "<matplotlib.legend.Legend at 0x706da589efb0>"
      ]
     },
     "execution_count": 8,
     "metadata": {},
     "output_type": "execute_result"
    },
    {
     "data": {
      "image/png": "[encoded data removed]",
      "text/plain": [
       "<Figure size 640x480 with 1 Axes>"
      ]
     },
     "metadata": {},
     "output_type": "display_data"
    }
   ],
   "source": [
    "import matplotlib.pyplot as plt\n",
    "import numpy as np\n",
    "\n",
    "plt.plot(np.cumsum(F_single.loc[0,:][biomass_id]), label=\"Single\")\n",
    "plt.plot(np.cumsum(F_two.loc[0, :][biomass_id]), label=\"Interaction\")\n",
    "plt.xlabel(\"Iteration\")\n",
    "plt.ylabel(\"E. coli Biomass\")\n",
    "plt.legend()\n"
   ]
  },
  {
   "cell_type": "markdown",
   "id": "4277debc",
   "metadata": {},
   "source": [
    "## Iter-Active Flux Sampling\n",
    "This is more time-consuming due to multiple linear programs being solved... multiple times. See the [COBRApy Documentation](https://cobrapy.readthedocs.io/en/latest/sampling.html) for more details on flux sampling."
   ]
  },
  {
   "cell_type": "code",
   "execution_count": null,
   "id": "61f1a4c1",
   "metadata": {},
   "outputs": [],
   "source": [
    "from iifba import iisampling\n",
    "import pickle\n",
    "\n",
    "f, F_sampling, M = iisampling(models, media, rel_abund=\"equal\", iters=10, flow=0.5, # default values\n",
    "                              m_vals=[10, 10], objective_percent=0.9)\n",
    "\n",
    "with open('ii_sampling_example.pkl', 'wb') as file:\n",
    "\tpickle.dump([f, F, M], file)\n",
    "\n"
   ]
  },
  {
   "cell_type": "markdown",
   "id": "3e67ee24",
   "metadata": {},
   "source": [
    "## Plot iiSampling"
   ]
  },
  {
   "cell_type": "code",
   "execution_count": null,
   "id": "3d2c8dad",
   "metadata": {},
   "outputs": [
    {
     "data": {
      "image/png": "[encoded data removed]",
      "text/plain": [
       "<Figure size 640x480 with 1 Axes>"
      ]
     },
     "metadata": {},
     "output_type": "display_data"
    }
   ],
   "source": [
    "import matplotlib.pyplot as plt\n",
    "import numpy as np\n",
    "import pickle\n",
    "\n",
    "with open(\"../../Original/ii_sampling_061025.pkl\", \"rb\") as file:\n",
    "    f, F, M = pickle.load(file)\n",
    "\n",
    "\n",
    "# Plot Sampling Results\n",
    "org = 0\n",
    "flux = 'EX_ac(e)'\n",
    "#flux = 'EX_glc_D(e)'\n",
    "#flux = 'biomass525'\n",
    "\n",
    "# First iteration\n",
    "for j in range(len(F[org][flux][i])):\n",
    "    plt.plot(0,F[org][flux][0][j],'b.',alpha=0.1)\n",
    "\n",
    "# N+1 iterations\n",
    "for i in range(1,M.shape[1]+1):\n",
    "    #dots for all flux values\n",
    "    for j in range(len(F[org][flux][i])):\n",
    "        plt.plot(i,F[org][flux][i][j],'b.',alpha=0.1)\n",
    "    #lines linking flux values\n",
    "    for j in range(len(F[org][flux][i])):\n",
    "        m_ind = M[int(np.floor(j/M.shape[0]))][i-1]\n",
    "        plt.plot([i-1,i],[F[org][flux][i-1][m_ind],F[org][flux][i][j]],'b-',alpha=0.05)\n",
    "\n",
    "org = 1\n",
    "flux = 'EX_ac(e)'\n",
    "#flux = 'EX_glc_D(e)'\n",
    "#flux = 'bio1'\n",
    "\n",
    "# First iteration\n",
    "for j in range(len(F[org][flux][i])):\n",
    "    plt.plot(0,F[org][flux][0][j],'r.',alpha=0.1)\n",
    "\n",
    "# N+1 iterations\n",
    "for i in range(1,M.shape[1]+1):\n",
    "    #dots for all flux values\n",
    "    for j in range(len(F[org][flux][i])):\n",
    "        plt.plot(i,F[org][flux][i][j],'r.',alpha=0.1)\n",
    "    #lines linking flux values\n",
    "    for j in range(len(F[org][flux][i])):\n",
    "        m_ind = M[int(np.floor(j/M.shape[0]))][i-1]\n",
    "        plt.plot([i-1,i],[F[org][flux][i-1][m_ind],F[org][flux][i][j]],'r-',alpha=0.05)   "
   ]
  }
 ],
 "metadata": {
  "kernelspec": {
   "display_name": "MBE2",
   "language": "python",
   "name": "python3"
  },
  "language_info": {
   "codemirror_mode": {
    "name": "ipython",
    "version": 3
   },
   "file_extension": ".py",
   "mimetype": "text/x-python",
   "name": "python",
   "nbconvert_exporter": "python",
   "pygments_lexer": "ipython3",
   "version": "3.10.15"
  }
 },
 "nbformat": 4,
 "nbformat_minor": 5
}
