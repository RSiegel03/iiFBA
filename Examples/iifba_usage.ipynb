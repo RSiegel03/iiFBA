{
 "cells": [
  {
   "cell_type": "markdown",
   "id": "83d7e8ec",
   "metadata": {},
   "source": [
    "<div class=\"alert alert-block alert-success\">\n",
    "Notes on Utility\n",
    "\n",
    "With only one bacteria, your only need 1 iteration\n",
    "1 bacteria in iiFBA == FBA aka you only need one iteration\n",
    "\n",
    "When you have one organism you will converge in one iteration, which is why is collapses to FBA\n",
    "\n",
    "No need for time and rates because iterative convergence helps lead to the exact behavior we can expect in the first instance. \n",
    "^^ As long as growth is limited only by environmental flux and not internal constraints\n",
    "\n",
    "If alpha zero, no insight to interaction unless there is cross-feeding, in which the consumer will consume after the first iteration\n",
    "</div>"
   ]
  },
  {
   "cell_type": "markdown",
   "id": "67f88209",
   "metadata": {},
   "source": [
    "# General Walkthrough and Usage of Iter-Active FBA \n",
    "\n",
    "Pip installation:<br>\n",
    "(from PyPI)<br>\n",
    "PyPI is not yet registered\n",
    "\n",
    "<br>\n",
    "(or from the github repo)<br>\n",
    "pip install \"git+https://github.com/m-3-lab/iiFBA.git@main#subdirectory=package\"\n"
   ]
  },
  {
   "cell_type": "markdown",
   "id": "923cbf14",
   "metadata": {},
   "source": [
    "## iiFBA Argument Formats\n",
    "This walkthrough will mention required formats, along with thorough docstring in package files, but will again be explicitly stated below.\n",
    "\n",
    "Models:\n",
    "- Must be provided to functions as a list of cobra.Model\n",
    "  - Even if only one model is being simulated\n",
    "  \n",
    "Media:\n",
    "- Must be formatted as dictionary\n",
    "  - Key: \"Exchange Reaction IDs\"\n",
    "  - Value: Negative Exchange Flux Lower Bound\n",
    "\n",
    "Relative Abundance:\n",
    "- Must be formatted as np.ndarray of float values as the decimal percentage of relative abundances or \"equal\"\n",
    "  - if rel_abund is \"equal\"\n",
    "    - rel_abund will default to vector of 1/n, of length n, (n = number of models) \n",
    "  - If relative abundances do not sum to 1:\n",
    "    - rel_abund is scaled to sum to 1\n",
    "  - Errors Raised if:\n",
    "    - rel_abund is not ndarray\n",
    "    - rel_abund is not capable of converting to ndarray (list types)\n",
    "    - any values are less than 0\n",
    "    - sum of values are equal to 0\n",
    "\n",
    "Iterations:\n",
    "- Must be numeric value for the count of iterations performed\n",
    "  - if iters less than 1\n",
    "    - change to 1\n",
    "  - if iters is not int\n",
    "    - will be cast as int (may raise errors)\n",
    "\n",
    "Flow:\n",
    "- Must be float value between 0 and 1, for ratio of environment replenishment\n",
    "  - If flow is outside of 0 and 1\n",
    "    - default to 0.5\n",
    "  - If flow is not float\n",
    "    - will be cast as float (may raise errors)\n",
    "\n"
   ]
  },
  {
   "cell_type": "code",
   "execution_count": 1,
   "id": "e2c56641",
   "metadata": {},
   "outputs": [],
   "source": [
    "# load package\n",
    "import iifba\n"
   ]
  },
  {
   "cell_type": "markdown",
   "id": "f0ef523a",
   "metadata": {},
   "source": [
    "## Model Loading\n",
    "This walkthrough will utilize example models installed with the Iter-Active FBA Package. These models are accessible at [VMH AGORA2](https://vmh.life/files/reconstructions/AGORA2/version2.01/mat_files/individual_reconstructions/):\n",
    "- Bacteroides_thetaiotaomicron_3731.mat\n",
    "- Escherichia_coli_str_K_12_substr_MG1655.mat\n",
    "\n",
    "\n",
    "<div class=\"alert alert-block alert-info\">\n",
    "Even if only 1 model will be used for simulation, model must still be stored in a list.\n",
    "</div>"
   ]
  },
  {
   "cell_type": "code",
   "execution_count": 2,
   "id": "dec98743",
   "metadata": {},
   "outputs": [
    {
     "name": "stderr",
     "output_type": "stream",
     "text": [
      "No defined compartments in model model. Compartments will be deduced heuristically using regular expressions.\n",
      "Using regular expression found the following compartments:c, e, p\n",
      "No defined compartments in model model. Compartments will be deduced heuristically using regular expressions.\n",
      "Using regular expression found the following compartments:c, e, p\n"
     ]
    },
    {
     "name": "stdout",
     "output_type": "stream",
     "text": [
      "{'EX_glc_D(e)': -10, 'EX_so4(e)': -100, 'EX_nh4(e)': -100, 'EX_no3(e)': -100, 'EX_pi(e)': -100, 'EX_cys_L(e)': -100, 'EX_mn2(e)': -100, 'EX_cl(e)': -100, 'EX_ca2(e)': -100, 'EX_mg2(e)': -100, 'EX_cu2(e)': -100, 'EX_cobalt2(e)': -100, 'EX_fe2(e)': -100, 'EX_fe3(e)': -100, 'EX_zn2(e)': -100, 'EX_k(e)': -100}\n"
     ]
    }
   ],
   "source": [
    "from iifba.utils import load_example_models\n",
    "EC, BT, media = load_example_models()\n",
    "\n",
    "# combine models in list of cobra.Models\n",
    "models = [EC, BT]\n",
    "\n",
    "# ensure any media takes the following format for defining \n",
    "# environment (exchange) flux bounds correctly\n",
    "print(media)"
   ]
  },
  {
   "cell_type": "markdown",
   "id": "4f9a7766",
   "metadata": {},
   "source": [
    "## Running iiFBA\n",
    "Iter-Active FBA utilizes COBRApy parsimonious FBA for simulation.\n",
    "\n"
   ]
  },
  {
   "cell_type": "code",
   "execution_count": 3,
   "id": "781ea774",
   "metadata": {},
   "outputs": [
    {
     "name": "stdout",
     "output_type": "stream",
     "text": [
      "Iterations set to: 10\n",
      "Flow set to: 0.0\n",
      "Relative abundances set to: [1.]\n",
      "Iteration: 0\n",
      "Iteration: 1\n",
      "Iteration: 2\n",
      "Iteration: 3\n",
      "Iteration: 4\n",
      "Iteration: 5\n",
      "Iteration: 6\n",
      "Iteration: 7\n",
      "Iteration: 8\n",
      "Iteration: 9\n",
      "model  Iteration\n",
      "0      0            0.784637\n",
      "       1            0.000000\n",
      "       2            0.000000\n",
      "       3            0.000000\n",
      "       4            0.000000\n",
      "       5            0.000000\n",
      "       6            0.000000\n",
      "       7            0.000000\n",
      "       8            0.000000\n",
      "       9            0.000000\n",
      "Name: biomass525, dtype: float64\n"
     ]
    }
   ],
   "source": [
    "from iifba import iipfba\n",
    "\n",
    "f, F_single = iipfba([EC], media, rel_abund=\"equal\", iters=10, flow=0) # defualt values\n",
    "\n",
    "biomass_id = \"biomass525\" # change to match biomass rxn id for model\n",
    "print(F_single[biomass_id])"
   ]
  },
  {
   "cell_type": "markdown",
   "id": "884da318",
   "metadata": {},
   "source": [
    "<div class=\"alert alert-block alert-info\">\n",
    "Single Bacteria simulation is simple and will converge to (1-flow)*flow_initial after the first iteration\n",
    "</div>"
   ]
  },
  {
   "cell_type": "markdown",
   "id": "b7019a85",
   "metadata": {},
   "source": [
    "## iiFBA with 2+ models\n"
   ]
  },
  {
   "cell_type": "code",
   "execution_count": 4,
   "id": "ffedafa5",
   "metadata": {},
   "outputs": [
    {
     "name": "stdout",
     "output_type": "stream",
     "text": [
      "Iterations set to: 10\n",
      "Flow set to: 0.0\n",
      "Relative abundances set to: [0.5 0.5]\n",
      "Iteration: 0\n",
      "Iteration: 1\n",
      "Iteration: 2\n",
      "Iteration: 3\n",
      "Iteration: 4\n",
      "Iteration: 5\n",
      "Iteration: 6\n",
      "Iteration: 7\n",
      "Iteration: 8\n",
      "Iteration: 9\n",
      "Iteration\n",
      "0    0.392319\n",
      "1    0.090492\n",
      "2    0.045246\n",
      "3    0.022623\n",
      "4    0.011311\n",
      "5    0.005656\n",
      "6    0.000000\n",
      "7    0.000000\n",
      "8    0.000000\n",
      "9    0.000000\n",
      "Name: biomass525, dtype: float64\n"
     ]
    }
   ],
   "source": [
    "from iifba import iipfba\n",
    "\n",
    "f, F_two = iipfba(models, media, rel_abund=\"equal\", iters=10, flow=0) # defualt values\n",
    "\n",
    "biomass_id = \"biomass525\" # change to match biomass rxn id for model\n",
    "print(F_two.loc[0, :][biomass_id])"
   ]
  },
  {
   "cell_type": "code",
   "execution_count": 5,
   "id": "ec093802",
   "metadata": {},
   "outputs": [
    {
     "data": {
      "text/plain": [
       "<matplotlib.legend.Legend at 0x79d1f14e7b80>"
      ]
     },
     "execution_count": 5,
     "metadata": {},
     "output_type": "execute_result"
    },
    {
     "data": {
      "image/png": "[encoded data removed]",
      "text/plain": [
       "<Figure size 640x480 with 1 Axes>"
      ]
     },
     "metadata": {},
     "output_type": "display_data"
    }
   ],
   "source": [
    "import matplotlib.pyplot as plt\n",
    "\n",
    "ax = iifba.iifba_vis(F_single.loc[0,:][biomass_id], line_lab=\"E. coli Alone\")\n",
    "ax = iifba.iifba_vis(F_two.loc[0,:][biomass_id], ax=ax, line_lab=\"E. coli & B. theta\")\n",
    "plt.legend()\n"
   ]
  },
  {
   "cell_type": "markdown",
   "id": "4277debc",
   "metadata": {},
   "source": [
    "## Iter-Active Flux Sampling\n",
    "This is more time-consuming due to multiple linear programs being solved... multiple times. See the [COBRApy Documentation](https://cobrapy.readthedocs.io/en/latest/sampling.html) for more details on flux sampling."
   ]
  },
  {
   "cell_type": "code",
   "execution_count": null,
   "id": "61f1a4c1",
   "metadata": {},
   "outputs": [],
   "source": [
    "from iifba import iisampling\n",
    "import pickle\n",
    "\n",
    "f, F_sampling, M = iisampling(models, media, rel_abund=\"equal\", iters=10, flow=0.5, # default values\n",
    "                              m_vals=[10, 10], objective_percent=0.9)\n",
    "\n",
    "with open('ii_sampling_example.pkl', 'wb') as file:\n",
    "\tpickle.dump([f, F, M], file)\n",
    "\n"
   ]
  },
  {
   "cell_type": "markdown",
   "id": "3e67ee24",
   "metadata": {},
   "source": [
    "## Plot iiSampling"
   ]
  },
  {
   "cell_type": "code",
   "execution_count": null,
   "id": "3d2c8dad",
   "metadata": {},
   "outputs": [
    {
     "data": {
      "image/png": "[encoded data removed]",
      "text/plain": [
       "<Figure size 640x480 with 1 Axes>"
      ]
     },
     "metadata": {},
     "output_type": "display_data"
    }
   ],
   "source": [
    "import matplotlib.pyplot as plt\n",
    "import numpy as np\n",
    "import pickle\n",
    "\n",
    "with open(\"../../Original/ii_sampling_061025.pkl\", \"rb\") as file:\n",
    "    f, F, M = pickle.load(file)\n",
    "\n",
    "\n",
    "# Plot Sampling Results\n",
    "org = 0\n",
    "flux = 'EX_ac(e)'\n",
    "#flux = 'EX_glc_D(e)'\n",
    "#flux = 'biomass525'\n",
    "\n",
    "# First iteration\n",
    "for j in range(len(F[org][flux][i])):\n",
    "    plt.plot(0,F[org][flux][0][j],'b.',alpha=0.1)\n",
    "\n",
    "# N+1 iterations\n",
    "for i in range(1,M.shape[1]+1):\n",
    "    #dots for all flux values\n",
    "    for j in range(len(F[org][flux][i])):\n",
    "        plt.plot(i,F[org][flux][i][j],'b.',alpha=0.1)\n",
    "    #lines linking flux values\n",
    "    for j in range(len(F[org][flux][i])):\n",
    "        m_ind = M[int(np.floor(j/M.shape[0]))][i-1]\n",
    "        plt.plot([i-1,i],[F[org][flux][i-1][m_ind],F[org][flux][i][j]],'b-',alpha=0.05)\n",
    "\n",
    "org = 1\n",
    "flux = 'EX_ac(e)'\n",
    "#flux = 'EX_glc_D(e)'\n",
    "#flux = 'bio1'\n",
    "\n",
    "# First iteration\n",
    "for j in range(len(F[org][flux][i])):\n",
    "    plt.plot(0,F[org][flux][0][j],'r.',alpha=0.1)\n",
    "\n",
    "# N+1 iterations\n",
    "for i in range(1,M.shape[1]+1):\n",
    "    #dots for all flux values\n",
    "    for j in range(len(F[org][flux][i])):\n",
    "        plt.plot(i,F[org][flux][i][j],'r.',alpha=0.1)\n",
    "    #lines linking flux values\n",
    "    for j in range(len(F[org][flux][i])):\n",
    "        m_ind = M[int(np.floor(j/M.shape[0]))][i-1]\n",
    "        plt.plot([i-1,i],[F[org][flux][i-1][m_ind],F[org][flux][i][j]],'r-',alpha=0.05)   "
   ]
  }
 ],
 "metadata": {
  "kernelspec": {
   "display_name": "MBE2",
   "language": "python",
   "name": "python3"
  },
  "language_info": {
   "codemirror_mode": {
    "name": "ipython",
    "version": 3
   },
   "file_extension": ".py",
   "mimetype": "text/x-python",
   "name": "python",
   "nbconvert_exporter": "python",
   "pygments_lexer": "ipython3",
   "version": "3.10.15"
  }
 },
 "nbformat": 4,
 "nbformat_minor": 5
}
