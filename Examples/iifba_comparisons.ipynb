{
 "cells": [
  {
   "cell_type": "markdown",
   "id": "83d7e8ec",
   "metadata": {},
   "source": [
    "<div style=\"background-color:rgb(245, 184, 242); color: rgb(70, 11, 83); border: 2px solidrgb(255, 255, 255); padding: 10px; border-radius: 7px;\">\n",
    "Notes on Utility\n",
    "\n",
    "With only one bacteria, your only need 1 iteration\n",
    "1 bacteria in iiFBA == FBA aka you only need one iteration\n",
    "\n",
    "When you have one organism you will converge in one iteration, which is why is collapses to FBA\n",
    "\n",
    "No need for time and rates because iterative convergence helps lead to the exact behavior we can expect in the first instance. \n",
    "^^ As long as growth is limited only by environmental flux and not internal constraints\n",
    "\n",
    "If alpha zero, no insight to interaction unless there is cross-feeding, in which the consumer will consume after the first iteration\n",
    "</div>"
   ]
  },
  {
   "cell_type": "markdown",
   "id": "eb827883",
   "metadata": {},
   "source": [
    "<div class= \"alert alert-block alert-success\">\n",
    "My future steps: <br>\n",
    "- Plotting sampling (unimportant) <br>\n",
    "<br>\n",
    "\n",
    "pip installable!!! (will add to pyPI when done-done)<br>\n",
    "pip install \"git+https://github.com/m-3-lab/iiFBA.git@main#subdirectory=package\"\n",
    "\n",
    "</div>"
   ]
  },
  {
   "cell_type": "markdown",
   "id": "67f88209",
   "metadata": {},
   "source": [
    "# Simple Models Implementation iiFBA\n"
   ]
  },
  {
   "cell_type": "code",
   "execution_count": null,
   "id": "781ea774",
   "metadata": {},
   "outputs": [
    {
     "name": "stdout",
     "output_type": "stream",
     "text": [
      "Set parameter Username\n",
      "Set parameter LicenseID to value 2684253\n",
      "Academic license - for non-commercial use only - expires 2026-07-02\n",
      "Iterations set to: 10\n",
      "Relative abundances set to: [1.]\n",
      "Iteration: 0\n"
     ]
    },
    {
     "ename": "ValueError",
     "evalue": "matmul: Input operand 1 has a mismatch in its core dimension 0, with gufunc signature (n?,k),(k,m?)->(n?,m?) (size 1 is different from 2)",
     "output_type": "error",
     "traceback": [
      "\u001b[0;31m---------------------------------------------------------------------------\u001b[0m",
      "\u001b[0;31mValueError\u001b[0m                                Traceback (most recent call last)",
      "Cell \u001b[0;32mIn[2], line 10\u001b[0m\n\u001b[1;32m      7\u001b[0m \u001b[38;5;28;01mfor\u001b[39;00m sit_idx \u001b[38;5;129;01min\u001b[39;00m \u001b[38;5;28mrange\u001b[39m(\u001b[38;5;241m1\u001b[39m, \u001b[38;5;241m7\u001b[39m):\n\u001b[1;32m      8\u001b[0m \tmodels, media \u001b[38;5;241m=\u001b[39m load_simple_models(sit_idx)\n\u001b[0;32m---> 10\u001b[0m \tf, F \u001b[38;5;241m=\u001b[39m \u001b[43miifba\u001b[49m\u001b[38;5;241;43m.\u001b[39;49m\u001b[43miipfba\u001b[49m\u001b[43m(\u001b[49m\u001b[43mmodels\u001b[49m\u001b[43m,\u001b[49m\u001b[43m \u001b[49m\u001b[43mmedia\u001b[49m\u001b[43m,\u001b[49m\u001b[43m \u001b[49m\u001b[43mrel_abund\u001b[49m\u001b[38;5;241;43m=\u001b[39;49m\u001b[38;5;124;43m\"\u001b[39;49m\u001b[38;5;124;43mequal\u001b[39;49m\u001b[38;5;124;43m\"\u001b[39;49m\u001b[43m,\u001b[49m\u001b[43m \u001b[49m\u001b[43miters\u001b[49m\u001b[38;5;241;43m=\u001b[39;49m\u001b[38;5;241;43m10\u001b[39;49m\u001b[43m)\u001b[49m \u001b[38;5;66;03m# defualt values\u001b[39;00m\n\u001b[1;32m     12\u001b[0m \tbiomass_id \u001b[38;5;241m=\u001b[39m \u001b[38;5;124m\"\u001b[39m\u001b[38;5;124mexchangeBio1\u001b[39m\u001b[38;5;124m\"\u001b[39m\n\u001b[1;32m     13\u001b[0m \tax1 \u001b[38;5;241m=\u001b[39m iifba\u001b[38;5;241m.\u001b[39miifba_vis(F\u001b[38;5;241m.\u001b[39mloc[\u001b[38;5;241m0\u001b[39m,:][biomass_id], ax\u001b[38;5;241m=\u001b[39max1, line_lab\u001b[38;5;241m=\u001b[39msit_idx)\n",
      "File \u001b[0;32m~/anaconda3/envs/MBE2/lib/python3.10/site-packages/iifba/analysis.py:327\u001b[0m, in \u001b[0;36miipfba\u001b[0;34m(models, media, rel_abund, iters)\u001b[0m\n\u001b[1;32m    324\u001b[0m             org_fluxes \u001b[38;5;241m=\u001b[39m run_pfba(model, org_idx, \u001b[38;5;28miter\u001b[39m, org_fluxes, rel_abund[org_idx])\n\u001b[1;32m    326\u001b[0m     \u001b[38;5;66;03m# update fluxes\u001b[39;00m\n\u001b[0;32m--> 327\u001b[0m     env_fluxes \u001b[38;5;241m=\u001b[39m \u001b[43mupdate_pfba_env\u001b[49m\u001b[43m(\u001b[49m\u001b[43menv_fluxes\u001b[49m\u001b[43m,\u001b[49m\u001b[43m \u001b[49m\u001b[43morg_fluxes\u001b[49m\u001b[43m,\u001b[49m\u001b[43m \u001b[49m\u001b[43mrel_abund\u001b[49m\u001b[43m,\u001b[49m\u001b[43m \u001b[49m\u001b[38;5;28;43miter\u001b[39;49m\u001b[43m)\u001b[49m\n\u001b[1;32m    329\u001b[0m \u001b[38;5;66;03m# pfba has no use for Run index\u001b[39;00m\n\u001b[1;32m    330\u001b[0m env_fluxes \u001b[38;5;241m=\u001b[39m env_fluxes\u001b[38;5;241m.\u001b[39mdroplevel(\u001b[38;5;124m\"\u001b[39m\u001b[38;5;124mRun\u001b[39m\u001b[38;5;124m\"\u001b[39m)\n",
      "File \u001b[0;32m~/anaconda3/envs/MBE2/lib/python3.10/site-packages/iifba/analysis.py:228\u001b[0m, in \u001b[0;36mupdate_pfba_env\u001b[0;34m(env_f, org_F, rel_abund, iter)\u001b[0m\n\u001b[1;32m    224\u001b[0m update_rate \u001b[38;5;241m=\u001b[39m np\u001b[38;5;241m.\u001b[39marray([\u001b[38;5;241m1\u001b[39m,\u001b[38;5;241m1\u001b[39m]) \u001b[38;5;66;03m# rel_abund\u001b[39;00m\n\u001b[1;32m    227\u001b[0m \u001b[38;5;66;03m# run update\u001b[39;00m\n\u001b[0;32m--> 228\u001b[0m flux_sums \u001b[38;5;241m=\u001b[39m \u001b[43mupdate_rate\u001b[49m\u001b[38;5;241;43m.\u001b[39;49m\u001b[43mT\u001b[49m\u001b[43m \u001b[49m\u001b[38;5;241;43m@\u001b[39;49m\u001b[43m \u001b[49m\u001b[43mrun_exs\u001b[49m\n\u001b[1;32m    229\u001b[0m env_f\u001b[38;5;241m.\u001b[39mloc[\u001b[38;5;28miter\u001b[39m\u001b[38;5;241m+\u001b[39m\u001b[38;5;241m1\u001b[39m, \u001b[38;5;241m0\u001b[39m] \u001b[38;5;241m=\u001b[39m env_tmp \u001b[38;5;241m-\u001b[39m flux_sums\n\u001b[1;32m    231\u001b[0m \u001b[38;5;28;01mreturn\u001b[39;00m env_f\n",
      "\u001b[0;31mValueError\u001b[0m: matmul: Input operand 1 has a mismatch in its core dimension 0, with gufunc signature (n?,k),(k,m?)->(n?,m?) (size 1 is different from 2)"
     ]
    },
    {
     "data": {
      "image/png": "[encoded data removed]",
      "text/plain": [
       "<Figure size 1200x600 with 2 Axes>"
      ]
     },
     "metadata": {},
     "output_type": "display_data"
    }
   ],
   "source": [
    "import iifba\n",
    "from iifba.utils import load_simple_models\n",
    "import matplotlib.pyplot as plt\n",
    "import numpy as np\n",
    "\n",
    "fig, (ax1, ax2) = plt.subplots(1, 2, figsize=(12, 6), sharey=True)\n",
    "for sit_idx in [1, 4]:\n",
    "\tmodels, media = load_simple_models(sit_idx)\n",
    "\n",
    "\tf, F = iifba.iipfba(models, media, rel_abund=\"equal\", iters=10) # defualt values\n",
    "\n",
    "\tbiomass_id = \"exchangeBio1\"\n",
    "\tax1 = iifba.iifba_vis(F.loc[0,:][biomass_id], ax=ax1, line_lab=sit_idx)\n",
    "\tif sit_idx > 2:\n",
    "\t\tbiomass_id = \"exchangeBio2\"\n",
    "\t\tax2 = iifba.iifba_vis(F.loc[1,:][biomass_id], ax=ax2, line_lab=sit_idx)\n",
    "\telse:\n",
    "\t\tax2 = iifba.iifba_vis(np.zeros(10), ax=ax2, line_lab=sit_idx)\n",
    "\n"
   ]
  },
  {
   "cell_type": "code",
   "execution_count": 1,
   "id": "beafc014",
   "metadata": {},
   "outputs": [
    {
     "ename": "NameError",
     "evalue": "name 'ax1' is not defined",
     "output_type": "error",
     "traceback": [
      "\u001b[0;31m---------------------------------------------------------------------------\u001b[0m",
      "\u001b[0;31mNameError\u001b[0m                                 Traceback (most recent call last)",
      "Cell \u001b[0;32mIn[1], line 2\u001b[0m\n\u001b[1;32m      1\u001b[0m \u001b[38;5;28;01mfrom\u001b[39;00m \u001b[38;5;21;01mIPython\u001b[39;00m\u001b[38;5;21;01m.\u001b[39;00m\u001b[38;5;21;01mdisplay\u001b[39;00m \u001b[38;5;28;01mimport\u001b[39;00m display\n\u001b[0;32m----> 2\u001b[0m \u001b[38;5;28;01mfor\u001b[39;00m line \u001b[38;5;129;01min\u001b[39;00m \u001b[43max1\u001b[49m\u001b[38;5;241m.\u001b[39mget_lines():\n\u001b[1;32m      3\u001b[0m \tline\u001b[38;5;241m.\u001b[39mset_alpha(\u001b[38;5;241m0.75\u001b[39m)  \u001b[38;5;66;03m# Set transparency for all lines in ax1\u001b[39;00m\n\u001b[1;32m      4\u001b[0m \tline\u001b[38;5;241m.\u001b[39mset_lw(\u001b[38;5;241m2\u001b[39m)\n",
      "\u001b[0;31mNameError\u001b[0m: name 'ax1' is not defined"
     ]
    }
   ],
   "source": [
    "from IPython.display import display\n",
    "for line in ax1.get_lines():\n",
    "\tline.set_alpha(0.75)  # Set transparency for all lines in ax1\n",
    "\tline.set_lw(2)\n",
    "for line in ax2.get_lines():\n",
    "\tline.set_alpha(0.75)  # Set transparency for all lines in ax1\n",
    "\tline.set_lw(2)\n",
    "\n",
    "ax1.get_lines()[2].set_lw(4)# 5 overlaps with 3\n",
    "ax1.get_lines()[2].set_ls(\"--\")\n",
    "\n",
    "ax2.get_lines()[3].set_lw(4) # 5 overlaps with 4\n",
    "ax2.get_lines()[3].set_ls(\"--\")\n",
    "ax2.get_lines()[2].set_lw(4) # 6 overlaps with 3\n",
    "ax2.get_lines()[2].set_ls(\"--\")\n",
    "ax2.get_lines()[0].set_lw(0)\n",
    "ax2.get_lines()[1].set_lw(0)\n",
    "\n",
    "# Update legends\n",
    "ax1.legend(['Situation 1', 'Situation 2', 'Situation 3', 'Situation 4', 'Situation 5', \"Situation 6\"])\n",
    "ax2.legend(['Situation 1 (N/A)', 'Situation 2 (N/A)', 'Situation 3', 'Situation 4', 'Situation 5', \"Situation 6\"])\n",
    "\n",
    "# Method 3: Get and modify legend properties\n",
    "legend1 = ax1.get_legend()\n",
    "legend2 = ax2.get_legend()\n",
    "\n",
    "# Use display() to show the updated plot\n",
    "ax1.set_title(\"Biomass 1\")\n",
    "ax2.set_title(\"Biomass 2\")\n",
    "\n",
    "\n",
    "fig.tight_layout()\n",
    "fig.suptitle(r\"iiFBA Results for Various Situations\")\n",
    "display(fig)\n"
   ]
  },
  {
   "cell_type": "markdown",
   "id": "c3c8a1b3",
   "metadata": {},
   "source": [
    "## Compartmentalized FBA "
   ]
  },
  {
   "cell_type": "code",
   "execution_count": 4,
   "id": "8fbe9cf8",
   "metadata": {},
   "outputs": [
    {
     "name": "stderr",
     "output_type": "stream",
     "text": [
      "Ignoring reaction 'Ex_A' since it already exists.\n",
      "Ignoring reaction 'Ex_A' since it already exists.\n",
      "Ignoring reaction 'Ex_B' since it already exists.\n",
      "Ignoring reaction 'Ex_B' since it already exists.\n"
     ]
    },
    {
     "name": "stdout",
     "output_type": "stream",
     "text": [
      "\n",
      "Situation 1 Models:\n",
      "compartmentalized_sit2, Objective value: 10.0\n",
      "Ex_A              -10.0\n",
      "T_A_c1             10.0\n",
      "BiomassOrg1_c1     10.0\n",
      "exchangeBio1_c1    10.0\n",
      "Name: fluxes, dtype: float64\n",
      "\n",
      "Situation 2 Models:\n",
      "compartmentalized_sit3, Objective value: 20.0\n",
      "Ex_A              -10.0\n",
      "Ex_B                0.0\n",
      "T_A_c1             10.0\n",
      "T_B_c1              0.0\n",
      "BiomassFromA_c1    10.0\n",
      "BiomassFromB_c1    10.0\n",
      "exchangeBio1_c1    20.0\n",
      "Name: fluxes, dtype: float64\n",
      "\n",
      "Situation 3 Models:\n",
      "compartmentalized_sit4, Objective value: 10.0\n",
      "Ex_A              -10.0\n",
      "T_A_c1              0.0\n",
      "BiomassOrg1_c1      0.0\n",
      "exchangeBio1_c1     0.0\n",
      "T_A_c2             10.0\n",
      "BiomassOrg2_c2     10.0\n",
      "exchangeBio2_c2    10.0\n",
      "Name: fluxes, dtype: float64\n",
      "\n",
      "Situation 4 Models:\n",
      "compartmentalized_sit5, Objective value: 20.0\n",
      "Ex_A              -10.0\n",
      "T_A_c1             10.0\n",
      "BiomassOrg1_c1     10.0\n",
      "exchangeBio1_c1    10.0\n",
      "Ex_B              -10.0\n",
      "T_B_c2             10.0\n",
      "BiomassOrg2_c2     10.0\n",
      "exchangeBio2_c2    10.0\n",
      "Name: fluxes, dtype: float64\n",
      "\n",
      "Situation 5 Models:\n",
      "compartmentalized_sit6, Objective value: 20.0\n",
      "Ex_A              -10.0\n",
      "Ex_B                0.0\n",
      "T_A_c1             10.0\n",
      "T_B_c1             10.0\n",
      "BiomassFromA_c1    10.0\n",
      "exchangeBio1_c1    10.0\n",
      "T_A_c2              0.0\n",
      "T_B_c2            -10.0\n",
      "BiomassFromA_c2     0.0\n",
      "BiomassFromB_c2    10.0\n",
      "exchangeBio2_c2    10.0\n",
      "Name: fluxes, dtype: float64\n",
      "\n",
      "Situation 6 Models:\n",
      "compartmentalized_sit7, Objective value: 30.0\n",
      "Ex_A              -10.0\n",
      "Ex_B                0.0\n",
      "T_A_c1             10.0\n",
      "T_B_c1            -10.0\n",
      "BiomassFromA_c1    10.0\n",
      "BiomassFromB_c1    10.0\n",
      "exchangeBio1_c1    20.0\n",
      "Ex_C              -10.0\n",
      "T_C_c2             10.0\n",
      "T_B_c2             10.0\n",
      "BiomassFromC_c2    10.0\n",
      "exchangeBio2_c2    10.0\n",
      "Name: fluxes, dtype: float64\n"
     ]
    }
   ],
   "source": [
    "from cobra import Model\n",
    "\n",
    "for sit_idx in range(1, 7):\n",
    "\tmodels, media = load_simple_models(sit_idx)\n",
    "\tprint(f\"\\nSituation {sit_idx} Models:\")\n",
    "\tfor model in models:\n",
    "\t\tfor ex in model.exchanges:\n",
    "\t\t\tex.lower_bound = 0  # Set lower bound to 0 for all exchange reactions\n",
    "\t\tfor med_ex in media.keys():\n",
    "\t\t\tif med_ex in model.reactions:\n",
    "\t\t\t\tmodel.reactions.get_by_id(med_ex).lower_bound = media[med_ex]\n",
    "\t\t\t\t\n",
    "\n",
    "\tfor model_idx, model in enumerate(models):\n",
    "\t\t# Change compartments for each model so that models[i] uses e0 and c{i+1} compartments\n",
    "\t\tfor met in model.metabolites:\n",
    "\t\t\tif met.compartment == \"c\":\n",
    "\t\t\t\tmet.compartment = f\"c{model_idx+1}\"\n",
    "\t\t\t\tid = met.id.replace(\"bio1\", \"bio_c\").replace(\"bio2\", \"bio_c\").replace(\"_c\", f\"_c{model_idx+1}\")\n",
    "\t\t\t\tmet.id = id\n",
    "\t\t\n",
    "\t\tfor rxn in model.reactions:\n",
    "\t\t\t# Change the compartment of the reaction to match the new metabolite compartments\n",
    "\t\t\tfor met in rxn.metabolites.copy():\n",
    "\t\t\t\tif met.compartment.startswith(\"c\"):\n",
    "\t\t\t\t\tif not rxn.id.endswith(f\"_{met.compartment}\"):\n",
    "\t\t\t\t\t# Find the metabolite object with the new id in the model\n",
    "\t\t\t\t\t\trxn.id = rxn.id + f\"_{met.compartment}\"\n",
    "\n",
    "\t# Merge the two models into a single compartmentalized model\n",
    "\tcomp_model = Model(f\"compartmentalized_sit{sit_idx+1}\")\n",
    "\tfor m in models:\n",
    "\t\tcomp_model.add_metabolites([met.copy() for met in m.metabolites])\n",
    "\t\tcomp_model.add_reactions([rxn.copy() for rxn in m.reactions])\n",
    "\n",
    "\n",
    "\t# Example: print the objective value after optimizing the compartmentalized model\n",
    "\tobjective_reactions = [comp_model.reactions.get_by_id(f\"exchangeBio{i+1}_c{i+1}\") for i in range(len(models))]\n",
    "\tobjective_rxns_coef = [1] * len(objective_reactions)\n",
    "\n",
    "\t\t\t\n",
    "\tcomp_model.objective = dict(zip(objective_reactions, objective_rxns_coef))\n",
    "\n",
    "\tsolution = comp_model.optimize()\n",
    "\tprint(f\"{comp_model.id}, Objective value: {solution.objective_value}\")\n",
    "\tprint(solution.fluxes)"
   ]
  },
  {
   "cell_type": "markdown",
   "id": "360e72e6",
   "metadata": {},
   "source": [
    "**Sit 1 & 2 :**\n",
    "Matches\n",
    "\n",
    "**Sit 3:**\n",
    "Kinda Matches (obj matches, but flux divided incorrectly)\n",
    "Degenerate solution so any division of metA functions equally (all to the first is simplest)\n",
    "\n",
    "**Sit 4:**\n",
    "Matches\n",
    "\n",
    "**Sit 5:**\n",
    "Wrong because doesnt account for BiomassFromA_c2 using some A before BiomassFromA_c1 can get to it... 15 iiFBA makes more sense\n",
    "\n",
    "**Sit 6:**\n",
    "Matches"
   ]
  },
  {
   "cell_type": "markdown",
   "id": "b096fd09",
   "metadata": {},
   "source": [
    "situation   iifba bio1   cfba bio1   iifba bio2     cfba bio2       iifba sum    cfba sum\n",
    "1               10          10          na              na              10          10\n",
    "2               20          20          na              na              20          20\n",
    "3               5           10          5               0               10          10\n",
    "4               10          10          10              10              20          20\n",
    "5               5           10          10              10              15          20  \n",
    "6\t\t\t\t20\t\t\t20\t\t\t10\t\t\t\t10\t\t\t\t30\t\t\t30"
   ]
  },
  {
   "cell_type": "markdown",
   "id": "954749ca",
   "metadata": {},
   "source": [
    "## MICOM\n"
   ]
  },
  {
   "cell_type": "code",
   "execution_count": 32,
   "id": "46cecda9",
   "metadata": {},
   "outputs": [
    {
     "data": {
      "application/vnd.jupyter.widget-view+json": {
       "model_id": "a4d2b7c506424f5e879ccbcdc07775c7",
       "version_major": 2,
       "version_minor": 0
      },
      "text/plain": [
       "Output()"
      ]
     },
     "metadata": {},
     "output_type": "display_data"
    },
    {
     "data": {
      "text/html": [
       "<pre style=\"white-space:pre;overflow-x:auto;line-height:normal;font-family:Menlo,'DejaVu Sans Mono',consolas,'Courier New',monospace\"></pre>\n"
      ],
      "text/plain": []
     },
     "metadata": {},
     "output_type": "display_data"
    },
    {
     "data": {
      "text/html": [
       "<pre style=\"white-space:pre;overflow-x:auto;line-height:normal;font-family:Menlo,'DejaVu Sans Mono',consolas,'Courier New',monospace\"><span style=\"color: #7fbfbf; text-decoration-color: #7fbfbf\">[07/08/25 11:30:16] </span><span style=\"color: #808000; text-decoration-color: #808000\">WARNING </span> There does not seem to be any carbon source in your medium. Please    <a href=\"file:///home/rseag/anaconda3/envs/MBE2/lib/python3.10/site-packages/micom/community.py\" target=\"_blank\"><span style=\"color: #7f7f7f; text-decoration-color: #7f7f7f\">community.py</span></a><span style=\"color: #7f7f7f; text-decoration-color: #7f7f7f\">:</span><a href=\"file:///home/rseag/anaconda3/envs/MBE2/lib/python3.10/site-packages/micom/community.py#667\" target=\"_blank\"><span style=\"color: #7f7f7f; text-decoration-color: #7f7f7f\">667</span></a>\n",
       "<span style=\"color: #7fbfbf; text-decoration-color: #7fbfbf\">                    </span>         double-check your medium IDs.                                         <span style=\"color: #7f7f7f; text-decoration-color: #7f7f7f\">                </span>\n",
       "</pre>\n"
      ],
      "text/plain": [
       "\u001b[2;36m[07/08/25 11:30:16]\u001b[0m\u001b[2;36m \u001b[0m\u001b[33mWARNING \u001b[0m There does not seem to be any carbon source in your medium. Please    \u001b]8;id=20491;file:///home/rseag/anaconda3/envs/MBE2/lib/python3.10/site-packages/micom/community.py\u001b\\\u001b[2mcommunity.py\u001b[0m\u001b]8;;\u001b\\\u001b[2m:\u001b[0m\u001b]8;id=463716;file:///home/rseag/anaconda3/envs/MBE2/lib/python3.10/site-packages/micom/community.py#667\u001b\\\u001b[2m667\u001b[0m\u001b]8;;\u001b\\\n",
       "\u001b[2;36m                    \u001b[0m         double-check your medium IDs.                                         \u001b[2m                \u001b[0m\n"
      ]
     },
     "metadata": {},
     "output_type": "display_data"
    },
    {
     "name": "stdout",
     "output_type": "stream",
     "text": [
      "Solution alpha: 1.0\n",
      "              abundance  growth_rate  reactions  metabolites\n",
      "compartments                                                \n",
      "Org1                0.2     2.941176          4            3\n",
      "Org2                0.8    11.764706          4            3\n",
      "medium              NaN          NaN          1            1\n",
      "------------------------------------------------------------\n",
      "Solution alpha: 0.8\n",
      "              abundance  growth_rate  reactions  metabolites\n",
      "compartments                                                \n",
      "Org1                0.2     2.352941          4            3\n",
      "Org2                0.8     9.411765          4            3\n",
      "medium              NaN          NaN          1            1\n",
      "------------------------------------------------------------\n",
      "Solution alpha: 0.0\n",
      "              abundance  growth_rate  reactions  metabolites\n",
      "compartments                                                \n",
      "Org1                0.2     0.000004          4            3\n",
      "Org2                0.8     0.000004          4            3\n",
      "medium              NaN          NaN          1            1\n",
      "------------------------------------------------------------\n",
      "Ex_A__Org1: A_e__Org1 <-- 0.2 A_m\n",
      "T_A__Org1: A_e__Org1 <=> A_c__Org1\n",
      "BiomassOrg1__Org1: A_c__Org1 <=> bio1__Org1\n",
      "exchangeBio1__Org1: bio1__Org1 <=> \n",
      "EX_A_m: A_m <=> \n",
      "Ex_A__Org2: A_e__Org2 <=> 0.8 A_m\n",
      "T_A__Org2: A_e__Org2 <=> A_c__Org2\n",
      "BiomassOrg2__Org2: A_c__Org2 <=> bio2__Org2\n",
      "exchangeBio2__Org2: bio2__Org2 <=> \n",
      "{<Metabolite A_e__Org1 at 0x75c7bf54d5d0>: -1, <Metabolite A_m at 0x75c7bf54e7a0>: 0.2}\n"
     ]
    }
   ],
   "source": [
    "import pandas as pd\n",
    "import cobra\n",
    "from cobra.util.solver import linear_reaction_coefficients \n",
    "models, media = load_simple_models(3)\n",
    "\n",
    "community = pd.DataFrame({\n",
    "\t\"id\": [\"Org1\", \"Org2\"],\n",
    "\t\"file\": [\"../Examples/SImple_Models/sit_III_1.json\", \"../Examples/SImple_Models/sit_III_2.json\"],\n",
    "\t\"abundance\": [0.2, 0.8]\n",
    "})\n",
    "\n",
    "media = {\"EX_A_m\": 10}\n",
    "from micom import Community\n",
    "import micom\n",
    "community = Community(community)\n",
    "\n",
    "community.medium = media\n",
    "community.solver = \"gurobi\"\n",
    "\n",
    "\n",
    "\n",
    "solutions = community.cooperative_tradeoff(fraction=[1,0.8, 0], pfba=True)\n",
    "for idx, sol in enumerate(solutions[\"solution\"]):\n",
    "\tprint(f\"Solution alpha: {solutions['tradeoff'][idx]}\")\n",
    "\tprint(sol.members)\n",
    "\t#print(\"End Abundances:\", (sol.members[\"abundance\"] * sol.members[\"growth_rate\"]).to_numpy()[0:-1])\n",
    "\tprint(\"-\" * 60)\n",
    "\n",
    "for rxn in community.reactions:\n",
    "\tprint(rxn)\n",
    "\n",
    "print((community.reactions.get_by_id(\"Ex_A__Org1\").metabolites))"
   ]
  },
  {
   "cell_type": "code",
   "execution_count": 16,
   "id": "268fc528",
   "metadata": {},
   "outputs": [
    {
     "name": "stdout",
     "output_type": "stream",
     "text": [
      "Iterations set to: 10\n",
      "Relative abundances set to: [0.2 0.8]\n",
      "Iteration: 0\n",
      "Iteration: 1\n",
      "Iteration: 2\n",
      "Iteration: 3\n",
      "Iteration: 4\n",
      "Iteration: 5\n",
      "Iteration: 6\n",
      "Iteration: 7\n",
      "Iteration: 8\n",
      "Iteration: 9\n"
     ]
    },
    {
     "data": {
      "image/png": "[encoded data removed]",
      "text/plain": [
       "<Figure size 1200x600 with 2 Axes>"
      ]
     },
     "metadata": {},
     "output_type": "display_data"
    }
   ],
   "source": [
    "import iifba\n",
    "from iifba.utils import load_simple_models\n",
    "import matplotlib.pyplot as plt\n",
    "import numpy as np\n",
    "\n",
    "fig, (ax1, ax2) = plt.subplots(1, 2, figsize=(12, 6), sharey=True)\n",
    "\n",
    "models, media = load_simple_models(3)\n",
    "\n",
    "f, F = iifba.iipfba(models, media, rel_abund=[0.2,0.8], iters=10) # defualt values\n",
    "\n",
    "biomass_id = \"exchangeBio1\"\n",
    "ax1 = iifba.iifba_vis(F.loc[0,:][biomass_id], ax=ax1, line_lab=sit_idx)\n",
    "\n",
    "biomass_id = \"exchangeBio2\"\n",
    "ax2 = iifba.iifba_vis(F.loc[1,:][biomass_id], ax=ax2, line_lab=sit_idx)\n"
   ]
  }
 ],
 "metadata": {
  "kernelspec": {
   "display_name": "MBE2",
   "language": "python",
   "name": "python3"
  },
  "language_info": {
   "codemirror_mode": {
    "name": "ipython",
    "version": 3
   },
   "file_extension": ".py",
   "mimetype": "text/x-python",
   "name": "python",
   "nbconvert_exporter": "python",
   "pygments_lexer": "ipython3",
   "version": "3.10.15"
  }
 },
 "nbformat": 4,
 "nbformat_minor": 5
}
