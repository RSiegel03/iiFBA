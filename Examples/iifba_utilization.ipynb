{
 "cells": [
  {
   "cell_type": "markdown",
   "id": "8e32cbde",
   "metadata": {},
   "source": [
    "# Quick About iiFBA\n",
    "(MATH)"
   ]
  },
  {
   "cell_type": "markdown",
   "id": "09e44939",
   "metadata": {},
   "source": [
    "# Downloading (pip install)\n",
    "Import library"
   ]
  },
  {
   "cell_type": "markdown",
   "id": "d8e5893e",
   "metadata": {},
   "source": [
    "# loading models and media\n",
    "Show how to load simple and create your own"
   ]
  },
  {
   "cell_type": "markdown",
   "id": "6bb5f16b",
   "metadata": {},
   "source": [
    "# Show iiFBA implementation on Sit_1\n"
   ]
  },
  {
   "cell_type": "markdown",
   "id": "2732a1f8",
   "metadata": {},
   "source": [
    "# SHow iiFBA plotting"
   ]
  },
  {
   "cell_type": "markdown",
   "id": "b070c3ec",
   "metadata": {},
   "source": [
    "# Show altogether with EC alone\n",
    "SHow altogether with EC/BT\n"
   ]
  },
  {
   "cell_type": "code",
   "execution_count": null,
   "id": "d865a150",
   "metadata": {
    "vscode": {
     "languageId": "plaintext"
    }
   },
   "outputs": [],
   "source": []
  }
 ],
 "metadata": {
  "language_info": {
   "name": "python"
  }
 },
 "nbformat": 4,
 "nbformat_minor": 5
}
