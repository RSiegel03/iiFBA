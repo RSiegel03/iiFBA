{
 "cells": [
  {
   "cell_type": "markdown",
   "id": "e5d121da-9d14-4035-835a-22552d93c080",
   "metadata": {},
   "source": [
    "# Iterative Interaction Flux Balance Analysis (IIFBA)\n",
    "This code is a development environment for the IIFBA code.\n",
    "\n",
    "Iterative interaction FBA (IIFBA) simulates interactions between microbial organisms using an efficient iterative framework to capture competition and cross-feeding interactions."
   ]
  },
  {
   "cell_type": "markdown",
   "id": "410fb73f-5bb9-430e-9fc1-ed8756e77a8e",
   "metadata": {},
   "source": [
    "## Equations"
   ]
  },
  {
   "cell_type": "markdown",
   "id": "535dad0a-0a1b-41e7-9f32-d7722515f11f",
   "metadata": {},
   "source": [
    "#### Indexed Version:\n",
    "Original conceptualization of IIFBA equation\n",
    "\n",
    "$\\large{f_{n+1,j}=(1-\\alpha)[f_{n,j}-\\sum_{i} R_{i} F_{n,i,j}(f_{n,j},S_i)]+\\alpha f_{0,j}}$\n",
    "\n",
    "* Variables:\n",
    "    * $f_{n,j}$: the exchange flux bound for j-th metabolite in n-th environment iteration\n",
    "    * $R_{i}$: relative abundance of i-th organism\n",
    "    * $F_{n,i,j}$: exchange flux of i-th organism for j-th metablite simulated in environment iteration n, as a function of the exchange flux bounds and metabolic model $S_i$\n",
    "* Parameters:\n",
    "    * $\\alpha$: flow factor (trade-off between updated and original environment)\n",
    "* Input:\n",
    "    * $f_{0,j}$: exchange flux bounds for j-th metabolite in initial environment\n",
    "    * $R$: relative abundance vector\n",
    "    * $S$: metabolic models\n",
    "* Output:\n",
    "    * F: flux list with matrix of fluxes by iteration for each organism\n",
    "    * f: environment fluxes, matrix of exchange fluxes by iteration"
   ]
  },
  {
   "cell_type": "markdown",
   "id": "4a4a273c-e9b8-4b05-945d-1687e00103ab",
   "metadata": {},
   "source": [
    "#### Matrix Version:\n",
    "Vectorized form of the IIFBA equation\n",
    "\n",
    "$\\large{f_{n+1}=(1-\\alpha)[f_{n}- R F_{n}(f_{n},S)]+\\alpha f_{0}}$\n",
    "\n",
    "* Matrix Variables:\n",
    "    * $f_{n}$: vector of exchange flux bounds for all metabolites in n-th environment iteration\n",
    "    * $R$: vector of relative abundances for all organisms\n",
    "    * $F_{n}$: matrix of organisms by exchanges for  fluxes simulated in n-th environment iteration as a function of the exchange flux bounds and organism metabolic models $S$\n",
    "* Parameters:\n",
    "    * $\\alpha$: flow factor (trade-off between updated and original environment)\n",
    "* Input:\n",
    "    * $f_{0}$: exchange flux bounds vector for initial environment\n",
    "    * $R$: relative abundance vector\n",
    "* Output:\n",
    "    * F: flux list with matrix of fluxes by iteration for each organism\n",
    "    * f: environment fluxes, matrix of exchange fluxes by iteration"
   ]
  },
  {
   "cell_type": "markdown",
   "id": "4590fe5d-afe2-42b7-835c-14cf7d163228",
   "metadata": {},
   "source": [
    "#### Sampling Indexed Version:\n",
    "This version of the equation includes multiple runs of flux simulation (for example: flux sampling). Two new parameters are introduced ($m1$ and $m2$) to control the sampling process. Note that the runs must be randomly down sampled at each itteration to avoid an exponential explosion of flux calculations.\n",
    "\n",
    "$\\large{f_{n+1,j,m}=(1-\\alpha)[f_{n,j,M_n}-\\sum_{i} R_{i} F_{n,i,j,m}(f_{n,j,M_n},S_i)]+\\alpha f_{0,j}}$\n",
    "\n",
    "* Variables:\n",
    "    * $f_{n,j,m}$: the exchange flux bound for j-th metabolite in n-th environment iteration, for the m-th run\n",
    "    * $f_{n,j,M_n}$ the exchange flux bound for the j-th metabolite in the n-th environment iteration for the initial point mapped by the $M$ matrix for the n-th iteration\n",
    "    * $R_{i}$: relative abundance of i-th organism\n",
    "    * $F_{n,i,j}$: exchange flux of i-th organism for j-th metablite simulated in environment iteration n, for flux run m as a function of the exchange flux bounds and organism metabolic model $S_i$\n",
    "* Parameters:\n",
    "    * $\\alpha$: flow factor (trade-off between updated and original environment)\n",
    "    * $m1$: number of initial points to use at each iteration\n",
    "    * $m2$: number of flux runs per initial point (Note: the total number of flux runs at each iteration will be equal to $m1*m2=m$)\n",
    "    * M: initial point mapping matrix that of m (flux runs) by n (iterations) that maps the initial point from the previous iteration for each flux run\n",
    "* Input:\n",
    "    * $f_{0,j}$: exchange flux bounds for j-th metabolite in initial environment\n",
    "    * $R$: relative abundance vector\n",
    "* Output:\n",
    "    * F: flux list with matrix of fluxes by iteration and sample for each organism\n",
    "    * f: environment fluxes, matrix of exchange fluxes by iteration"
   ]
  },
  {
   "cell_type": "markdown",
   "id": "c9b4dc84-c0e0-4c50-8cfb-4db5da324a5f",
   "metadata": {},
   "source": [
    "#### Sampling Matrix Version:\n",
    "This version of the equation includes multiple runs of flux simulation (for example: flux sampling). Two new parameters are introduced ($m1$ and $m2$) to control the sampling process. Note that the runs must be randomly down sampled at each itteration to avoid an exponential explosion of flux calculations.\n",
    "\n",
    "$\\large{f_{n+1,m}=[1-\\alpha][f_{n,M_n}- R F_{n,m}(f_{n,M_n},S)]+\\alpha f_{0}}$\n",
    "\n",
    "* Matrix Variables:\n",
    "    * $f_{n,m}$: vector of exchange flux bounds for all metabolites in n-th environment iteration and m-th run\n",
    "    * $f_{n,M_n}$ the exchange flux bounds for all metabolites in the n-th environment iteration for the initial point mapped by the $M$ matrix for the n-th iteration\n",
    "    * $R$: vector of relative abundances for all organisms\n",
    "    * $F_{n}$: matrix of organisms by exchanges for  fluxes simulated in n-th environment iteration as a function of the exchange flux bounds and organism metabolic models $S$\n",
    "* Parameters:\n",
    "    * $\\alpha$: flow factor (trade-off between updated and original environment)\n",
    "    * $m1$: number of initial points to use at each iteration\n",
    "    * $m2$: number of flux runs per initial point (Note: the total number of flux runs at each iteration will be equal to $m1*m2=m$)\n",
    "    * M: initial point mapping matrix that of m (flux runs) by n (iterations) that maps the initial point from the previous iteration for each flux run\n",
    "* Input:\n",
    "    * $f_{0}$: exchange flux bounds vector for initial environment\n",
    "    * $R$: relative abundance vector\n",
    "* Output:\n",
    "    * F: flux list with matrix of fluxes by iteration and sample for each organism\n",
    "    * f: environment fluxes, matrix of exchange fluxes by iteration\n"
   ]
  },
  {
   "cell_type": "markdown",
   "id": "c39a062c-9d27-40d6-9f30-35a467abbc43",
   "metadata": {},
   "source": [
    "## Code"
   ]
  },
  {
   "cell_type": "markdown",
   "id": "fd45d25b-6603-4b49-aeb8-d7fdc0c9b657",
   "metadata": {},
   "source": [
    "### Example 1: Self Interaction"
   ]
  },
  {
   "cell_type": "code",
   "execution_count": 3,
   "id": "13e9f8e4-46b3-4d53-bb32-25987d8d03f2",
   "metadata": {},
   "outputs": [
    {
     "name": "stdout",
     "output_type": "stream",
     "text": [
      "Once deleted, variables cannot be recovered. Proceed (y/[n])?  y\n"
     ]
    }
   ],
   "source": [
    "%reset"
   ]
  },
  {
   "cell_type": "code",
   "execution_count": 1,
   "id": "1c0752cd-a5e3-4ad8-aef8-dc0db8f3912f",
   "metadata": {},
   "outputs": [],
   "source": [
    "import cobra as cb\n",
    "import numpy as np\n",
    "import pandas as pd"
   ]
  },
  {
   "cell_type": "code",
   "execution_count": 3,
   "id": "82d6ba56-7e3e-412e-af88-ae38dff90251",
   "metadata": {},
   "outputs": [
    {
     "name": "stderr",
     "output_type": "stream",
     "text": [
      "No defined compartments in model model. Compartments will be deduced heuristically using regular expressions.\n",
      "Using regular expression found the following compartments:c, e, p\n"
     ]
    }
   ],
   "source": [
    "# model_pre_processing\n",
    "#mod_paths = ['/Users/david/Dropbox/My_Stuff/UVM_2/Lab/Projects/AGORA2_Metabolic_Models/AGORA2_annotatedMat_D_F/Escherichia_coli_str_K_12_substr_MG1655.mat']\n",
    "mod_paths = ['../AGORA2_Models/Escherichia_coli_str_K_12_substr_MG1655.mat']#\n",
    "S = [] #list of models\n",
    "# Load Models and Save in S vector\n",
    "for i in range(len(mod_paths)):\n",
    "    model = cb.io.load_matlab_model(mod_paths[i])\n",
    "    S.append(model) #append models to list"
   ]
  },
  {
   "cell_type": "code",
   "execution_count": 4,
   "id": "45d36a46-6bed-4582-91ec-33691792cf9a",
   "metadata": {},
   "outputs": [],
   "source": [
    "# Define input environment f_0\n",
    "# this should be defined as a pandas dataframe with columns \"Reaction\" and \"LB\"\n",
    "# glucose minimal medium\n",
    "# Define Medium Components\n",
    "glc_min_med = ['EX_glc_D(e)','EX_so4(e)','EX_nh4(e)','EX_no3(e)','EX_pi(e)','EX_cys_L(e)',\n",
    "               'EX_mn2(e)','EX_cl(e)','EX_ca2(e)','EX_mg2(e)','EX_cu2(e)','EX_cobalt2(e)','EX_fe2(e)','EX_fe3(e)','EX_zn2(e)','EX_k(e)']\n",
    "# Define medium uptake flux bounds\n",
    "glc_min_med_flux = [-10,-100,-100,-100,-100,-100,\n",
    "                    -100,-100,-100,-100,-100,-100,-100,-100,-100,-100]\n",
    "glc_f0 = pd.DataFrame(data={'Reaction': glc_min_med,'LB': glc_min_med_flux})"
   ]
  },
  {
   "cell_type": "code",
   "execution_count": 5,
   "id": "f02a4b7b-20d2-4078-81e0-f600dba7c040",
   "metadata": {},
   "outputs": [
    {
     "name": "stdout",
     "output_type": "stream",
     "text": [
      "iteration: 0\n",
      "organism: 0\n",
      "iteration: 1\n",
      "organism: 0\n",
      "iteration: 2\n",
      "organism: 0\n",
      "iteration: 3\n",
      "organism: 0\n",
      "iteration: 4\n",
      "organism: 0\n",
      "iteration: 5\n",
      "organism: 0\n",
      "iteration: 6\n",
      "organism: 0\n",
      "iteration: 7\n",
      "organism: 0\n",
      "iteration: 8\n",
      "organism: 0\n",
      "iteration: 9\n",
      "organism: 0\n"
     ]
    }
   ],
   "source": [
    "# iterative fba (sampling or non-sampling)\n",
    "# input/parameters\n",
    "sol_fun = 'pfba' #sampling or pfba. If pfba, m1 and m2 = 1\n",
    "f_0 = glc_f0\n",
    "n = 10 # number of iterations\n",
    "m1 = 1 # number of initial points to use at each iteration\n",
    "m2 = 1 # number of runs\n",
    "M = np.zeros([m1,n-1],dtype=int) #randomly pre-assign sampling initial point matrix\n",
    "for i in range(n-1):\n",
    "    Mcol = np.sort(np.random.choice(m1*m2,m1,replace=False))\n",
    "    M[:,i]=Mcol\n",
    "alpha = 0.5\n",
    "R = [1]\n",
    "\n",
    "# Function\n",
    "# output\n",
    "# initialize environment flux dataframe\n",
    "# Index\n",
    "arrays = [[0]*m1*m2,list(range(m1*m2))]\n",
    "tuples = list(zip(*arrays))\n",
    "multi_idx = pd.MultiIndex.from_tuples(tuples,names=['iteration','run'])\n",
    "# Columns\n",
    "cols = set()\n",
    "for ii in range(len(S)):\n",
    "    for ji in range(len(S[ii].exchanges)):\n",
    "        cols.add(S[ii].exchanges[ji].id)\n",
    "f = pd.DataFrame([np.zeros(len(cols))],columns=list(cols),index=multi_idx,dtype=float)\n",
    "for ji in range(len(f_0)):\n",
    "    exid = f_0.iloc[ji]['Reaction']\n",
    "    ex_flux = f_0.iloc[ji]['LB']\n",
    "    f.loc[:,exid] = ex_flux\n",
    "\n",
    "# initialize organism flux dataframes\n",
    "F = []\n",
    "\n",
    "for ni in range(n): #iteration\n",
    "    print('iteration:',ni)\n",
    "    if ni == 0: #first iteration\n",
    "        # run fba for each model in environment n\n",
    "        for ii in range(len(S)):\n",
    "            print('organism:',ii)\n",
    "            with S[ii] as model_t: #get model from list of models S\n",
    "                # Re-set Exchanges (just to be safe)\n",
    "                for ex in model_t.exchanges:\n",
    "                    ex.lower_bound = 0\n",
    "                    ex.upper_bound = 1000\n",
    "                # Set Environment\n",
    "                for exi in range(len(f.columns)):\n",
    "                    ex_lb = f.loc[(0,0)][f.columns[exi]] #initial environment is the same for all runs, so use the 0th run\n",
    "                    if ex_lb != 0:\n",
    "                        ex_id = f.columns[exi]\n",
    "                        if ex_id in model_t.exchanges:\n",
    "                            model_t.exchanges.get_by_id(ex_id).lower_bound = ex_lb\n",
    "\n",
    "                if sol_fun == 'pfba':\n",
    "                    multi_idx = pd.MultiIndex.from_tuples([(0,0)],names=[\"iteration\",\"run\"])                                       \n",
    "                    # run pFBA\n",
    "                    sol1 = model_t.slim_optimize()\n",
    "                    if sol1 > 0.001:\n",
    "                        sol = cb.flux_analysis.parsimonious.pfba(model_t)\n",
    "                        # standardize and save output                   \n",
    "                        df = pd.DataFrame([sol.fluxes],columns=sol.fluxes.index,index=multi_idx)\n",
    "                        F.append(df)\n",
    "                    else:\n",
    "                        rxnid = []\n",
    "                        for i in range(len(S[ii].reactions)): rxnid.append(S[ii].reactions[i].id)\n",
    "                        df = pd.DataFrame([np.zeros(len(S[ii].reactions))],columns=rxnid,index=multi_idx)\n",
    "                        F.append(df)\n",
    "                \n",
    "                if sol_fun == 'sampling':\n",
    "                    # run flux sampling\n",
    "                    sol = cb.sampling.sample(model_t,m1*m2)\n",
    "                    # standardize and save output\n",
    "                    arrays = [[0]*m1*m2,list(sol.index)]\n",
    "                    tuples = list(zip(*arrays))\n",
    "                    multi_idx = pd.MultiIndex.from_tuples(tuples,names=['iteration','run'])\n",
    "                    sol.index = multi_idx\n",
    "                    F.append(sol)\n",
    "            \n",
    "        # update f\n",
    "        for mi in range(m1*m2): \n",
    "            df_t = f.loc[[(0,0)]].copy(deep=True) #temporary dataframe for base environment from iteration 0,0\n",
    "            for ji in range(len(f.columns)):# for each exchange flux in environment\n",
    "                i_sum = 0\n",
    "                flux_id = f.columns[ji]\n",
    "                for ii in range(len(S)):# for each organism sum up flux * relative abundance\n",
    "                    if flux_id in S[ii].exchanges:\n",
    "                        if F[ii].loc[(0,mi)][flux_id] != 0:\n",
    "                            i_sum = i_sum + F[ii].loc[(0,mi)][flux_id] * R[ii]\n",
    "                df_t.loc[(0,0),flux_id] = (1-alpha)*(f.loc[(0,0)][flux_id].item()-i_sum) + alpha*f.loc[(0,0)][flux_id].item() # update flux\n",
    "            #re-index tmp dataframe\n",
    "            multi_idx = pd.MultiIndex.from_tuples([(1,mi)],names=[\"iteration\",\"run\"])\n",
    "            df_tt = pd.DataFrame([df_t.loc[(0,0)]],columns = df_t.columns, index = multi_idx)\n",
    "            f = pd.concat([f,df_tt])\n",
    "\n",
    "    else:\n",
    "        for m1i in range(m1): #run with different initial points       \n",
    "            # run fba for each model in environment n set by M matrix\n",
    "            Mi = M[m1i,ni-1] #mapping\n",
    "            for ii in range(len(S)):\n",
    "                print('organism:',ii)\n",
    "                with S[ii] as model_t: #get model from list of models S\n",
    "                    # Re-set Exchanges (just to be safe)\n",
    "                    for ex in model_t.exchanges:\n",
    "                        ex.lower_bound = 0\n",
    "                        ex.upper_bound = 1000\n",
    "                    # Set Environment\n",
    "                    for exi in range(len(f.columns)):\n",
    "                        ex_lb = f.loc[(ni,Mi)][f.columns[exi]]\n",
    "                        if ex_lb != 0:\n",
    "                            ex_id = f.columns[exi]\n",
    "                            if ex_id in model_t.exchanges:\n",
    "                                model_t.exchanges.get_by_id(ex_id).lower_bound = ex_lb\n",
    "    \n",
    "                    if sol_fun == 'pfba':\n",
    "                        multi_idx = pd.MultiIndex.from_tuples([(ni,0)],names=[\"iteration\",\"run\"])\n",
    "                        # run pFBA\n",
    "                        sol1 = model_t.slim_optimize()\n",
    "                        if sol1 > 0.001:\n",
    "                            sol = cb.flux_analysis.parsimonious.pfba(model_t)\n",
    "                            # standardize and save output                   \n",
    "                            df = pd.DataFrame([sol.fluxes],columns=sol.fluxes.index,index=multi_idx)\n",
    "                            F[ii] = pd.concat([F[ii],df])\n",
    "                        else:\n",
    "                            rxnid = []\n",
    "                            for i in range(len(S[ii].reactions)): rxnid.append(S[ii].reactions[i].id)\n",
    "                            df = pd.DataFrame([np.zeros(len(S[ii].reactions))],columns=rxnid,index=multi_idx)\n",
    "                            F[ii] = pd.concat([F[ii],df])\n",
    "                            \n",
    "                    if sol_fun == 'sampling':\n",
    "                        # run flux sampling\n",
    "                        sol = cb.sampling.sample(model_t,m2)\n",
    "                        # standardize and save output\n",
    "                        arrays = [[ni]*m1*m2,list(sol.index+m1i*m2)]\n",
    "                        tuples = list(zip(*arrays))\n",
    "                        multi_idx = pd.MultiIndex.from_tuples(tuples,names=['iteration','run'])\n",
    "                        sol.index = multi_idx\n",
    "                        F[ii] = pd.concat([F[ii],sol])\n",
    "\n",
    "            # update f\n",
    "            for m2i in range(m2):\n",
    "                df_t = f.loc[[(ni,Mi)]].copy(deep=True) #temporary dataframe for base environment from iteration 0,0\n",
    "                for ji in range(len(f.columns)):# for each exchange flux in environment\n",
    "                    i_sum = 0\n",
    "                    flux_id = f.columns[ji]\n",
    "                    for ii in range(len(S)):# for each organism sum up flux * relative abundance\n",
    "                        if flux_id in S[ii].exchanges:\n",
    "                            if F[ii].loc[(ni,m2i+m1i*m2)][flux_id] != 0:\n",
    "                                i_sum = i_sum + F[ii].loc[(ni,m2i+m1i*m2)][flux_id] * R[ii]\n",
    "                    df_t.loc[(ni,Mi),flux_id] = (1-alpha)*(f.loc[(ni,Mi)][flux_id].item()-i_sum) + alpha*f.loc[(0,0)][flux_id].item() # update flux\n",
    "                #re-index tmp dataframe\n",
    "                multi_idx = pd.MultiIndex.from_tuples([(ni+1,m2i+m1i*m2)],names=[\"iteration\",\"run\"])\n",
    "                df_tt = pd.DataFrame([df_t.loc[(ni,Mi)]],columns = df_t.columns, index = multi_idx)\n",
    "                f = pd.concat([f,df_tt])"
   ]
  },
  {
   "cell_type": "code",
   "execution_count": 8,
   "id": "caa9d1bd-5b5f-4e9f-9074-27a5a23311bf",
   "metadata": {},
   "outputs": [
    {
     "data": {
      "text/plain": [
       "iteration  run\n",
       "0          0     -10.0\n",
       "1          0      -5.0\n",
       "2          0      -5.0\n",
       "3          0      -5.0\n",
       "4          0      -5.0\n",
       "5          0      -5.0\n",
       "6          0      -5.0\n",
       "7          0      -5.0\n",
       "8          0      -5.0\n",
       "9          0      -5.0\n",
       "10         0      -5.0\n",
       "Name: EX_glc_D(e), dtype: float64"
      ]
     },
     "execution_count": 8,
     "metadata": {},
     "output_type": "execute_result"
    }
   ],
   "source": [
    "f['EX_glc_D(e)']"
   ]
  },
  {
   "cell_type": "code",
   "execution_count": 9,
   "id": "3807d6e4-23f8-49c0-b1b7-a9668a0a192f",
   "metadata": {},
   "outputs": [
    {
     "data": {
      "text/plain": [
       "iteration  run\n",
       "0          0      0.0\n",
       "1          0      0.0\n",
       "2          0      0.0\n",
       "3          0      0.0\n",
       "4          0      0.0\n",
       "5          0      0.0\n",
       "6          0      0.0\n",
       "7          0      0.0\n",
       "8          0      0.0\n",
       "9          0      0.0\n",
       "10         0      0.0\n",
       "Name: EX_ac(e), dtype: float64"
      ]
     },
     "execution_count": 9,
     "metadata": {},
     "output_type": "execute_result"
    }
   ],
   "source": [
    "f['EX_ac(e)']"
   ]
  },
  {
   "cell_type": "code",
   "execution_count": 10,
   "id": "acc56c98-0daf-4f7b-8b0c-1e5d32904d95",
   "metadata": {},
   "outputs": [
    {
     "data": {
      "text/plain": [
       "iteration  run\n",
       "0          0      0.784637\n",
       "1          0      0.392319\n",
       "2          0      0.392319\n",
       "3          0      0.392319\n",
       "4          0      0.392319\n",
       "5          0      0.392319\n",
       "6          0      0.392319\n",
       "7          0      0.392319\n",
       "8          0      0.392319\n",
       "9          0      0.392319\n",
       "Name: biomass525, dtype: float64"
      ]
     },
     "execution_count": 10,
     "metadata": {},
     "output_type": "execute_result"
    }
   ],
   "source": [
    "F[0]['biomass525']"
   ]
  },
  {
   "cell_type": "code",
   "execution_count": 11,
   "id": "cae23587-cbbc-41f8-99ab-a85870ce6dd5",
   "metadata": {},
   "outputs": [
    {
     "data": {
      "text/plain": [
       "iteration  run\n",
       "0          0     -10.0\n",
       "1          0      -5.0\n",
       "2          0      -5.0\n",
       "3          0      -5.0\n",
       "4          0      -5.0\n",
       "5          0      -5.0\n",
       "6          0      -5.0\n",
       "7          0      -5.0\n",
       "8          0      -5.0\n",
       "9          0      -5.0\n",
       "Name: EX_glc_D(e), dtype: float64"
      ]
     },
     "execution_count": 11,
     "metadata": {},
     "output_type": "execute_result"
    }
   ],
   "source": [
    "F[0]['EX_glc_D(e)']"
   ]
  },
  {
   "cell_type": "code",
   "execution_count": 12,
   "id": "07fc2875-522a-4ce2-a9f5-ab10a52518e8",
   "metadata": {},
   "outputs": [
    {
     "data": {
      "text/plain": [
       "iteration  run\n",
       "0          0      0.0\n",
       "1          0      0.0\n",
       "2          0      0.0\n",
       "3          0      0.0\n",
       "4          0      0.0\n",
       "5          0      0.0\n",
       "6          0      0.0\n",
       "7          0      0.0\n",
       "8          0      0.0\n",
       "9          0      0.0\n",
       "Name: EX_ac(e), dtype: float64"
      ]
     },
     "execution_count": 12,
     "metadata": {},
     "output_type": "execute_result"
    }
   ],
   "source": [
    "F[0]['EX_ac(e)']"
   ]
  },
  {
   "cell_type": "code",
   "execution_count": 13,
   "id": "297d77f5-8af6-46ca-adb3-b3bb358f0add",
   "metadata": {},
   "outputs": [],
   "source": [
    "# Save F and f with pickle\n",
    "import pickle\n",
    "with open('Ff_single.pkl', 'wb') as file:\n",
    "    pickle.dump([F,f], file)\n"
   ]
  },
  {
   "cell_type": "code",
   "execution_count": null,
   "id": "d652c545-bf88-4ae3-973a-f021ee29c7e3",
   "metadata": {},
   "outputs": [],
   "source": []
  },
  {
   "cell_type": "markdown",
   "id": "d841fd92-0f4a-4aa0-a096-812c810a3e51",
   "metadata": {},
   "source": [
    "### Example 2: Pairwise Interaction"
   ]
  },
  {
   "cell_type": "code",
   "execution_count": 14,
   "id": "092b7ec8-6f35-4f4c-8e71-e6664ed7ad10",
   "metadata": {},
   "outputs": [
    {
     "name": "stdout",
     "output_type": "stream",
     "text": [
      "Once deleted, variables cannot be recovered. Proceed (y/[n])?  y\n"
     ]
    }
   ],
   "source": [
    "%reset"
   ]
  },
  {
   "cell_type": "code",
   "execution_count": 15,
   "id": "6eb12643-ee32-4a47-a439-5b4735f8f36a",
   "metadata": {},
   "outputs": [],
   "source": [
    "import cobra as cb\n",
    "import numpy as np\n",
    "import pandas as pd"
   ]
  },
  {
   "cell_type": "code",
   "execution_count": 16,
   "id": "66abb169-d947-42f4-9157-8dfb766a5c0c",
   "metadata": {},
   "outputs": [
    {
     "name": "stderr",
     "output_type": "stream",
     "text": [
      "No defined compartments in model model. Compartments will be deduced heuristically using regular expressions.\n",
      "Using regular expression found the following compartments:c, e, p\n",
      "No defined compartments in model model. Compartments will be deduced heuristically using regular expressions.\n",
      "Using regular expression found the following compartments:c, e, p\n"
     ]
    }
   ],
   "source": [
    "# model_pre_processing\n",
    "mod_paths = ['/Users/david/Dropbox/My_Stuff/UVM_2/Lab/Projects/AGORA2_Metabolic_Models/AGORA2_annotatedMat_D_F/Escherichia_coli_str_K_12_substr_MG1655.mat',\n",
    "             '/Users/david/Dropbox/My_Stuff/UVM_2/Lab/Projects/AGORA2_Metabolic_Models/AGORA2_annotatedMat_A_C/Bacteroides_thetaiotaomicron_3731.mat']\n",
    "S = [] #list of models\n",
    "# Load Models and Save in S vector\n",
    "for i in range(len(mod_paths)):\n",
    "    model = cb.io.load_matlab_model(mod_paths[i])\n",
    "    S.append(model) #append models to list"
   ]
  },
  {
   "cell_type": "code",
   "execution_count": 17,
   "id": "95caab92-01d5-4032-8872-eac20ae66e91",
   "metadata": {},
   "outputs": [],
   "source": [
    "# Define input environment f_0\n",
    "# this should be defined as a pandas dataframe with columns \"Reaction\" and \"LB\"\n",
    "# glucose minimal medium\n",
    "# Define Medium Components\n",
    "glc_min_med = ['EX_glc_D(e)','EX_so4(e)','EX_nh4(e)','EX_no3(e)','EX_pi(e)','EX_cys_L(e)',\n",
    "               'EX_mn2(e)','EX_cl(e)','EX_ca2(e)','EX_mg2(e)','EX_cu2(e)','EX_cobalt2(e)','EX_fe2(e)','EX_fe3(e)','EX_zn2(e)','EX_k(e)']\n",
    "# Define medium uptake flux bounds\n",
    "glc_min_med_flux = [-10,-100,-100,-100,-100,-100,\n",
    "                    -100,-100,-100,-100,-100,-100,-100,-100,-100,-100]\n",
    "glc_f0 = pd.DataFrame(data={'Reaction': glc_min_med,'LB': glc_min_med_flux})"
   ]
  },
  {
   "cell_type": "code",
   "execution_count": 18,
   "id": "6ff82824-8a33-46eb-8f25-d3272cee37c5",
   "metadata": {
    "scrolled": true
   },
   "outputs": [
    {
     "name": "stdout",
     "output_type": "stream",
     "text": [
      "iteration: 0\n",
      "organism: 0\n",
      "organism: 1\n",
      "iteration: 1\n",
      "organism: 0\n",
      "organism: 1\n",
      "iteration: 2\n",
      "organism: 0\n",
      "organism: 1\n",
      "iteration: 3\n",
      "organism: 0\n",
      "organism: 1\n",
      "iteration: 4\n",
      "organism: 0\n",
      "organism: 1\n",
      "iteration: 5\n",
      "organism: 0\n",
      "organism: 1\n",
      "iteration: 6\n",
      "organism: 0\n",
      "organism: 1\n",
      "iteration: 7\n",
      "organism: 0\n",
      "organism: 1\n",
      "iteration: 8\n",
      "organism: 0\n",
      "organism: 1\n",
      "iteration: 9\n",
      "organism: 0\n",
      "organism: 1\n"
     ]
    }
   ],
   "source": [
    "# iterative fba (sampling or non-sampling)\n",
    "# input/parameters\n",
    "sol_fun = 'pfba' #sampling or pfba. If pfba, m1 and m2 = 1\n",
    "f_0 = glc_f0\n",
    "n = 10 # number of iterations\n",
    "m1 = 1 # number of initial points to use at each iteration\n",
    "m2 = 1 # number of runs\n",
    "M = np.zeros([m1,n-1],dtype=int) #randomly pre-assign sampling initial point matrix\n",
    "for i in range(n-1):\n",
    "    Mcol = np.sort(np.random.choice(m1*m2,m1,replace=False))\n",
    "    M[:,i]=Mcol\n",
    "alpha = 0.5\n",
    "R = [0.5,0.5]\n",
    "\n",
    "# Function\n",
    "# output\n",
    "# initialize environment flux dataframe\n",
    "# Index\n",
    "arrays = [[0]*m1*m2,list(range(m1*m2))]\n",
    "tuples = list(zip(*arrays))\n",
    "multi_idx = pd.MultiIndex.from_tuples(tuples,names=['iteration','run'])\n",
    "# Columns\n",
    "cols = set()\n",
    "for ii in range(len(S)):\n",
    "    for ji in range(len(S[ii].exchanges)):\n",
    "        cols.add(S[ii].exchanges[ji].id)\n",
    "f = pd.DataFrame([np.zeros(len(cols))],columns=list(cols),index=multi_idx,dtype=float)\n",
    "for ji in range(len(f_0)):\n",
    "    exid = f_0.iloc[ji]['Reaction']\n",
    "    ex_flux = f_0.iloc[ji]['LB']\n",
    "    f.loc[:,exid] = ex_flux\n",
    "\n",
    "# initialize organism flux dataframes\n",
    "F = []\n",
    "\n",
    "for ni in range(n): #iteration\n",
    "    print('iteration:',ni)\n",
    "    if ni == 0: #first iteration\n",
    "        # run fba for each model in environment n\n",
    "        for ii in range(len(S)):\n",
    "            print('organism:',ii)\n",
    "            with S[ii] as model_t: #get model from list of models S\n",
    "                # Re-set Exchanges (just to be safe)\n",
    "                for ex in model_t.exchanges:\n",
    "                    ex.lower_bound = 0\n",
    "                    ex.upper_bound = 1000\n",
    "                # Set Environment\n",
    "                for exi in range(len(f.columns)):\n",
    "                    ex_lb = f.loc[(0,0)][f.columns[exi]] #initial environment is the same for all runs, so use the 0th run\n",
    "                    if ex_lb != 0:\n",
    "                        ex_id = f.columns[exi]\n",
    "                        if ex_id in model_t.exchanges:\n",
    "                            model_t.exchanges.get_by_id(ex_id).lower_bound = ex_lb\n",
    "\n",
    "                if sol_fun == 'pfba':\n",
    "                    multi_idx = pd.MultiIndex.from_tuples([(0,0)],names=[\"iteration\",\"run\"])                                       \n",
    "                    # run pFBA\n",
    "                    sol1 = model_t.slim_optimize()\n",
    "                    if sol1 > 0.001:\n",
    "                        sol = cb.flux_analysis.parsimonious.pfba(model_t)\n",
    "                        # standardize and save output                   \n",
    "                        df = pd.DataFrame([sol.fluxes],columns=sol.fluxes.index,index=multi_idx)\n",
    "                        F.append(df)\n",
    "                    else:\n",
    "                        rxnid = []\n",
    "                        for i in range(len(S[ii].reactions)): rxnid.append(S[ii].reactions[i].id)\n",
    "                        df = pd.DataFrame([np.zeros(len(S[ii].reactions))],columns=rxnid,index=multi_idx)\n",
    "                        F.append(df)\n",
    "                \n",
    "                if sol_fun == 'sampling':\n",
    "                    # run flux sampling\n",
    "                    sol = cb.sampling.sample(model_t,m1*m2)\n",
    "                    # standardize and save output\n",
    "                    arrays = [[0]*m1*m2,list(sol.index)]\n",
    "                    tuples = list(zip(*arrays))\n",
    "                    multi_idx = pd.MultiIndex.from_tuples(tuples,names=['iteration','run'])\n",
    "                    sol.index = multi_idx\n",
    "                    F.append(sol)\n",
    "            \n",
    "        # update f\n",
    "        for mi in range(m1*m2): \n",
    "            df_t = f.loc[[(0,0)]].copy(deep=True) #temporary dataframe for base environment from iteration 0,0\n",
    "            for ji in range(len(f.columns)):# for each exchange flux in environment\n",
    "                i_sum = 0\n",
    "                flux_id = f.columns[ji]\n",
    "                for ii in range(len(S)):# for each organism sum up flux * relative abundance\n",
    "                    if flux_id in S[ii].exchanges:\n",
    "                        if F[ii].loc[(0,mi)][flux_id] != 0:\n",
    "                            i_sum = i_sum + F[ii].loc[(0,mi)][flux_id] * R[ii]\n",
    "                df_t.loc[(0,0),flux_id] = (1-alpha)*(f.loc[(0,0)][flux_id].item()-i_sum) + alpha*f.loc[(0,0)][flux_id].item() # update flux\n",
    "            #re-index tmp dataframe\n",
    "            multi_idx = pd.MultiIndex.from_tuples([(1,mi)],names=[\"iteration\",\"run\"])\n",
    "            df_tt = pd.DataFrame([df_t.loc[(0,0)]],columns = df_t.columns, index = multi_idx)\n",
    "            f = pd.concat([f,df_tt])\n",
    "\n",
    "    else:\n",
    "        for m1i in range(m1): #run with different initial points       \n",
    "            # run fba for each model in environment n set by M matrix\n",
    "            Mi = M[m1i,ni-1] #mapping\n",
    "            for ii in range(len(S)):\n",
    "                print('organism:',ii)\n",
    "                with S[ii] as model_t: #get model from list of models S\n",
    "                    # Re-set Exchanges (just to be safe)\n",
    "                    for ex in model_t.exchanges:\n",
    "                        ex.lower_bound = 0\n",
    "                        ex.upper_bound = 1000\n",
    "                    # Set Environment\n",
    "                    for exi in range(len(f.columns)):\n",
    "                        ex_lb = f.loc[(ni,Mi)][f.columns[exi]]\n",
    "                        if ex_lb != 0:\n",
    "                            ex_id = f.columns[exi]\n",
    "                            if ex_id in model_t.exchanges:\n",
    "                                model_t.exchanges.get_by_id(ex_id).lower_bound = ex_lb\n",
    "    \n",
    "                    if sol_fun == 'pfba':\n",
    "                        multi_idx = pd.MultiIndex.from_tuples([(ni,0)],names=[\"iteration\",\"run\"])\n",
    "                        # run pFBA\n",
    "                        sol1 = model_t.slim_optimize()\n",
    "                        if sol1 > 0.001:\n",
    "                            sol = cb.flux_analysis.parsimonious.pfba(model_t)\n",
    "                            # standardize and save output                   \n",
    "                            df = pd.DataFrame([sol.fluxes],columns=sol.fluxes.index,index=multi_idx)\n",
    "                            F[ii] = pd.concat([F[ii],df])\n",
    "                        else:\n",
    "                            rxnid = []\n",
    "                            for i in range(len(S[ii].reactions)): rxnid.append(S[ii].reactions[i].id)\n",
    "                            df = pd.DataFrame([np.zeros(len(S[ii].reactions))],columns=rxnid,index=multi_idx)\n",
    "                            F[ii] = pd.concat([F[ii],df])\n",
    "                            \n",
    "                    if sol_fun == 'sampling':\n",
    "                        # run flux sampling\n",
    "                        sol = cb.sampling.sample(model_t,m2)\n",
    "                        # standardize and save output\n",
    "                        arrays = [[ni]*m1*m2,list(sol.index+m1i*m2)]\n",
    "                        tuples = list(zip(*arrays))\n",
    "                        multi_idx = pd.MultiIndex.from_tuples(tuples,names=['iteration','run'])\n",
    "                        sol.index = multi_idx\n",
    "                        F[ii] = pd.concat([F[ii],sol])\n",
    "\n",
    "            # update f\n",
    "            for m2i in range(m2):\n",
    "                df_t = f.loc[[(ni,Mi)]].copy(deep=True) #temporary dataframe for base environment from iteration 0,0\n",
    "                for ji in range(len(f.columns)):# for each exchange flux in environment\n",
    "                    i_sum = 0\n",
    "                    flux_id = f.columns[ji]\n",
    "                    for ii in range(len(S)):# for each organism sum up flux * relative abundance\n",
    "                        if flux_id in S[ii].exchanges:\n",
    "                            if F[ii].loc[(ni,m2i+m1i*m2)][flux_id] != 0:\n",
    "                                i_sum = i_sum + F[ii].loc[(ni,m2i+m1i*m2)][flux_id] * R[ii]\n",
    "                    df_t.loc[(ni,Mi),flux_id] = (1-alpha)*(f.loc[(ni,Mi)][flux_id].item()-i_sum) + alpha*f.loc[(0,0)][flux_id].item() # update flux\n",
    "                #re-index tmp dataframe\n",
    "                multi_idx = pd.MultiIndex.from_tuples([(ni+1,m2i+m1i*m2)],names=[\"iteration\",\"run\"])\n",
    "                df_tt = pd.DataFrame([df_t.loc[(ni,Mi)]],columns = df_t.columns, index = multi_idx)\n",
    "                f = pd.concat([f,df_tt])"
   ]
  },
  {
   "cell_type": "code",
   "execution_count": 19,
   "id": "69624805-93a4-4554-9024-65e26c137cf6",
   "metadata": {},
   "outputs": [
    {
     "data": {
      "text/plain": [
       "iteration  run\n",
       "0          0      0.000000\n",
       "1          0     -4.798298\n",
       "2          0     -3.409221\n",
       "3          0     -3.127762\n",
       "4          0     -3.064020\n",
       "5          0     -3.048085\n",
       "6          0     -3.044101\n",
       "7          0     -3.043105\n",
       "8          0     -3.042856\n",
       "9          0     -3.042794\n",
       "10         0     -3.042778\n",
       "Name: EX_ac(e), dtype: float64"
      ]
     },
     "execution_count": 19,
     "metadata": {},
     "output_type": "execute_result"
    }
   ],
   "source": [
    "f['EX_ac(e)']"
   ]
  },
  {
   "cell_type": "code",
   "execution_count": 20,
   "id": "1eb474c9-42a3-457e-bf9c-abb44f161b7b",
   "metadata": {},
   "outputs": [
    {
     "data": {
      "text/plain": [
       "iteration  run\n",
       "0          0     -10.0\n",
       "1          0      -5.0\n",
       "2          0      -5.0\n",
       "3          0      -5.0\n",
       "4          0      -5.0\n",
       "5          0      -5.0\n",
       "6          0      -5.0\n",
       "7          0      -5.0\n",
       "8          0      -5.0\n",
       "9          0      -5.0\n",
       "10         0      -5.0\n",
       "Name: EX_glc_D(e), dtype: float64"
      ]
     },
     "execution_count": 20,
     "metadata": {},
     "output_type": "execute_result"
    }
   ],
   "source": [
    "f['EX_glc_D(e)']"
   ]
  },
  {
   "cell_type": "code",
   "execution_count": 21,
   "id": "2978f163-0608-499e-8238-344418329a9d",
   "metadata": {},
   "outputs": [
    {
     "data": {
      "text/plain": [
       "iteration  run\n",
       "0          0      0.784637\n",
       "1          0      0.505684\n",
       "2          0      0.472349\n",
       "3          0      0.465576\n",
       "4          0      0.464291\n",
       "5          0      0.463970\n",
       "6          0      0.463890\n",
       "7          0      0.463870\n",
       "8          0      0.463865\n",
       "9          0      0.463863\n",
       "Name: biomass525, dtype: float64"
      ]
     },
     "execution_count": 21,
     "metadata": {},
     "output_type": "execute_result"
    }
   ],
   "source": [
    "F[0]['biomass525']"
   ]
  },
  {
   "cell_type": "code",
   "execution_count": 22,
   "id": "6f9fb7d2-bd16-4478-a193-f29cc5380865",
   "metadata": {},
   "outputs": [
    {
     "data": {
      "text/plain": [
       "iteration  run\n",
       "0          0      0.384178\n",
       "1          0      0.231055\n",
       "2          0      0.217523\n",
       "3          0      0.216161\n",
       "4          0      0.216161\n",
       "5          0      0.216161\n",
       "6          0      0.216161\n",
       "7          0      0.216161\n",
       "8          0      0.216161\n",
       "9          0      0.216161\n",
       "Name: bio1, dtype: float64"
      ]
     },
     "execution_count": 22,
     "metadata": {},
     "output_type": "execute_result"
    }
   ],
   "source": [
    "F[1]['bio1']"
   ]
  },
  {
   "cell_type": "code",
   "execution_count": 23,
   "id": "f392a96b-4b2b-4deb-9493-ab36de0b8d3a",
   "metadata": {},
   "outputs": [
    {
     "data": {
      "text/plain": [
       "iteration  run\n",
       "0          0     -10.0\n",
       "1          0      -5.0\n",
       "2          0      -5.0\n",
       "3          0      -5.0\n",
       "4          0      -5.0\n",
       "5          0      -5.0\n",
       "6          0      -5.0\n",
       "7          0      -5.0\n",
       "8          0      -5.0\n",
       "9          0      -5.0\n",
       "Name: EX_glc_D(e), dtype: float64"
      ]
     },
     "execution_count": 23,
     "metadata": {},
     "output_type": "execute_result"
    }
   ],
   "source": [
    "F[0]['EX_glc_D(e)']"
   ]
  },
  {
   "cell_type": "code",
   "execution_count": 24,
   "id": "86d0b973-7611-4a5c-b484-79ae099d4a25",
   "metadata": {},
   "outputs": [
    {
     "data": {
      "text/plain": [
       "iteration  run\n",
       "0          0      0.000000\n",
       "1          0     -4.798298\n",
       "2          0     -3.409221\n",
       "3          0     -3.127762\n",
       "4          0     -3.064020\n",
       "5          0     -3.048085\n",
       "6          0     -3.044101\n",
       "7          0     -3.043105\n",
       "8          0     -3.042856\n",
       "9          0     -3.042794\n",
       "Name: EX_ac(e), dtype: float64"
      ]
     },
     "execution_count": 24,
     "metadata": {},
     "output_type": "execute_result"
    }
   ],
   "source": [
    "F[0]['EX_ac(e)']"
   ]
  },
  {
   "cell_type": "code",
   "execution_count": 25,
   "id": "f0f77eab-d012-4f42-81e4-80a387a7ca2e",
   "metadata": {},
   "outputs": [
    {
     "data": {
      "text/plain": [
       "iteration  run\n",
       "0          0     -10.0\n",
       "1          0      -5.0\n",
       "2          0      -5.0\n",
       "3          0      -5.0\n",
       "4          0      -5.0\n",
       "5          0      -5.0\n",
       "6          0      -5.0\n",
       "7          0      -5.0\n",
       "8          0      -5.0\n",
       "9          0      -5.0\n",
       "Name: EX_glc_D(e), dtype: float64"
      ]
     },
     "execution_count": 25,
     "metadata": {},
     "output_type": "execute_result"
    }
   ],
   "source": [
    "F[1]['EX_glc_D(e)']"
   ]
  },
  {
   "cell_type": "code",
   "execution_count": 26,
   "id": "66dc433a-3a26-457b-8a47-cd0ff88f8a60",
   "metadata": {},
   "outputs": [
    {
     "data": {
      "text/plain": [
       "iteration  run\n",
       "0          0      19.193193\n",
       "1          0       8.838588\n",
       "2          0       9.101827\n",
       "3          0       9.128320\n",
       "4          0       9.128320\n",
       "5          0       9.128320\n",
       "6          0       9.128320\n",
       "7          0       9.128320\n",
       "8          0       9.128320\n",
       "9          0       9.128320\n",
       "Name: EX_ac(e), dtype: float64"
      ]
     },
     "execution_count": 26,
     "metadata": {},
     "output_type": "execute_result"
    }
   ],
   "source": [
    "F[1]['EX_ac(e)']"
   ]
  },
  {
   "cell_type": "code",
   "execution_count": 27,
   "id": "88c247e2-d9a7-46ab-a912-4c5984f5b4e0",
   "metadata": {},
   "outputs": [
    {
     "data": {
      "text/plain": [
       "2"
      ]
     },
     "execution_count": 27,
     "metadata": {},
     "output_type": "execute_result"
    }
   ],
   "source": [
    "len(F)"
   ]
  },
  {
   "cell_type": "code",
   "execution_count": 28,
   "id": "25573d3d-a1fc-4607-ba73-875c05c5e9b0",
   "metadata": {},
   "outputs": [],
   "source": [
    "# Save F and f with pickle\n",
    "import pickle\n",
    "with open('Ff_pair.pkl', 'wb') as file:\n",
    "    pickle.dump([F,f], file)"
   ]
  },
  {
   "cell_type": "code",
   "execution_count": null,
   "id": "87e5788b-8b8d-46be-8cf6-bd7a486c2fa1",
   "metadata": {},
   "outputs": [],
   "source": []
  },
  {
   "cell_type": "code",
   "execution_count": 29,
   "id": "9d9a6193-8dfd-44fb-8ee1-582fd5ec9d19",
   "metadata": {},
   "outputs": [],
   "source": [
    "import pickle\n",
    "with open('Ff_pair.pkl','rb') as file:\n",
    "    [F,f] = pickle.load(file)"
   ]
  },
  {
   "cell_type": "code",
   "execution_count": 30,
   "id": "32ec3004-61cb-4cce-880e-28fb36ded730",
   "metadata": {},
   "outputs": [
    {
     "data": {
      "text/html": [
       "<div>\n",
       "<style scoped>\n",
       "    .dataframe tbody tr th:only-of-type {\n",
       "        vertical-align: middle;\n",
       "    }\n",
       "\n",
       "    .dataframe tbody tr th {\n",
       "        vertical-align: top;\n",
       "    }\n",
       "\n",
       "    .dataframe thead th {\n",
       "        text-align: right;\n",
       "    }\n",
       "</style>\n",
       "<table border=\"1\" class=\"dataframe\">\n",
       "  <thead>\n",
       "    <tr style=\"text-align: right;\">\n",
       "      <th></th>\n",
       "      <th></th>\n",
       "      <th>12PPD_Stex</th>\n",
       "      <th>12PPDtpp</th>\n",
       "      <th>15DAPtex</th>\n",
       "      <th>15DAPtpp</th>\n",
       "      <th>1HIBUPGLU_St2pp</th>\n",
       "      <th>1HIBUPGLU_Stex</th>\n",
       "      <th>1HIBUP_S_GLCAASE</th>\n",
       "      <th>1HIBUP_Stepp</th>\n",
       "      <th>1HIBUP_Stex</th>\n",
       "      <th>1HMDGLUC_GLCAASE</th>\n",
       "      <th>...</th>\n",
       "      <th>r1667pp</th>\n",
       "      <th>r2137pp</th>\n",
       "      <th>r2471pp</th>\n",
       "      <th>r2526pp</th>\n",
       "      <th>rtranscription</th>\n",
       "      <th>sink_dmbzid</th>\n",
       "      <th>sink_s</th>\n",
       "      <th>sink_thissh[c]</th>\n",
       "      <th>biomass525</th>\n",
       "      <th>DALAt2pp</th>\n",
       "    </tr>\n",
       "    <tr>\n",
       "      <th>iteration</th>\n",
       "      <th>run</th>\n",
       "      <th></th>\n",
       "      <th></th>\n",
       "      <th></th>\n",
       "      <th></th>\n",
       "      <th></th>\n",
       "      <th></th>\n",
       "      <th></th>\n",
       "      <th></th>\n",
       "      <th></th>\n",
       "      <th></th>\n",
       "      <th></th>\n",
       "      <th></th>\n",
       "      <th></th>\n",
       "      <th></th>\n",
       "      <th></th>\n",
       "      <th></th>\n",
       "      <th></th>\n",
       "      <th></th>\n",
       "      <th></th>\n",
       "      <th></th>\n",
       "      <th></th>\n",
       "    </tr>\n",
       "  </thead>\n",
       "  <tbody>\n",
       "    <tr>\n",
       "      <th>0</th>\n",
       "      <th>0</th>\n",
       "      <td>0.0</td>\n",
       "      <td>0.0</td>\n",
       "      <td>0.0</td>\n",
       "      <td>0.0</td>\n",
       "      <td>0.0</td>\n",
       "      <td>0.0</td>\n",
       "      <td>0.0</td>\n",
       "      <td>0.0</td>\n",
       "      <td>0.0</td>\n",
       "      <td>0.0</td>\n",
       "      <td>...</td>\n",
       "      <td>0.0</td>\n",
       "      <td>0.006128</td>\n",
       "      <td>0.0</td>\n",
       "      <td>0.0</td>\n",
       "      <td>0.784637</td>\n",
       "      <td>0.0</td>\n",
       "      <td>0.0</td>\n",
       "      <td>0.0</td>\n",
       "      <td>0.784637</td>\n",
       "      <td>0.0</td>\n",
       "    </tr>\n",
       "    <tr>\n",
       "      <th>1</th>\n",
       "      <th>0</th>\n",
       "      <td>0.0</td>\n",
       "      <td>0.0</td>\n",
       "      <td>0.0</td>\n",
       "      <td>0.0</td>\n",
       "      <td>0.0</td>\n",
       "      <td>0.0</td>\n",
       "      <td>0.0</td>\n",
       "      <td>0.0</td>\n",
       "      <td>0.0</td>\n",
       "      <td>0.0</td>\n",
       "      <td>...</td>\n",
       "      <td>0.0</td>\n",
       "      <td>0.003949</td>\n",
       "      <td>0.0</td>\n",
       "      <td>0.0</td>\n",
       "      <td>0.505684</td>\n",
       "      <td>0.0</td>\n",
       "      <td>0.0</td>\n",
       "      <td>0.0</td>\n",
       "      <td>0.505684</td>\n",
       "      <td>0.0</td>\n",
       "    </tr>\n",
       "    <tr>\n",
       "      <th>2</th>\n",
       "      <th>0</th>\n",
       "      <td>0.0</td>\n",
       "      <td>0.0</td>\n",
       "      <td>0.0</td>\n",
       "      <td>0.0</td>\n",
       "      <td>0.0</td>\n",
       "      <td>0.0</td>\n",
       "      <td>0.0</td>\n",
       "      <td>0.0</td>\n",
       "      <td>0.0</td>\n",
       "      <td>0.0</td>\n",
       "      <td>...</td>\n",
       "      <td>0.0</td>\n",
       "      <td>0.003689</td>\n",
       "      <td>0.0</td>\n",
       "      <td>0.0</td>\n",
       "      <td>0.472349</td>\n",
       "      <td>0.0</td>\n",
       "      <td>0.0</td>\n",
       "      <td>0.0</td>\n",
       "      <td>0.472349</td>\n",
       "      <td>0.0</td>\n",
       "    </tr>\n",
       "    <tr>\n",
       "      <th>3</th>\n",
       "      <th>0</th>\n",
       "      <td>0.0</td>\n",
       "      <td>0.0</td>\n",
       "      <td>0.0</td>\n",
       "      <td>0.0</td>\n",
       "      <td>0.0</td>\n",
       "      <td>0.0</td>\n",
       "      <td>0.0</td>\n",
       "      <td>0.0</td>\n",
       "      <td>0.0</td>\n",
       "      <td>0.0</td>\n",
       "      <td>...</td>\n",
       "      <td>0.0</td>\n",
       "      <td>0.003636</td>\n",
       "      <td>0.0</td>\n",
       "      <td>0.0</td>\n",
       "      <td>0.465576</td>\n",
       "      <td>0.0</td>\n",
       "      <td>0.0</td>\n",
       "      <td>0.0</td>\n",
       "      <td>0.465576</td>\n",
       "      <td>0.0</td>\n",
       "    </tr>\n",
       "    <tr>\n",
       "      <th>4</th>\n",
       "      <th>0</th>\n",
       "      <td>0.0</td>\n",
       "      <td>0.0</td>\n",
       "      <td>0.0</td>\n",
       "      <td>0.0</td>\n",
       "      <td>0.0</td>\n",
       "      <td>0.0</td>\n",
       "      <td>0.0</td>\n",
       "      <td>0.0</td>\n",
       "      <td>0.0</td>\n",
       "      <td>0.0</td>\n",
       "      <td>...</td>\n",
       "      <td>0.0</td>\n",
       "      <td>0.003626</td>\n",
       "      <td>0.0</td>\n",
       "      <td>0.0</td>\n",
       "      <td>0.464291</td>\n",
       "      <td>0.0</td>\n",
       "      <td>0.0</td>\n",
       "      <td>0.0</td>\n",
       "      <td>0.464291</td>\n",
       "      <td>0.0</td>\n",
       "    </tr>\n",
       "    <tr>\n",
       "      <th>5</th>\n",
       "      <th>0</th>\n",
       "      <td>0.0</td>\n",
       "      <td>0.0</td>\n",
       "      <td>0.0</td>\n",
       "      <td>0.0</td>\n",
       "      <td>0.0</td>\n",
       "      <td>0.0</td>\n",
       "      <td>0.0</td>\n",
       "      <td>0.0</td>\n",
       "      <td>0.0</td>\n",
       "      <td>0.0</td>\n",
       "      <td>...</td>\n",
       "      <td>0.0</td>\n",
       "      <td>0.003623</td>\n",
       "      <td>0.0</td>\n",
       "      <td>0.0</td>\n",
       "      <td>0.463970</td>\n",
       "      <td>0.0</td>\n",
       "      <td>0.0</td>\n",
       "      <td>0.0</td>\n",
       "      <td>0.463970</td>\n",
       "      <td>0.0</td>\n",
       "    </tr>\n",
       "    <tr>\n",
       "      <th>6</th>\n",
       "      <th>0</th>\n",
       "      <td>0.0</td>\n",
       "      <td>0.0</td>\n",
       "      <td>0.0</td>\n",
       "      <td>0.0</td>\n",
       "      <td>0.0</td>\n",
       "      <td>0.0</td>\n",
       "      <td>0.0</td>\n",
       "      <td>0.0</td>\n",
       "      <td>0.0</td>\n",
       "      <td>0.0</td>\n",
       "      <td>...</td>\n",
       "      <td>0.0</td>\n",
       "      <td>0.003623</td>\n",
       "      <td>0.0</td>\n",
       "      <td>0.0</td>\n",
       "      <td>0.463890</td>\n",
       "      <td>0.0</td>\n",
       "      <td>0.0</td>\n",
       "      <td>0.0</td>\n",
       "      <td>0.463890</td>\n",
       "      <td>0.0</td>\n",
       "    </tr>\n",
       "    <tr>\n",
       "      <th>7</th>\n",
       "      <th>0</th>\n",
       "      <td>0.0</td>\n",
       "      <td>0.0</td>\n",
       "      <td>0.0</td>\n",
       "      <td>0.0</td>\n",
       "      <td>0.0</td>\n",
       "      <td>0.0</td>\n",
       "      <td>0.0</td>\n",
       "      <td>0.0</td>\n",
       "      <td>0.0</td>\n",
       "      <td>0.0</td>\n",
       "      <td>...</td>\n",
       "      <td>0.0</td>\n",
       "      <td>0.003623</td>\n",
       "      <td>0.0</td>\n",
       "      <td>0.0</td>\n",
       "      <td>0.463870</td>\n",
       "      <td>0.0</td>\n",
       "      <td>0.0</td>\n",
       "      <td>0.0</td>\n",
       "      <td>0.463870</td>\n",
       "      <td>0.0</td>\n",
       "    </tr>\n",
       "    <tr>\n",
       "      <th>8</th>\n",
       "      <th>0</th>\n",
       "      <td>0.0</td>\n",
       "      <td>0.0</td>\n",
       "      <td>0.0</td>\n",
       "      <td>0.0</td>\n",
       "      <td>0.0</td>\n",
       "      <td>0.0</td>\n",
       "      <td>0.0</td>\n",
       "      <td>0.0</td>\n",
       "      <td>0.0</td>\n",
       "      <td>0.0</td>\n",
       "      <td>...</td>\n",
       "      <td>0.0</td>\n",
       "      <td>0.003623</td>\n",
       "      <td>0.0</td>\n",
       "      <td>0.0</td>\n",
       "      <td>0.463865</td>\n",
       "      <td>0.0</td>\n",
       "      <td>0.0</td>\n",
       "      <td>0.0</td>\n",
       "      <td>0.463865</td>\n",
       "      <td>0.0</td>\n",
       "    </tr>\n",
       "    <tr>\n",
       "      <th>9</th>\n",
       "      <th>0</th>\n",
       "      <td>0.0</td>\n",
       "      <td>0.0</td>\n",
       "      <td>0.0</td>\n",
       "      <td>0.0</td>\n",
       "      <td>0.0</td>\n",
       "      <td>0.0</td>\n",
       "      <td>0.0</td>\n",
       "      <td>0.0</td>\n",
       "      <td>0.0</td>\n",
       "      <td>0.0</td>\n",
       "      <td>...</td>\n",
       "      <td>0.0</td>\n",
       "      <td>0.003622</td>\n",
       "      <td>0.0</td>\n",
       "      <td>0.0</td>\n",
       "      <td>0.463863</td>\n",
       "      <td>0.0</td>\n",
       "      <td>0.0</td>\n",
       "      <td>0.0</td>\n",
       "      <td>0.463863</td>\n",
       "      <td>0.0</td>\n",
       "    </tr>\n",
       "  </tbody>\n",
       "</table>\n",
       "<p>10 rows × 3277 columns</p>\n",
       "</div>"
      ],
      "text/plain": [
       "               12PPD_Stex  12PPDtpp  15DAPtex  15DAPtpp  1HIBUPGLU_St2pp  \\\n",
       "iteration run                                                              \n",
       "0         0           0.0       0.0       0.0       0.0              0.0   \n",
       "1         0           0.0       0.0       0.0       0.0              0.0   \n",
       "2         0           0.0       0.0       0.0       0.0              0.0   \n",
       "3         0           0.0       0.0       0.0       0.0              0.0   \n",
       "4         0           0.0       0.0       0.0       0.0              0.0   \n",
       "5         0           0.0       0.0       0.0       0.0              0.0   \n",
       "6         0           0.0       0.0       0.0       0.0              0.0   \n",
       "7         0           0.0       0.0       0.0       0.0              0.0   \n",
       "8         0           0.0       0.0       0.0       0.0              0.0   \n",
       "9         0           0.0       0.0       0.0       0.0              0.0   \n",
       "\n",
       "               1HIBUPGLU_Stex  1HIBUP_S_GLCAASE  1HIBUP_Stepp  1HIBUP_Stex  \\\n",
       "iteration run                                                                \n",
       "0         0               0.0               0.0           0.0          0.0   \n",
       "1         0               0.0               0.0           0.0          0.0   \n",
       "2         0               0.0               0.0           0.0          0.0   \n",
       "3         0               0.0               0.0           0.0          0.0   \n",
       "4         0               0.0               0.0           0.0          0.0   \n",
       "5         0               0.0               0.0           0.0          0.0   \n",
       "6         0               0.0               0.0           0.0          0.0   \n",
       "7         0               0.0               0.0           0.0          0.0   \n",
       "8         0               0.0               0.0           0.0          0.0   \n",
       "9         0               0.0               0.0           0.0          0.0   \n",
       "\n",
       "               1HMDGLUC_GLCAASE  ...  r1667pp   r2137pp  r2471pp  r2526pp  \\\n",
       "iteration run                    ...                                        \n",
       "0         0                 0.0  ...      0.0  0.006128      0.0      0.0   \n",
       "1         0                 0.0  ...      0.0  0.003949      0.0      0.0   \n",
       "2         0                 0.0  ...      0.0  0.003689      0.0      0.0   \n",
       "3         0                 0.0  ...      0.0  0.003636      0.0      0.0   \n",
       "4         0                 0.0  ...      0.0  0.003626      0.0      0.0   \n",
       "5         0                 0.0  ...      0.0  0.003623      0.0      0.0   \n",
       "6         0                 0.0  ...      0.0  0.003623      0.0      0.0   \n",
       "7         0                 0.0  ...      0.0  0.003623      0.0      0.0   \n",
       "8         0                 0.0  ...      0.0  0.003623      0.0      0.0   \n",
       "9         0                 0.0  ...      0.0  0.003622      0.0      0.0   \n",
       "\n",
       "               rtranscription  sink_dmbzid  sink_s  sink_thissh[c]  \\\n",
       "iteration run                                                        \n",
       "0         0          0.784637          0.0     0.0             0.0   \n",
       "1         0          0.505684          0.0     0.0             0.0   \n",
       "2         0          0.472349          0.0     0.0             0.0   \n",
       "3         0          0.465576          0.0     0.0             0.0   \n",
       "4         0          0.464291          0.0     0.0             0.0   \n",
       "5         0          0.463970          0.0     0.0             0.0   \n",
       "6         0          0.463890          0.0     0.0             0.0   \n",
       "7         0          0.463870          0.0     0.0             0.0   \n",
       "8         0          0.463865          0.0     0.0             0.0   \n",
       "9         0          0.463863          0.0     0.0             0.0   \n",
       "\n",
       "               biomass525  DALAt2pp  \n",
       "iteration run                        \n",
       "0         0      0.784637       0.0  \n",
       "1         0      0.505684       0.0  \n",
       "2         0      0.472349       0.0  \n",
       "3         0      0.465576       0.0  \n",
       "4         0      0.464291       0.0  \n",
       "5         0      0.463970       0.0  \n",
       "6         0      0.463890       0.0  \n",
       "7         0      0.463870       0.0  \n",
       "8         0      0.463865       0.0  \n",
       "9         0      0.463863       0.0  \n",
       "\n",
       "[10 rows x 3277 columns]"
      ]
     },
     "execution_count": 30,
     "metadata": {},
     "output_type": "execute_result"
    }
   ],
   "source": [
    "F[0]"
   ]
  },
  {
   "cell_type": "code",
   "execution_count": 31,
   "id": "8e548f91-d99f-4ed8-baf9-560e65f225aa",
   "metadata": {},
   "outputs": [
    {
     "data": {
      "text/plain": [
       "-3.04279397617384"
      ]
     },
     "execution_count": 31,
     "metadata": {},
     "output_type": "execute_result"
    }
   ],
   "source": [
    "F[0].loc[(9,0)]['EX_ac(e)']"
   ]
  },
  {
   "cell_type": "code",
   "execution_count": 32,
   "id": "1061f658-8130-4a56-9ab0-a31c9bb27fb4",
   "metadata": {},
   "outputs": [
    {
     "data": {
      "text/plain": [
       "9.128319680753865"
      ]
     },
     "execution_count": 32,
     "metadata": {},
     "output_type": "execute_result"
    }
   ],
   "source": [
    "F[1].loc[(9,0)]['EX_ac(e)']"
   ]
  },
  {
   "cell_type": "markdown",
   "id": "b6c80b05-413a-4a4e-bd50-de395e54f95b",
   "metadata": {},
   "source": [
    "#### Compare Results"
   ]
  },
  {
   "cell_type": "code",
   "execution_count": 33,
   "id": "80053c5e-6a92-4fb1-936d-e0217b8884bb",
   "metadata": {},
   "outputs": [
    {
     "name": "stdout",
     "output_type": "stream",
     "text": [
      "Once deleted, variables cannot be recovered. Proceed (y/[n])?  y\n"
     ]
    }
   ],
   "source": [
    "%reset"
   ]
  },
  {
   "cell_type": "code",
   "execution_count": 34,
   "id": "d788e998-0d9d-40b9-bebb-4b48d2891dff",
   "metadata": {},
   "outputs": [],
   "source": [
    "import pickle\n",
    "with open('Ff_single.pkl', 'rb') as file:\n",
    "    [F_s,f_s] = pickle.load(file)\n",
    "\n",
    "with open('Ff_pair.pkl', 'rb') as file:\n",
    "    [F_p,f_p] = pickle.load(file)"
   ]
  },
  {
   "cell_type": "code",
   "execution_count": 35,
   "id": "4eb1940d-7e6e-418e-8b20-0b1d4d1f1656",
   "metadata": {},
   "outputs": [],
   "source": [
    "import matplotlib.pyplot as plt"
   ]
  },
  {
   "cell_type": "code",
   "execution_count": 36,
   "id": "0d472538-4552-4e17-ab04-183adf76168e",
   "metadata": {},
   "outputs": [
    {
     "data": {
      "text/plain": [
       "[0.7846371892483013,\n",
       " 0.3923185946241531,\n",
       " 0.3923185946241531,\n",
       " 0.3923185946241531,\n",
       " 0.3923185946241531,\n",
       " 0.3923185946241531,\n",
       " 0.3923185946241531,\n",
       " 0.3923185946241531,\n",
       " 0.3923185946241531,\n",
       " 0.3923185946241531]"
      ]
     },
     "execution_count": 36,
     "metadata": {},
     "output_type": "execute_result"
    }
   ],
   "source": [
    "list(F_s[0]['biomass525'])"
   ]
  },
  {
   "cell_type": "code",
   "execution_count": null,
   "id": "80be92c3-64d3-4954-92a4-0744e7a928aa",
   "metadata": {},
   "outputs": [],
   "source": []
  },
  {
   "cell_type": "code",
   "execution_count": 37,
   "id": "2877ac81-d5d9-4e23-ab16-2b24801aded4",
   "metadata": {},
   "outputs": [
    {
     "data": {
      "text/plain": [
       "Text(0, 0.5, 'E. coli growth rate')"
      ]
     },
     "execution_count": 37,
     "metadata": {},
     "output_type": "execute_result"
    },
    {
     "data": {
      "image/png": "[encoded data removed]",
      "text/plain": [
       "<Figure size 640x480 with 1 Axes>"
      ]
     },
     "metadata": {},
     "output_type": "display_data"
    }
   ],
   "source": [
    "plt.plot(list(F_s[0]['biomass525']),'r')\n",
    "plt.xlabel('iteration')\n",
    "plt.ylabel('E. coli growth rate')\n"
   ]
  },
  {
   "cell_type": "code",
   "execution_count": 38,
   "id": "8c5f4fec-45d5-488a-afa8-6c267ebe3a92",
   "metadata": {},
   "outputs": [
    {
     "data": {
      "text/plain": [
       "<matplotlib.legend.Legend at 0x17921bd10>"
      ]
     },
     "execution_count": 38,
     "metadata": {},
     "output_type": "execute_result"
    },
    {
     "data": {
      "image/png": "[encoded data removed]",
      "text/plain": [
       "<Figure size 640x480 with 1 Axes>"
      ]
     },
     "metadata": {},
     "output_type": "display_data"
    }
   ],
   "source": [
    "plt.plot(list(F_s[0]['biomass525']),'r')\n",
    "plt.plot(list(F_p[0]['biomass525']),'b')\n",
    "plt.xlabel('iteration')\n",
    "plt.ylabel('E. coli growth rate')\n",
    "plt.legend(['alone','with B. theta'])"
   ]
  },
  {
   "cell_type": "code",
   "execution_count": null,
   "id": "4fc648f0-d1b2-4c86-a33c-229146d88d6b",
   "metadata": {},
   "outputs": [],
   "source": []
  },
  {
   "cell_type": "code",
   "execution_count": null,
   "id": "a50a9835-3577-4c50-bb0e-c62ba3b5b36f",
   "metadata": {},
   "outputs": [],
   "source": []
  },
  {
   "cell_type": "markdown",
   "id": "c7d686ab-7225-45b1-bd9b-6d1fa51667ca",
   "metadata": {},
   "source": [
    "### Example 3: Pairwise w/ Sampling\n"
   ]
  },
  {
   "cell_type": "code",
   "execution_count": 1,
   "id": "c46ebe34-3313-496d-9b69-983661920bf1",
   "metadata": {},
   "outputs": [
    {
     "name": "stdout",
     "output_type": "stream",
     "text": [
      "Once deleted, variables cannot be recovered. Proceed (y/[n])?  y\n"
     ]
    }
   ],
   "source": [
    "%reset"
   ]
  },
  {
   "cell_type": "code",
   "execution_count": 2,
   "id": "5af05c52-7e89-443e-966d-7d8bf5a79b72",
   "metadata": {},
   "outputs": [],
   "source": [
    "import cobra as cb\n",
    "import numpy as np\n",
    "import pandas as pd"
   ]
  },
  {
   "cell_type": "code",
   "execution_count": 3,
   "id": "1a541fa4-d906-4208-8db4-720f83fe5a8b",
   "metadata": {},
   "outputs": [
    {
     "name": "stdout",
     "output_type": "stream",
     "text": [
      "Set parameter Username\n",
      "Academic license - for non-commercial use only - expires 2025-01-14\n"
     ]
    },
    {
     "name": "stderr",
     "output_type": "stream",
     "text": [
      "No defined compartments in model model. Compartments will be deduced heuristically using regular expressions.\n",
      "Using regular expression found the following compartments:c, e, p\n",
      "No defined compartments in model model. Compartments will be deduced heuristically using regular expressions.\n",
      "Using regular expression found the following compartments:c, e, p\n"
     ]
    }
   ],
   "source": [
    "# model_pre_processing\n",
    "mod_paths = ['/Users/david/Dropbox/My_Stuff/UVM_2/Lab/Projects/AGORA2_Metabolic_Models/AGORA2_annotatedMat_D_F/Escherichia_coli_str_K_12_substr_MG1655.mat',\n",
    "             '/Users/david/Dropbox/My_Stuff/UVM_2/Lab/Projects/AGORA2_Metabolic_Models/AGORA2_annotatedMat_A_C/Bacteroides_thetaiotaomicron_3731.mat']\n",
    "S = [] #list of models\n",
    "# Load Models and Save in S vector\n",
    "for i in range(len(mod_paths)):\n",
    "    model = cb.io.load_matlab_model(mod_paths[i])\n",
    "    S.append(model) #append models to list"
   ]
  },
  {
   "cell_type": "code",
   "execution_count": 5,
   "id": "6c6a280b-7c18-4736-be25-1d6326f9b286",
   "metadata": {},
   "outputs": [],
   "source": [
    "# Define input environment f_0\n",
    "# this should be defined as a pandas dataframe with columns \"Reaction\" and \"LB\"\n",
    "# glucose minimal medium\n",
    "# Define Medium Components\n",
    "glc_min_med = ['EX_glc_D(e)','EX_so4(e)','EX_nh4(e)','EX_no3(e)','EX_pi(e)','EX_cys_L(e)',\n",
    "               'EX_mn2(e)','EX_cl(e)','EX_ca2(e)','EX_mg2(e)','EX_cu2(e)','EX_cobalt2(e)','EX_fe2(e)','EX_fe3(e)','EX_zn2(e)','EX_k(e)']\n",
    "# Define medium uptake flux bounds\n",
    "glc_min_med_flux = [-10,-100,-100,-100,-100,-100,\n",
    "                    -100,-100,-100,-100,-100,-100,-100,-100,-100,-100]\n",
    "glc_f0 = pd.DataFrame(data={'Reaction': glc_min_med,'LB': glc_min_med_flux})"
   ]
  },
  {
   "cell_type": "code",
   "execution_count": 6,
   "id": "c5b6109e-7015-4d87-9c9b-abc3a398f200",
   "metadata": {
    "collapsed": true,
    "jupyter": {
     "outputs_hidden": true
    }
   },
   "outputs": [
    {
     "name": "stdout",
     "output_type": "stream",
     "text": [
      "iteration: 0\n",
      "organism: 0\n",
      "Read LP format model from file /var/folders/yp/dx3zqgf139ndbl_1xyc8_nf00000gq/T/tmpodzbnyn3.lp\n",
      "Reading time = 0.02 seconds\n",
      ": 2630 rows, 6554 columns, 22274 nonzeros\n",
      "organism: 1\n",
      "Read LP format model from file /var/folders/yp/dx3zqgf139ndbl_1xyc8_nf00000gq/T/tmp0j0id540.lp\n",
      "Reading time = 0.01 seconds\n",
      ": 1318 rows, 3010 columns, 11452 nonzeros\n",
      "iteration: 1\n",
      "organism: 0\n",
      "Read LP format model from file /var/folders/yp/dx3zqgf139ndbl_1xyc8_nf00000gq/T/tmpgfoqvf4b.lp\n",
      "Reading time = 0.02 seconds\n",
      ": 2630 rows, 6554 columns, 22274 nonzeros\n",
      "organism: 1\n",
      "Read LP format model from file /var/folders/yp/dx3zqgf139ndbl_1xyc8_nf00000gq/T/tmpr8_x0r28.lp\n",
      "Reading time = 0.01 seconds\n",
      ": 1318 rows, 3010 columns, 11452 nonzeros\n",
      "organism: 0\n",
      "Read LP format model from file /var/folders/yp/dx3zqgf139ndbl_1xyc8_nf00000gq/T/tmp1t4djlyu.lp\n",
      "Reading time = 0.02 seconds\n",
      ": 2630 rows, 6554 columns, 22274 nonzeros\n",
      "organism: 1\n",
      "Read LP format model from file /var/folders/yp/dx3zqgf139ndbl_1xyc8_nf00000gq/T/tmpnd194ats.lp\n",
      "Reading time = 0.01 seconds\n",
      ": 1318 rows, 3010 columns, 11452 nonzeros\n",
      "organism: 0\n",
      "Read LP format model from file /var/folders/yp/dx3zqgf139ndbl_1xyc8_nf00000gq/T/tmpcbs4n3fg.lp\n",
      "Reading time = 0.01 seconds\n",
      ": 2630 rows, 6554 columns, 22274 nonzeros\n",
      "organism: 1\n",
      "Read LP format model from file /var/folders/yp/dx3zqgf139ndbl_1xyc8_nf00000gq/T/tmp58w4gff7.lp\n",
      "Reading time = 0.01 seconds\n",
      ": 1318 rows, 3010 columns, 11452 nonzeros\n",
      "organism: 0\n",
      "Read LP format model from file /var/folders/yp/dx3zqgf139ndbl_1xyc8_nf00000gq/T/tmpwr17z6v1.lp\n",
      "Reading time = 0.01 seconds\n",
      ": 2630 rows, 6554 columns, 22274 nonzeros\n",
      "organism: 1\n",
      "Read LP format model from file /var/folders/yp/dx3zqgf139ndbl_1xyc8_nf00000gq/T/tmpadkwtdwk.lp\n",
      "Reading time = 0.01 seconds\n",
      ": 1318 rows, 3010 columns, 11452 nonzeros\n",
      "organism: 0\n",
      "Read LP format model from file /var/folders/yp/dx3zqgf139ndbl_1xyc8_nf00000gq/T/tmpnt5o34li.lp\n",
      "Reading time = 0.02 seconds\n",
      ": 2630 rows, 6554 columns, 22274 nonzeros\n",
      "organism: 1\n",
      "Read LP format model from file /var/folders/yp/dx3zqgf139ndbl_1xyc8_nf00000gq/T/tmp1v_7h639.lp\n",
      "Reading time = 0.01 seconds\n",
      ": 1318 rows, 3010 columns, 11452 nonzeros\n",
      "organism: 0\n",
      "Read LP format model from file /var/folders/yp/dx3zqgf139ndbl_1xyc8_nf00000gq/T/tmpkm64moma.lp\n",
      "Reading time = 0.01 seconds\n",
      ": 2630 rows, 6554 columns, 22274 nonzeros\n",
      "organism: 1\n",
      "Read LP format model from file /var/folders/yp/dx3zqgf139ndbl_1xyc8_nf00000gq/T/tmpfxdynwgy.lp\n",
      "Reading time = 0.01 seconds\n",
      ": 1318 rows, 3010 columns, 11452 nonzeros\n",
      "organism: 0\n",
      "Read LP format model from file /var/folders/yp/dx3zqgf139ndbl_1xyc8_nf00000gq/T/tmp95o5745w.lp\n",
      "Reading time = 0.01 seconds\n",
      ": 2630 rows, 6554 columns, 22274 nonzeros\n",
      "organism: 1\n",
      "Read LP format model from file /var/folders/yp/dx3zqgf139ndbl_1xyc8_nf00000gq/T/tmp_k8n1dw1.lp\n",
      "Reading time = 0.01 seconds\n",
      ": 1318 rows, 3010 columns, 11452 nonzeros\n",
      "organism: 0\n",
      "Read LP format model from file /var/folders/yp/dx3zqgf139ndbl_1xyc8_nf00000gq/T/tmp_9328t2o.lp\n",
      "Reading time = 0.01 seconds\n",
      ": 2630 rows, 6554 columns, 22274 nonzeros\n",
      "organism: 1\n",
      "Read LP format model from file /var/folders/yp/dx3zqgf139ndbl_1xyc8_nf00000gq/T/tmp9ajc1s7a.lp\n",
      "Reading time = 0.01 seconds\n",
      ": 1318 rows, 3010 columns, 11452 nonzeros\n",
      "organism: 0\n",
      "Read LP format model from file /var/folders/yp/dx3zqgf139ndbl_1xyc8_nf00000gq/T/tmpg49eqbxv.lp\n",
      "Reading time = 0.01 seconds\n",
      ": 2630 rows, 6554 columns, 22274 nonzeros\n",
      "organism: 1\n",
      "Read LP format model from file /var/folders/yp/dx3zqgf139ndbl_1xyc8_nf00000gq/T/tmpl9gcdgzo.lp\n",
      "Reading time = 0.01 seconds\n",
      ": 1318 rows, 3010 columns, 11452 nonzeros\n",
      "organism: 0\n",
      "Read LP format model from file /var/folders/yp/dx3zqgf139ndbl_1xyc8_nf00000gq/T/tmp7yzz8l66.lp\n",
      "Reading time = 0.01 seconds\n",
      ": 2630 rows, 6554 columns, 22274 nonzeros\n",
      "organism: 1\n",
      "Read LP format model from file /var/folders/yp/dx3zqgf139ndbl_1xyc8_nf00000gq/T/tmpk4zoylxb.lp\n",
      "Reading time = 0.01 seconds\n",
      ": 1318 rows, 3010 columns, 11452 nonzeros\n",
      "iteration: 2\n",
      "organism: 0\n",
      "Read LP format model from file /var/folders/yp/dx3zqgf139ndbl_1xyc8_nf00000gq/T/tmpooty5r1t.lp\n",
      "Reading time = 0.01 seconds\n",
      ": 2630 rows, 6554 columns, 22274 nonzeros\n",
      "organism: 1\n",
      "Read LP format model from file /var/folders/yp/dx3zqgf139ndbl_1xyc8_nf00000gq/T/tmprs49_xs1.lp\n",
      "Reading time = 0.01 seconds\n",
      ": 1318 rows, 3010 columns, 11452 nonzeros\n",
      "organism: 0\n",
      "Read LP format model from file /var/folders/yp/dx3zqgf139ndbl_1xyc8_nf00000gq/T/tmpynrdh1r9.lp\n",
      "Reading time = 0.01 seconds\n",
      ": 2630 rows, 6554 columns, 22274 nonzeros\n",
      "organism: 1\n",
      "Read LP format model from file /var/folders/yp/dx3zqgf139ndbl_1xyc8_nf00000gq/T/tmpauw_l0kj.lp\n",
      "Reading time = 0.01 seconds\n",
      ": 1318 rows, 3010 columns, 11452 nonzeros\n",
      "organism: 0\n",
      "Read LP format model from file /var/folders/yp/dx3zqgf139ndbl_1xyc8_nf00000gq/T/tmpzmefta9l.lp\n",
      "Reading time = 0.01 seconds\n",
      ": 2630 rows, 6554 columns, 22274 nonzeros\n",
      "organism: 1\n",
      "Read LP format model from file /var/folders/yp/dx3zqgf139ndbl_1xyc8_nf00000gq/T/tmpjfg2cs9g.lp\n",
      "Reading time = 0.01 seconds\n",
      ": 1318 rows, 3010 columns, 11452 nonzeros\n",
      "organism: 0\n",
      "Read LP format model from file /var/folders/yp/dx3zqgf139ndbl_1xyc8_nf00000gq/T/tmp86coww99.lp\n",
      "Reading time = 0.01 seconds\n",
      ": 2630 rows, 6554 columns, 22274 nonzeros\n",
      "organism: 1\n",
      "Read LP format model from file /var/folders/yp/dx3zqgf139ndbl_1xyc8_nf00000gq/T/tmpx76lwd7a.lp\n",
      "Reading time = 0.01 seconds\n",
      ": 1318 rows, 3010 columns, 11452 nonzeros\n",
      "organism: 0\n",
      "Read LP format model from file /var/folders/yp/dx3zqgf139ndbl_1xyc8_nf00000gq/T/tmprtm6onqa.lp\n",
      "Reading time = 0.01 seconds\n",
      ": 2630 rows, 6554 columns, 22274 nonzeros\n",
      "organism: 1\n",
      "Read LP format model from file /var/folders/yp/dx3zqgf139ndbl_1xyc8_nf00000gq/T/tmp3584med4.lp\n",
      "Reading time = 0.01 seconds\n",
      ": 1318 rows, 3010 columns, 11452 nonzeros\n",
      "organism: 0\n",
      "Read LP format model from file /var/folders/yp/dx3zqgf139ndbl_1xyc8_nf00000gq/T/tmpvswhrhit.lp\n",
      "Reading time = 0.02 seconds\n",
      ": 2630 rows, 6554 columns, 22274 nonzeros\n",
      "organism: 1\n",
      "Read LP format model from file /var/folders/yp/dx3zqgf139ndbl_1xyc8_nf00000gq/T/tmprw249eax.lp\n",
      "Reading time = 0.01 seconds\n",
      ": 1318 rows, 3010 columns, 11452 nonzeros\n",
      "organism: 0\n",
      "Read LP format model from file /var/folders/yp/dx3zqgf139ndbl_1xyc8_nf00000gq/T/tmpwyjsydd3.lp\n",
      "Reading time = 0.02 seconds\n",
      ": 2630 rows, 6554 columns, 22274 nonzeros\n",
      "organism: 1\n",
      "Read LP format model from file /var/folders/yp/dx3zqgf139ndbl_1xyc8_nf00000gq/T/tmph3o82dqk.lp\n",
      "Reading time = 0.01 seconds\n",
      ": 1318 rows, 3010 columns, 11452 nonzeros\n",
      "organism: 0\n",
      "Read LP format model from file /var/folders/yp/dx3zqgf139ndbl_1xyc8_nf00000gq/T/tmpm4gydr6h.lp\n",
      "Reading time = 0.01 seconds\n",
      ": 2630 rows, 6554 columns, 22274 nonzeros\n",
      "organism: 1\n",
      "Read LP format model from file /var/folders/yp/dx3zqgf139ndbl_1xyc8_nf00000gq/T/tmpapqlg5f3.lp\n",
      "Reading time = 0.01 seconds\n",
      ": 1318 rows, 3010 columns, 11452 nonzeros\n",
      "organism: 0\n",
      "Read LP format model from file /var/folders/yp/dx3zqgf139ndbl_1xyc8_nf00000gq/T/tmph32a08pz.lp\n",
      "Reading time = 0.01 seconds\n",
      ": 2630 rows, 6554 columns, 22274 nonzeros\n",
      "organism: 1\n",
      "Read LP format model from file /var/folders/yp/dx3zqgf139ndbl_1xyc8_nf00000gq/T/tmpgajanpjx.lp\n",
      "Reading time = 0.01 seconds\n",
      ": 1318 rows, 3010 columns, 11452 nonzeros\n",
      "organism: 0\n",
      "Read LP format model from file /var/folders/yp/dx3zqgf139ndbl_1xyc8_nf00000gq/T/tmpoawhbluo.lp\n",
      "Reading time = 0.01 seconds\n",
      ": 2630 rows, 6554 columns, 22274 nonzeros\n",
      "organism: 1\n",
      "Read LP format model from file /var/folders/yp/dx3zqgf139ndbl_1xyc8_nf00000gq/T/tmpma71d_jm.lp\n",
      "Reading time = 0.01 seconds\n",
      ": 1318 rows, 3010 columns, 11452 nonzeros\n",
      "iteration: 3\n",
      "organism: 0\n",
      "Read LP format model from file /var/folders/yp/dx3zqgf139ndbl_1xyc8_nf00000gq/T/tmpy2dt8jlh.lp\n",
      "Reading time = 0.01 seconds\n",
      ": 2630 rows, 6554 columns, 22274 nonzeros\n",
      "organism: 1\n",
      "Read LP format model from file /var/folders/yp/dx3zqgf139ndbl_1xyc8_nf00000gq/T/tmpp8qryi85.lp\n",
      "Reading time = 0.01 seconds\n",
      ": 1318 rows, 3010 columns, 11452 nonzeros\n",
      "organism: 0\n",
      "Read LP format model from file /var/folders/yp/dx3zqgf139ndbl_1xyc8_nf00000gq/T/tmpcyasny11.lp\n",
      "Reading time = 0.01 seconds\n",
      ": 2630 rows, 6554 columns, 22274 nonzeros\n",
      "organism: 1\n",
      "Read LP format model from file /var/folders/yp/dx3zqgf139ndbl_1xyc8_nf00000gq/T/tmptovw8g5t.lp\n",
      "Reading time = 0.01 seconds\n",
      ": 1318 rows, 3010 columns, 11452 nonzeros\n",
      "organism: 0\n",
      "Read LP format model from file /var/folders/yp/dx3zqgf139ndbl_1xyc8_nf00000gq/T/tmpck9vyjt0.lp\n",
      "Reading time = 0.01 seconds\n",
      ": 2630 rows, 6554 columns, 22274 nonzeros\n",
      "organism: 1\n",
      "Read LP format model from file /var/folders/yp/dx3zqgf139ndbl_1xyc8_nf00000gq/T/tmpgjmrof_w.lp\n",
      "Reading time = 0.01 seconds\n",
      ": 1318 rows, 3010 columns, 11452 nonzeros\n",
      "organism: 0\n",
      "Read LP format model from file /var/folders/yp/dx3zqgf139ndbl_1xyc8_nf00000gq/T/tmp8p17v3_m.lp\n",
      "Reading time = 0.01 seconds\n",
      ": 2630 rows, 6554 columns, 22274 nonzeros\n",
      "organism: 1\n",
      "Read LP format model from file /var/folders/yp/dx3zqgf139ndbl_1xyc8_nf00000gq/T/tmp4b82czs2.lp\n",
      "Reading time = 0.01 seconds\n",
      ": 1318 rows, 3010 columns, 11452 nonzeros\n",
      "organism: 0\n",
      "Read LP format model from file /var/folders/yp/dx3zqgf139ndbl_1xyc8_nf00000gq/T/tmpl33szbb1.lp\n",
      "Reading time = 0.01 seconds\n",
      ": 2630 rows, 6554 columns, 22274 nonzeros\n",
      "organism: 1\n",
      "Read LP format model from file /var/folders/yp/dx3zqgf139ndbl_1xyc8_nf00000gq/T/tmpcqpavvwu.lp\n",
      "Reading time = 0.01 seconds\n",
      ": 1318 rows, 3010 columns, 11452 nonzeros\n",
      "organism: 0\n",
      "Read LP format model from file /var/folders/yp/dx3zqgf139ndbl_1xyc8_nf00000gq/T/tmpz2fqmp9w.lp\n",
      "Reading time = 0.01 seconds\n",
      ": 2630 rows, 6554 columns, 22274 nonzeros\n",
      "organism: 1\n",
      "Read LP format model from file /var/folders/yp/dx3zqgf139ndbl_1xyc8_nf00000gq/T/tmpk085ry7d.lp\n",
      "Reading time = 0.01 seconds\n",
      ": 1318 rows, 3010 columns, 11452 nonzeros\n",
      "organism: 0\n",
      "Read LP format model from file /var/folders/yp/dx3zqgf139ndbl_1xyc8_nf00000gq/T/tmpcz_udo8l.lp\n",
      "Reading time = 0.01 seconds\n",
      ": 2630 rows, 6554 columns, 22274 nonzeros\n",
      "organism: 1\n",
      "Read LP format model from file /var/folders/yp/dx3zqgf139ndbl_1xyc8_nf00000gq/T/tmpy8k64acz.lp\n",
      "Reading time = 0.01 seconds\n",
      ": 1318 rows, 3010 columns, 11452 nonzeros\n",
      "organism: 0\n",
      "Read LP format model from file /var/folders/yp/dx3zqgf139ndbl_1xyc8_nf00000gq/T/tmphk_hnqfu.lp\n",
      "Reading time = 0.01 seconds\n",
      ": 2630 rows, 6554 columns, 22274 nonzeros\n",
      "organism: 1\n",
      "Read LP format model from file /var/folders/yp/dx3zqgf139ndbl_1xyc8_nf00000gq/T/tmpbvh4smv9.lp\n",
      "Reading time = 0.01 seconds\n",
      ": 1318 rows, 3010 columns, 11452 nonzeros\n",
      "organism: 0\n",
      "Read LP format model from file /var/folders/yp/dx3zqgf139ndbl_1xyc8_nf00000gq/T/tmp1iap57ip.lp\n",
      "Reading time = 0.01 seconds\n",
      ": 2630 rows, 6554 columns, 22274 nonzeros\n",
      "organism: 1\n",
      "Read LP format model from file /var/folders/yp/dx3zqgf139ndbl_1xyc8_nf00000gq/T/tmpgn1fx1uo.lp\n",
      "Reading time = 0.01 seconds\n",
      ": 1318 rows, 3010 columns, 11452 nonzeros\n",
      "organism: 0\n",
      "Read LP format model from file /var/folders/yp/dx3zqgf139ndbl_1xyc8_nf00000gq/T/tmpyo7orupr.lp\n",
      "Reading time = 0.02 seconds\n",
      ": 2630 rows, 6554 columns, 22274 nonzeros\n",
      "organism: 1\n",
      "Read LP format model from file /var/folders/yp/dx3zqgf139ndbl_1xyc8_nf00000gq/T/tmplpaydutx.lp\n",
      "Reading time = 0.01 seconds\n",
      ": 1318 rows, 3010 columns, 11452 nonzeros\n",
      "iteration: 4\n",
      "organism: 0\n",
      "Read LP format model from file /var/folders/yp/dx3zqgf139ndbl_1xyc8_nf00000gq/T/tmpqwfp_1ub.lp\n",
      "Reading time = 0.01 seconds\n",
      ": 2630 rows, 6554 columns, 22274 nonzeros\n",
      "organism: 1\n",
      "Read LP format model from file /var/folders/yp/dx3zqgf139ndbl_1xyc8_nf00000gq/T/tmp1ir2hwm_.lp\n",
      "Reading time = 0.01 seconds\n",
      ": 1318 rows, 3010 columns, 11452 nonzeros\n",
      "organism: 0\n",
      "Read LP format model from file /var/folders/yp/dx3zqgf139ndbl_1xyc8_nf00000gq/T/tmpptgr6ipd.lp\n",
      "Reading time = 0.01 seconds\n",
      ": 2630 rows, 6554 columns, 22274 nonzeros\n",
      "organism: 1\n",
      "Read LP format model from file /var/folders/yp/dx3zqgf139ndbl_1xyc8_nf00000gq/T/tmpz33_pmqi.lp\n",
      "Reading time = 0.01 seconds\n",
      ": 1318 rows, 3010 columns, 11452 nonzeros\n",
      "organism: 0\n",
      "Read LP format model from file /var/folders/yp/dx3zqgf139ndbl_1xyc8_nf00000gq/T/tmp52ddsmpc.lp\n",
      "Reading time = 0.01 seconds\n",
      ": 2630 rows, 6554 columns, 22274 nonzeros\n",
      "organism: 1\n",
      "Read LP format model from file /var/folders/yp/dx3zqgf139ndbl_1xyc8_nf00000gq/T/tmpx8nvk6oe.lp\n",
      "Reading time = 0.01 seconds\n",
      ": 1318 rows, 3010 columns, 11452 nonzeros\n",
      "organism: 0\n",
      "Read LP format model from file /var/folders/yp/dx3zqgf139ndbl_1xyc8_nf00000gq/T/tmpun5z1gfs.lp\n",
      "Reading time = 0.01 seconds\n",
      ": 2630 rows, 6554 columns, 22274 nonzeros\n",
      "organism: 1\n",
      "Read LP format model from file /var/folders/yp/dx3zqgf139ndbl_1xyc8_nf00000gq/T/tmp5s_1acd0.lp\n",
      "Reading time = 0.01 seconds\n",
      ": 1318 rows, 3010 columns, 11452 nonzeros\n",
      "organism: 0\n",
      "Read LP format model from file /var/folders/yp/dx3zqgf139ndbl_1xyc8_nf00000gq/T/tmpky4bd5wp.lp\n",
      "Reading time = 0.01 seconds\n",
      ": 2630 rows, 6554 columns, 22274 nonzeros\n",
      "organism: 1\n",
      "Read LP format model from file /var/folders/yp/dx3zqgf139ndbl_1xyc8_nf00000gq/T/tmpqf4120nc.lp\n",
      "Reading time = 0.01 seconds\n",
      ": 1318 rows, 3010 columns, 11452 nonzeros\n",
      "organism: 0\n",
      "Read LP format model from file /var/folders/yp/dx3zqgf139ndbl_1xyc8_nf00000gq/T/tmplpd5kn5c.lp\n",
      "Reading time = 0.01 seconds\n",
      ": 2630 rows, 6554 columns, 22274 nonzeros\n",
      "organism: 1\n",
      "Read LP format model from file /var/folders/yp/dx3zqgf139ndbl_1xyc8_nf00000gq/T/tmpu2nitobm.lp\n",
      "Reading time = 0.01 seconds\n",
      ": 1318 rows, 3010 columns, 11452 nonzeros\n",
      "organism: 0\n",
      "Read LP format model from file /var/folders/yp/dx3zqgf139ndbl_1xyc8_nf00000gq/T/tmpzmi1pcjo.lp\n",
      "Reading time = 0.01 seconds\n",
      ": 2630 rows, 6554 columns, 22274 nonzeros\n",
      "organism: 1\n",
      "Read LP format model from file /var/folders/yp/dx3zqgf139ndbl_1xyc8_nf00000gq/T/tmpj5dg59kw.lp\n",
      "Reading time = 0.01 seconds\n",
      ": 1318 rows, 3010 columns, 11452 nonzeros\n",
      "organism: 0\n",
      "Read LP format model from file /var/folders/yp/dx3zqgf139ndbl_1xyc8_nf00000gq/T/tmpntm9xlfu.lp\n",
      "Reading time = 0.01 seconds\n",
      ": 2630 rows, 6554 columns, 22274 nonzeros\n",
      "organism: 1\n",
      "Read LP format model from file /var/folders/yp/dx3zqgf139ndbl_1xyc8_nf00000gq/T/tmp30amnv0_.lp\n",
      "Reading time = 0.01 seconds\n",
      ": 1318 rows, 3010 columns, 11452 nonzeros\n",
      "organism: 0\n",
      "Read LP format model from file /var/folders/yp/dx3zqgf139ndbl_1xyc8_nf00000gq/T/tmppmau_boj.lp\n",
      "Reading time = 0.01 seconds\n",
      ": 2630 rows, 6554 columns, 22274 nonzeros\n",
      "organism: 1\n",
      "Read LP format model from file /var/folders/yp/dx3zqgf139ndbl_1xyc8_nf00000gq/T/tmpgh67gxe0.lp\n",
      "Reading time = 0.01 seconds\n",
      ": 1318 rows, 3010 columns, 11452 nonzeros\n",
      "organism: 0\n",
      "Read LP format model from file /var/folders/yp/dx3zqgf139ndbl_1xyc8_nf00000gq/T/tmpdd6znqj7.lp\n",
      "Reading time = 0.01 seconds\n",
      ": 2630 rows, 6554 columns, 22274 nonzeros\n",
      "organism: 1\n",
      "Read LP format model from file /var/folders/yp/dx3zqgf139ndbl_1xyc8_nf00000gq/T/tmp8jucrubw.lp\n",
      "Reading time = 0.01 seconds\n",
      ": 1318 rows, 3010 columns, 11452 nonzeros\n"
     ]
    }
   ],
   "source": [
    "# iterative fba (sampling or non-sampling)\n",
    "# input/parameters\n",
    "sol_fun = 'sampling' #sampling or pfba. If pfba, m1 and m2 = 1\n",
    "f_0 = glc_f0\n",
    "n = 5 # number of iterations\n",
    "m1 = 10 # number of initial points to use at each iteration\n",
    "m2 = 10 # number of runs per initial point\n",
    "M = np.zeros([m1,n-1],dtype=int) #randomly pre-assign sampling initial point matrix\n",
    "for i in range(n-1):\n",
    "    Mcol = np.sort(np.random.choice(m1*m2,m1,replace=False))\n",
    "    M[:,i]=Mcol\n",
    "alpha = 0.5\n",
    "R = [0.5,0.5]\n",
    "\n",
    "# Function\n",
    "# output\n",
    "# initialize environment flux dataframe\n",
    "# Index\n",
    "arrays = [[0]*m1*m2,list(range(m1*m2))]\n",
    "tuples = list(zip(*arrays))\n",
    "multi_idx = pd.MultiIndex.from_tuples(tuples,names=['iteration','run'])\n",
    "# Columns\n",
    "cols = set()\n",
    "for ii in range(len(S)):\n",
    "    for ji in range(len(S[ii].exchanges)):\n",
    "        cols.add(S[ii].exchanges[ji].id)\n",
    "f = pd.DataFrame([np.zeros(len(cols))],columns=list(cols),index=multi_idx,dtype=float)\n",
    "for ji in range(len(f_0)):\n",
    "    exid = f_0.iloc[ji]['Reaction']\n",
    "    ex_flux = f_0.iloc[ji]['LB']\n",
    "    f.loc[:,exid] = ex_flux\n",
    "\n",
    "# initialize organism flux dataframes\n",
    "F = []\n",
    "\n",
    "for ni in range(n): #iteration\n",
    "    print('iteration:',ni)\n",
    "    if ni == 0: #first iteration\n",
    "        # run fba for each model in environment n\n",
    "        for ii in range(len(S)):\n",
    "            print('organism:',ii)\n",
    "            with S[ii] as model_t: #get model from list of models S\n",
    "                # Re-set Exchanges (just to be safe)\n",
    "                for ex in model_t.exchanges:\n",
    "                    ex.lower_bound = 0\n",
    "                    ex.upper_bound = 1000\n",
    "                # Set Environment\n",
    "                for exi in range(len(f.columns)):\n",
    "                    ex_lb = f.loc[(0,0)][f.columns[exi]] #initial environment is the same for all runs, so use the 0th run\n",
    "                    if ex_lb != 0:\n",
    "                        ex_id = f.columns[exi]\n",
    "                        if ex_id in model_t.exchanges:\n",
    "                            model_t.exchanges.get_by_id(ex_id).lower_bound = ex_lb\n",
    "\n",
    "                if sol_fun == 'pfba':\n",
    "                    multi_idx = pd.MultiIndex.from_tuples([(0,0)],names=[\"iteration\",\"run\"])                                       \n",
    "                    # run pFBA\n",
    "                    sol1 = model_t.slim_optimize()\n",
    "                    if sol1 > 0.001:\n",
    "                        sol = cb.flux_analysis.parsimonious.pfba(model_t)\n",
    "                        # standardize and save output                   \n",
    "                        df = pd.DataFrame([sol.fluxes],columns=sol.fluxes.index,index=multi_idx)\n",
    "                        F.append(df)\n",
    "                    else:\n",
    "                        rxnid = []\n",
    "                        for i in range(len(S[ii].reactions)): rxnid.append(S[ii].reactions[i].id)\n",
    "                        df = pd.DataFrame([np.zeros(len(S[ii].reactions))],columns=rxnid,index=multi_idx)\n",
    "                        F.append(df)\n",
    "                \n",
    "                if sol_fun == 'sampling':\n",
    "                    # run flux sampling\n",
    "                    sol = cb.sampling.sample(model_t,m1*m2)\n",
    "                    # standardize and save output\n",
    "                    arrays = [[0]*m1*m2,list(sol.index)]\n",
    "                    tuples = list(zip(*arrays))\n",
    "                    multi_idx = pd.MultiIndex.from_tuples(tuples,names=['iteration','run'])\n",
    "                    sol.index = multi_idx\n",
    "                    F.append(sol)\n",
    "            \n",
    "        # update f\n",
    "        for mi in range(m1*m2): \n",
    "            df_t = f.loc[[(0,0)]].copy(deep=True) #temporary dataframe for base environment from iteration 0,0\n",
    "            for ji in range(len(f.columns)):# for each exchange flux in environment\n",
    "                i_sum = 0\n",
    "                flux_id = f.columns[ji]\n",
    "                for ii in range(len(S)):# for each organism sum up flux * relative abundance\n",
    "                    if flux_id in S[ii].exchanges:\n",
    "                        if F[ii].loc[(0,mi)][flux_id] != 0:\n",
    "                            i_sum = i_sum + F[ii].loc[(0,mi)][flux_id] * R[ii]\n",
    "                df_t.loc[(0,0),flux_id] = (1-alpha)*(f.loc[(0,0)][flux_id].item()-i_sum) + alpha*f.loc[(0,0)][flux_id].item() # update flux\n",
    "            #re-index tmp dataframe\n",
    "            multi_idx = pd.MultiIndex.from_tuples([(1,mi)],names=[\"iteration\",\"run\"])\n",
    "            df_tt = pd.DataFrame([df_t.loc[(0,0)]],columns = df_t.columns, index = multi_idx)\n",
    "            f = pd.concat([f,df_tt])\n",
    "\n",
    "    else:\n",
    "        for m1i in range(m1): #run with different initial points       \n",
    "            # run fba for each model in environment n set by M matrix\n",
    "            Mi = M[m1i,ni-1] #mapping\n",
    "            for ii in range(len(S)):\n",
    "                print('organism:',ii)\n",
    "                with S[ii] as model_t: #get model from list of models S\n",
    "                    # Re-set Exchanges (just to be safe)\n",
    "                    for ex in model_t.exchanges:\n",
    "                        ex.lower_bound = 0\n",
    "                        ex.upper_bound = 1000\n",
    "                    # Set Environment\n",
    "                    for exi in range(len(f.columns)):\n",
    "                        ex_lb = f.loc[(ni,Mi)][f.columns[exi]]\n",
    "                        if ex_lb != 0:\n",
    "                            ex_id = f.columns[exi]\n",
    "                            if ex_id in model_t.exchanges:\n",
    "                                model_t.exchanges.get_by_id(ex_id).lower_bound = ex_lb\n",
    "    \n",
    "                    if sol_fun == 'pfba':\n",
    "                        multi_idx = pd.MultiIndex.from_tuples([(ni,0)],names=[\"iteration\",\"run\"])\n",
    "                        # run pFBA\n",
    "                        sol1 = model_t.slim_optimize()\n",
    "                        if sol1 > 0.001:\n",
    "                            sol = cb.flux_analysis.parsimonious.pfba(model_t)\n",
    "                            # standardize and save output                   \n",
    "                            df = pd.DataFrame([sol.fluxes],columns=sol.fluxes.index,index=multi_idx)\n",
    "                            F[ii] = pd.concat([F[ii],df])\n",
    "                        else:\n",
    "                            rxnid = []\n",
    "                            for i in range(len(S[ii].reactions)): rxnid.append(S[ii].reactions[i].id)\n",
    "                            df = pd.DataFrame([np.zeros(len(S[ii].reactions))],columns=rxnid,index=multi_idx)\n",
    "                            F[ii] = pd.concat([F[ii],df])\n",
    "                            \n",
    "                    if sol_fun == 'sampling':\n",
    "                        # run flux sampling\n",
    "                        sol = cb.sampling.sample(model_t,m2)\n",
    "                        # standardize and save output\n",
    "                        arrays = [[ni]*m1*m2,list(sol.index+m1i*m2)]\n",
    "                        tuples = list(zip(*arrays))\n",
    "                        multi_idx = pd.MultiIndex.from_tuples(tuples,names=['iteration','run'])\n",
    "                        sol.index = multi_idx\n",
    "                        F[ii] = pd.concat([F[ii],sol])\n",
    "\n",
    "            # update f\n",
    "            for m2i in range(m2):\n",
    "                df_t = f.loc[[(ni,Mi)]].copy(deep=True) #temporary dataframe for base environment from iteration 0,0\n",
    "                for ji in range(len(f.columns)):# for each exchange flux in environment\n",
    "                    i_sum = 0\n",
    "                    flux_id = f.columns[ji]\n",
    "                    for ii in range(len(S)):# for each organism sum up flux * relative abundance\n",
    "                        if flux_id in S[ii].exchanges:\n",
    "                            if F[ii].loc[(ni,m2i+m1i*m2)][flux_id] != 0:\n",
    "                                i_sum = i_sum + F[ii].loc[(ni,m2i+m1i*m2)][flux_id] * R[ii]\n",
    "                    df_t.loc[(ni,Mi),flux_id] = (1-alpha)*(f.loc[(ni,Mi)][flux_id].item()-i_sum) + alpha*f.loc[(0,0)][flux_id].item() # update flux\n",
    "                #re-index tmp dataframe\n",
    "                multi_idx = pd.MultiIndex.from_tuples([(ni+1,m2i+m1i*m2)],names=[\"iteration\",\"run\"])\n",
    "                df_tt = pd.DataFrame([df_t.loc[(ni,Mi)]],columns = df_t.columns, index = multi_idx)\n",
    "                f = pd.concat([f,df_tt])"
   ]
  },
  {
   "cell_type": "code",
   "execution_count": 15,
   "id": "c1453d16-b1fa-4ba4-81e0-ae7e73cd4452",
   "metadata": {},
   "outputs": [],
   "source": [
    "# Save F and f with pickle\n",
    "import pickle\n",
    "with open('Ff_pair_sample.pkl', 'wb') as file:\n",
    "    pickle.dump([F,f,M], file)"
   ]
  },
  {
   "cell_type": "code",
   "execution_count": 16,
   "id": "3d0e73e4-1d2e-4523-a34c-96185480abe1",
   "metadata": {},
   "outputs": [],
   "source": [
    "import pickle\n",
    "with open('Ff_pair_sample.pkl','rb') as file:\n",
    "    [F,f,M] = pickle.load(file)"
   ]
  },
  {
   "cell_type": "code",
   "execution_count": 17,
   "id": "1d35f7e5-856d-4e13-83b4-3aba15374d97",
   "metadata": {},
   "outputs": [
    {
     "data": {
      "text/plain": [
       "iteration  run\n",
       "0          0      0.011780\n",
       "           1      0.003948\n",
       "           2      0.003213\n",
       "           3      0.003521\n",
       "           4      0.006598\n",
       "                    ...   \n",
       "4          95     0.004245\n",
       "           96     0.004161\n",
       "           97     0.004174\n",
       "           98     0.004237\n",
       "           99     0.004588\n",
       "Name: biomass525, Length: 500, dtype: float64"
      ]
     },
     "execution_count": 17,
     "metadata": {},
     "output_type": "execute_result"
    }
   ],
   "source": [
    "F[0]['biomass525']"
   ]
  },
  {
   "cell_type": "code",
   "execution_count": 75,
   "id": "fde63ca3-c053-4f2f-bbe4-b7c38e4eee4f",
   "metadata": {},
   "outputs": [
    {
     "data": {
      "image/png": "[encoded data removed]",
      "text/plain": [
       "<Figure size 640x480 with 1 Axes>"
      ]
     },
     "metadata": {},
     "output_type": "display_data"
    }
   ],
   "source": [
    "import matplotlib.pyplot as plt\n",
    "\n",
    "# Plot Sampling Results\n",
    "org = 0\n",
    "flux = 'EX_ac(e)'\n",
    "#flux = 'EX_glc_D(e)'\n",
    "#flux = 'biomass525'\n",
    "\n",
    "# First iteration\n",
    "for j in range(len(F[org][flux][i])):\n",
    "    plt.plot(0,F[org][flux][0][j],'b.',alpha=0.1)\n",
    "\n",
    "# N+1 iterations\n",
    "for i in range(1,M.shape[1]+1):\n",
    "    #dots for all flux values\n",
    "    for j in range(len(F[org][flux][i])):\n",
    "        plt.plot(i,F[org][flux][i][j],'b.',alpha=0.1)\n",
    "    #lines linking flux values\n",
    "    for j in range(len(F[org][flux][i])):\n",
    "        m_ind = M[int(np.floor(j/M.shape[0]))][i-1]\n",
    "        plt.plot([i-1,i],[F[org][flux][i-1][m_ind],F[org][flux][i][j]],'b-',alpha=0.05)\n",
    "\n",
    "org = 1\n",
    "flux = 'EX_ac(e)'\n",
    "#flux = 'EX_glc_D(e)'\n",
    "#flux = 'bio1'\n",
    "\n",
    "# First iteration\n",
    "for j in range(len(F[org][flux][i])):\n",
    "    plt.plot(0,F[org][flux][0][j],'r.',alpha=0.1)\n",
    "\n",
    "# N+1 iterations\n",
    "for i in range(1,M.shape[1]+1):\n",
    "    #dots for all flux values\n",
    "    for j in range(len(F[org][flux][i])):\n",
    "        plt.plot(i,F[org][flux][i][j],'r.',alpha=0.1)\n",
    "    #lines linking flux values\n",
    "    for j in range(len(F[org][flux][i])):\n",
    "        m_ind = M[int(np.floor(j/M.shape[0]))][i-1]\n",
    "        plt.plot([i-1,i],[F[org][flux][i-1][m_ind],F[org][flux][i][j]],'r-',alpha=0.05)   "
   ]
  },
  {
   "cell_type": "code",
   "execution_count": null,
   "id": "bcc7d39a-e485-4020-81e9-7cd169e6648b",
   "metadata": {},
   "outputs": [],
   "source": []
  },
  {
   "cell_type": "markdown",
   "id": "7352b7a4-4de3-4776-9f19-b05356646e7a",
   "metadata": {},
   "source": [
    "### Other Usefull Code"
   ]
  },
  {
   "cell_type": "code",
   "execution_count": 42,
   "id": "989c8ec7-d21f-4e91-8415-282b0f2100cb",
   "metadata": {},
   "outputs": [
    {
     "data": {
      "text/plain": [
       "array([['EX_ca2(e)'],\n",
       "       ['EX_cl(e)'],\n",
       "       ['EX_cobalt2(e)'],\n",
       "       ['EX_cu2(e)'],\n",
       "       ['EX_cys_L(e)'],\n",
       "       ['EX_fe2(e)'],\n",
       "       ['EX_k(e)'],\n",
       "       ['EX_mg2(e)'],\n",
       "       ['EX_mn2(e)'],\n",
       "       ['EX_pi(e)'],\n",
       "       ['EX_zn2(e)']], dtype='<U19')"
      ]
     },
     "execution_count": 42,
     "metadata": {},
     "output_type": "execute_result"
    }
   ],
   "source": [
    "# Auxotrophy Analysis\n",
    "exchange = [] # Keep track of exchanges\n",
    "relative_growth = [] # Keep track of relative growth rate (how well does the model grow without this metabolite vs with the metabolite)\n",
    "\n",
    "with S[1] as model: # set model\n",
    "\n",
    "    for ex in model.exchanges: # turn on all exchanges\n",
    "        ex.lower_bound = -1000\n",
    "        ex.upper_bound = 1000\n",
    "\n",
    "    model.exchanges.get_by_id('EX_o2(e)').lower_bound = 0 # turn off oxygen uptake (anaerobic)\n",
    "    \n",
    "    base_solution = model.slim_optimize() # calculate the base growth rate, with all nutrients available, using FBA\n",
    "    if base_solution < 0.01: # print a warning if the model didn't grow with all nutrients\n",
    "        print('base solution low')\n",
    "        \n",
    "    for ex in model.exchanges: # for each exchange reaction\n",
    "        ex_id = ex.id\n",
    "        \n",
    "        with model as model1: \n",
    "            model1.reactions.get_by_id(ex_id).lower_bound = 0 # turn off uptake\n",
    "            aux_solution = model.slim_optimize() # recalculate growth rate\n",
    "            rel_gro = (aux_solution-base_solution)/base_solution # calculate relative growth change\n",
    "            exchange.append(ex_id) # save exchange id\n",
    "            relative_growth.append(rel_gro) # save relative growth change\n",
    "\n",
    "# Save essential metabolite ids for late (these are the metabolites that when removed cause a greater than 90% reduction in growth)\n",
    "essential_inds = np.argwhere(np.array(relative_growth)<-0.9)\n",
    "essentials = np.array(exchange)[essential_inds]\n",
    "\n",
    "essentials"
   ]
  },
  {
   "cell_type": "code",
   "execution_count": 57,
   "id": "465091dc-52d4-4ed6-b7ce-6b930311f06d",
   "metadata": {},
   "outputs": [],
   "source": [
    "# Minimal Medium\n",
    "with S[1] as model_t:\n",
    "    # add reactions that minimal media doesn't know about\n",
    "    add_ex = ['ac[c]','so4[c]','nh4[c]','pi[c]']\n",
    "    for ex in add_ex:\n",
    "        F_rxn = cb.Reaction('F_'+ex)\n",
    "        F_rxn.lower_bound = -100\n",
    "        F_rxn.upper_bound = 1000\n",
    "        F_rxn.add_metabolites({model_t.metabolites.get_by_id(ex):-1})\n",
    "        model_t.add_reactions([F_rxn])\n",
    "    med1 = cb.medium.minimal_medium(model_t,0.01,open_exchanges=True,minimize_components=3)\n",
    "med2 = cb.medium.minimal_medium(S[1],0.01,open_exchanges=True,minimize_components=3)\n"
   ]
  },
  {
   "cell_type": "code",
   "execution_count": 59,
   "id": "98c85853-1245-4bd7-a4ab-33ab0bdaf853",
   "metadata": {},
   "outputs": [
    {
     "data": {
      "text/plain": [
       "EX_ca2(e)             0.000079\n",
       "EX_cl(e)              0.000079\n",
       "EX_cobalt2(e)         0.000079\n",
       "EX_cu2(e)             0.000079\n",
       "EX_cys_L(e)           0.002102\n",
       "EX_fe2(e)             0.000318\n",
       "EX_k(e)               0.000079\n",
       "EX_mg2(e)             0.000079\n",
       "EX_mn2(e)             0.000079\n",
       "EX_pullulan1200(e)    0.000215\n",
       "EX_zn2(e)             0.000079\n",
       "dtype: float64"
      ]
     },
     "execution_count": 59,
     "metadata": {},
     "output_type": "execute_result"
    }
   ],
   "source": [
    "med1"
   ]
  },
  {
   "cell_type": "code",
   "execution_count": 60,
   "id": "f2c71f09-cedb-4d61-93d8-7c1793166165",
   "metadata": {},
   "outputs": [
    {
     "data": {
      "text/plain": [
       "EX_ca2(e)        0.000079\n",
       "EX_cl(e)         0.000079\n",
       "EX_cobalt2(e)    0.000079\n",
       "EX_cu2(e)        0.000079\n",
       "EX_cys_L(e)      0.002102\n",
       "EX_fe2(e)        0.000318\n",
       "EX_hspg(e)       0.067659\n",
       "EX_k(e)          0.000079\n",
       "EX_mg2(e)        0.000079\n",
       "EX_mn2(e)        0.000079\n",
       "EX_pi(e)         0.006189\n",
       "EX_zn2(e)        0.000079\n",
       "dtype: float64"
      ]
     },
     "execution_count": 60,
     "metadata": {},
     "output_type": "execute_result"
    }
   ],
   "source": [
    "med2"
   ]
  },
  {
   "cell_type": "code",
   "execution_count": null,
   "id": "5dac5b83-e1ae-4c59-b1f6-14691477b6e5",
   "metadata": {},
   "outputs": [],
   "source": []
  },
  {
   "cell_type": "code",
   "execution_count": null,
   "id": "7efab66e-5a87-4679-8dde-b7e78418fceb",
   "metadata": {},
   "outputs": [],
   "source": []
  }
 ],
 "metadata": {
  "kernelspec": {
   "display_name": "MBE2",
   "language": "python",
   "name": "python3"
  },
  "language_info": {
   "codemirror_mode": {
    "name": "ipython",
    "version": 3
   },
   "file_extension": ".py",
   "mimetype": "text/x-python",
   "name": "python",
   "nbconvert_exporter": "python",
   "pygments_lexer": "ipython3",
   "version": "3.10.15"
  }
 },
 "nbformat": 4,
 "nbformat_minor": 5
}
