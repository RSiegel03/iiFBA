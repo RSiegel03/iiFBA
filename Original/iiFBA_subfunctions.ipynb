{
 "cells": [
  {
   "cell_type": "code",
   "execution_count": 16,
   "id": "20fc00f0",
   "metadata": {},
   "outputs": [],
   "source": [
    "import cobra as cb\n",
    "import pandas as pd\n",
    "import numpy as np\n",
    "from cobra.util.solver import linear_reaction_coefficients\n",
    "\n",
    "pd.set_option('display.max_rows', 100)\n",
    "pd.set_option('display.max_columns', 100)\n",
    "pd.set_option('display.width', 0)\n",
    "pd.set_option('display.max_colwidth', None)"
   ]
  },
  {
   "cell_type": "code",
   "execution_count": 2,
   "id": "dae0ff34",
   "metadata": {},
   "outputs": [],
   "source": [
    "GROWTH_MIN_OBJ = 0.01"
   ]
  },
  {
   "cell_type": "markdown",
   "id": "b4832ced",
   "metadata": {},
   "source": [
    "# Functions for breaking down iiFBA tasks\n",
    "\n",
    "### Functions to clean and streamline\n",
    "- write code for pFBA\n",
    "- write seperate code for Sampling\n",
    "- Write code for iteration\n",
    "- Write code to re-initialize environment\n",
    "\t\n",
    "\tLastly:\n",
    "- Write wrapper to run all combined\n",
    "\t"
   ]
  },
  {
   "cell_type": "markdown",
   "id": "36af346a",
   "metadata": {},
   "source": [
    "# Lin. Alg. Based Functions\n"
   ]
  },
  {
   "cell_type": "markdown",
   "id": "74250edc",
   "metadata": {},
   "source": [
    "## Environment\n"
   ]
  },
  {
   "cell_type": "code",
   "execution_count": 3,
   "id": "266c5cf6",
   "metadata": {},
   "outputs": [],
   "source": [
    "def init_iifba(models, media, iterations, m_vals=[1,1]):\n",
    "\t# get list of all unique rxns and exchanges\n",
    "\torg_exs = set()\n",
    "\torg_rxns = set()\n",
    "\tfor model in models:\n",
    "\t\texs_set = set(model.exchanges.list_attr(\"id\"))\n",
    "\t\torg_exs = org_exs | exs_set # exchanges\n",
    "\t\trxns_set = set(model.reactions.list_attr(\"id\"))\n",
    "\t\torg_rxns = org_rxns | rxns_set # reactions\n",
    "\n",
    "\t# initialize env\n",
    "\trows = (iterations) * m_vals[0] * m_vals[1] + 1 # add one iteration for final env\n",
    "\tcols = len(org_exs)\n",
    "\tenv_f = np.zeros((rows, cols))\n",
    "\tenv0_masks = [np.array(list(org_exs)) == rxn_id for rxn_id in list(media.keys()) ]\n",
    "\tfor flux_idx, flux in enumerate(list(media.values())):\n",
    "\t\tenv_f[0][env0_masks[flux_idx]] = flux\n",
    "\t\n",
    "\t#set columns for multi-indexing\n",
    "\titers_col = np.repeat(np.arange(1, iterations+1), m_vals[0] * m_vals[1]) \n",
    "\trun_col = np.tile(np.arange(m_vals[0] * m_vals[1]), iterations)\n",
    "\titers_col = np.insert(iters_col, 0, 0) # add 0th iteration\n",
    "\trun_col = np.insert(run_col, 0, 0) # add 0th run \n",
    "\tmulti_idx = [iters_col , run_col]\n",
    "\tenv_f = pd.DataFrame(env_f, columns=list(org_exs), index=multi_idx) # convert to interprettable df\n",
    "\tenv_f.index.names = [\"Iteration\", \"Run\"]\n",
    "\n",
    "\t# initialize org_fluxes\n",
    "\trows = iterations * m_vals[0] * m_vals[1] * len(models)\n",
    "\tcols = len(org_rxns)\n",
    "\torg_F = np.zeros((rows, cols)) # pfba will drop run column\n",
    "\t\n",
    "\t# create unique multi-index for \n",
    "\tmodels_col = np.tile(np.arange(len(models)), iterations * m_vals[0] * m_vals[1]) \n",
    "\titers_col = np.repeat(np.arange(iterations), m_vals[0] * m_vals[1] * len(models)) \n",
    "\trun_col = np.tile(np.repeat(np.arange(m_vals[0] * m_vals[1]), len(models)), iterations) \n",
    "\tmulti_idx = [models_col, iters_col , run_col]\n",
    "\torg_F = pd.DataFrame(org_F, columns=list(org_rxns), index=multi_idx)\t# convert to interprettable df\n",
    "\torg_F.index.names = [\"model\", \"Iteration\", \"Run\"]\n",
    "\t\n",
    "\treturn env_f, org_F"
   ]
  },
  {
   "cell_type": "code",
   "execution_count": 4,
   "id": "6c46f5fe",
   "metadata": {},
   "outputs": [],
   "source": [
    "def set_env(model, env_f, iter, run):\n",
    "\tfor ex in model.exchanges:\n",
    "\t\tex.lower_bound = env_f.loc[iter, run][ex.id]\n",
    "\t\n",
    "\treturn model"
   ]
  },
  {
   "cell_type": "markdown",
   "id": "50afca86",
   "metadata": {},
   "source": [
    "## Optimization"
   ]
  },
  {
   "cell_type": "code",
   "execution_count": 5,
   "id": "faa9cc34",
   "metadata": {},
   "outputs": [],
   "source": [
    "def run_pfba(model, model_idx, iter, org_F):\n",
    "\t# run pFBA\n",
    "\tsol1 = model.slim_optimize()\n",
    "\tif sol1 > GROWTH_MIN_OBJ:\n",
    "\t\tsol = cb.flux_analysis.parsimonious.pfba(model)\n",
    "\t\t\n",
    "\t\torg_F.loc[(model_idx, iter, 0), list(sol.fluxes.index)] = sol.fluxes.values\n",
    "\t# do nothing otherwise - already initiated as zeros!\n",
    "\n",
    "\treturn org_F"
   ]
  },
  {
   "cell_type": "code",
   "execution_count": 6,
   "id": "22cff4cb",
   "metadata": {},
   "outputs": [],
   "source": [
    "def run_sampling(model, model_idx, iter, org_F, m_vals, rep_idx, obj_percent):\n",
    "\t# ensure sample space is constrained above a certain objective value\n",
    "\tmin_obj = model.slim_optimize() * obj_percent\n",
    "\t\n",
    "\t# set obj to be above min_obj\n",
    "\tobj_rxn = [rxn.id for rxn in linear_reaction_coefficients(model).keys()][0]\n",
    "\tmodel.reactions.get_by_id(obj_rxn).lower_bound = min_obj\n",
    "\n",
    "\t# run flux sampling\n",
    "\tif iter == 0:\n",
    "\t\tsample_ct = m_vals[0] * m_vals[1]\n",
    "\telse:\n",
    "\t\tsample_ct = m_vals[1]\n",
    "\tsol = cb.sampling.sample(model, sample_ct)\n",
    "\t\n",
    "\t# standardize and save output\n",
    "\tarrays = [[model_idx] * sample_ct, [iter] * sample_ct, list(sol.index + rep_idx * sample_ct)]\n",
    "\ttuples = list(zip(*arrays))\n",
    "\tmulti_idx = pd.MultiIndex.from_tuples(tuples, names=['model', 'Iteration', 'Run'])\n",
    "\tsol.index = multi_idx\n",
    "\t\n",
    "\torg_F.loc[sol.index, sol.columns] = sol\n",
    "\n",
    "\treturn org_F\n",
    "\n",
    "\t\n"
   ]
  },
  {
   "cell_type": "markdown",
   "id": "04255018",
   "metadata": {},
   "source": [
    "## Flux Update"
   ]
  },
  {
   "cell_type": "code",
   "execution_count": 7,
   "id": "e29adc52",
   "metadata": {},
   "outputs": [],
   "source": [
    "def update_pfba_env(env_f, org_F, flow, rel_abund, iter):\n",
    "\t# get initial env. for flow\n",
    "\tinit_env = env_f.loc[0,0].to_numpy()\n",
    "\t#pull iter info\n",
    "\tenv_tmp = env_f.loc[iter, 0][:].to_numpy()\n",
    "\trun_exs = org_F.loc[:, iter, 0][env_f.columns].to_numpy()\n",
    "\t\t\n",
    "\t# run update\n",
    "\tflux_sums = (run_exs.T @ rel_abund).flatten()\n",
    "\tenv_f.loc[iter+1, 0] = (1-flow)*(env_tmp - flux_sums) + flow*init_env\n",
    "\t\n",
    "\treturn env_f\n"
   ]
  },
  {
   "cell_type": "code",
   "execution_count": 8,
   "id": "ca94e8a7",
   "metadata": {},
   "outputs": [],
   "source": [
    "def update_sampling_env(env_f, org_F, flow, rel_abund, iter, m_vals, Mi, rep_idx):\n",
    "\t# get initial env. for flow\n",
    "\tinit_env = env_f.loc[(0,0)].to_numpy()\n",
    "\n",
    "\tsample_ct = m_vals[0] * m_vals[1] if iter == 0 else m_vals[1]\n",
    "\tfor sample_idx in range(sample_ct):\n",
    "\t\t#pull run info\n",
    "\t\tenv_tmp = env_f.loc[iter, Mi][:].to_numpy()\n",
    "\t\trun_exs = org_F.loc[:, iter, Mi][env_f.columns].to_numpy()\n",
    "\n",
    "\t\t# run update\n",
    "\t\tflux_sums = (run_exs.T @ rel_abund).flatten()\n",
    "\t\tenv_f.loc[iter+1, sample_idx+ m_vals[1]*rep_idx] = (1-flow)*(env_tmp - flux_sums) + flow*init_env\n",
    "\n",
    "\treturn env_f"
   ]
  },
  {
   "cell_type": "markdown",
   "id": "f69d0c7a",
   "metadata": {},
   "source": [
    "## Wrapper Function\n"
   ]
  },
  {
   "cell_type": "code",
   "execution_count": 9,
   "id": "69810e63",
   "metadata": {},
   "outputs": [],
   "source": [
    "def iipfba(models, media, rel_abund=None,\n",
    "\t\t   iters=10, flow=0.5):\n",
    "\tenv_fluxes, org_fluxes = init_iifba(models, media, iters)\n",
    "\n",
    "\tfor iter in range(iters):\n",
    "\t\tprint(\"Iteration:\", iter)\n",
    "\n",
    "\t\tfor org_idx, org_model in enumerate(models):\n",
    "\t\t\twith org_model as model:\n",
    "\t\t\t\t# set exchanges\n",
    "\t\t\t\tmodel = set_env(model, env_fluxes, iter, 0) # only 0 runs\n",
    "\n",
    "\t\t\t\t# run optim\n",
    "\t\t\t\torg_fluxes = run_pfba(model, org_idx, iter, org_fluxes)\n",
    "\t\t\t\t\n",
    "\t\t# update fluxes\n",
    "\t\tenv_fluxes = update_pfba_env(env_fluxes, org_fluxes, flow, rel_abund, iter)\n",
    "\n",
    "\t# pfba has no use for Run index\n",
    "\tenv_fluxes = env_fluxes.droplevel(\"Run\")\n",
    "\torg_fluxes =org_fluxes.droplevel(\"Run\")\n",
    "\n",
    "\treturn env_fluxes, org_fluxes"
   ]
  },
  {
   "cell_type": "code",
   "execution_count": 10,
   "id": "7e7ea13b",
   "metadata": {},
   "outputs": [],
   "source": [
    "def iisampling(models, media, rel_abund, iters=10, flow=0.5, m_vals=[1,1], objective_percent= 0.9):\n",
    "\t# mapping of what flux sampling to iterate\n",
    "\tM = np.zeros([m_vals[0],iters],dtype=int) #randomly pre-assign sampling initial point matrix\n",
    "\tfor i in range(1, iters):\n",
    "\t\tMcol = np.sort(np.random.choice(m_vals[0]*m_vals[1],m_vals[0],replace=False))\n",
    "\t\tM[:,i]=Mcol\n",
    "\n",
    "\t# initialize env and org fluxes\n",
    "\tenv_fluxes, org_fluxes = init_iifba(models, media, iters, m_vals)\n",
    "\n",
    "\tfor iter in range(iters):\n",
    "\t\tprint(\"Iteration:\", iter)\n",
    "\n",
    "\t\t# number of times to re-sample per iteration\n",
    "\t\trepeat_ct = 1 if iter == 0 else m_vals[0] \n",
    "\t\tfor rep_idx in range(repeat_ct):\n",
    "\t\t\tMi = M[rep_idx, iter]\n",
    "\n",
    "\t\t\t# samples taken\n",
    "\t\t\tsamples = m_vals[0] * m_vals[1] if iter == 0 else m_vals[1]\n",
    "\t\t\tfor org_idx, org_model in enumerate(models):\n",
    "\t\t\t\twith org_model as model:\n",
    "\t\t\t\t\t# set exchanges\n",
    "\t\t\t\t\tmodel = set_env(model, env_fluxes, iter, Mi)\n",
    "\n",
    "\t\t\t\t\t# run optim\n",
    "\t\t\t\t\torg_fluxes = run_sampling(model, org_idx, iter, org_fluxes, m_vals, rep_idx=rep_idx, obj_percent=objective_percent)\n",
    "\t\t\t\t\n",
    "\t\t# update fluxes\n",
    "\t\tenv_fluxes = update_sampling_env(env_fluxes, org_fluxes, flow, rel_abund, iter, m_vals, Mi, rep_idx)\n",
    "\n",
    "\n",
    "\treturn env_fluxes, org_fluxes, M"
   ]
  },
  {
   "cell_type": "code",
   "execution_count": 11,
   "id": "ac1580d6",
   "metadata": {},
   "outputs": [
    {
     "ename": "TabError",
     "evalue": "inconsistent use of tabs and spaces in indentation (3623117223.py, line 5)",
     "output_type": "error",
     "traceback": [
      "\u001b[0;36m  Cell \u001b[0;32mIn[11], line 5\u001b[0;36m\u001b[0m\n\u001b[0;31m    if media is None or not isinstance(media, dict):\u001b[0m\n\u001b[0m    ^\u001b[0m\n\u001b[0;31mTabError\u001b[0m\u001b[0;31m:\u001b[0m inconsistent use of tabs and spaces in indentation\n"
     ]
    }
   ],
   "source": [
    "def input_validation(models, media, iters, flow, rel_abund, m_vals=None, obj_percent=None):\n",
    "    if models is None or not isinstance(models, list):\n",
    "        raise ValueError(\"models must be a list of cobra.Model objects.\")\n",
    "        \n",
    "\tif media is None or not isinstance(media, dict):\n",
    "        raise ValueError(\"media must be a dictionary with reaction IDs as keys and flux values as values.\")\n",
    "\n"
   ]
  },
  {
   "cell_type": "markdown",
   "id": "b784f99a",
   "metadata": {},
   "source": [
    "# Test Models"
   ]
  },
  {
   "cell_type": "code",
   "execution_count": 12,
   "id": "38f58387",
   "metadata": {},
   "outputs": [
    {
     "name": "stderr",
     "output_type": "stream",
     "text": [
      "No defined compartments in model model. Compartments will be deduced heuristically using regular expressions.\n",
      "Using regular expression found the following compartments:c, e, p\n",
      "No defined compartments in model model. Compartments will be deduced heuristically using regular expressions.\n",
      "Using regular expression found the following compartments:c, e, p\n"
     ]
    },
    {
     "name": "stdout",
     "output_type": "stream",
     "text": [
      "{'EX_glc_D(e)': -10, 'EX_so4(e)': -100, 'EX_nh4(e)': -100, 'EX_no3(e)': -100, 'EX_pi(e)': -100, 'EX_cys_L(e)': -100, 'EX_mn2(e)': -100, 'EX_cl(e)': -100, 'EX_ca2(e)': -100, 'EX_mg2(e)': -100, 'EX_cu2(e)': -100, 'EX_cobalt2(e)': -100, 'EX_fe2(e)': -100, 'EX_fe3(e)': -100, 'EX_zn2(e)': -100, 'EX_k(e)': -100}\n"
     ]
    }
   ],
   "source": [
    "# model_pre_processing\n",
    "mod_paths = ['../AGORA2_Models/Escherichia_coli_str_K_12_substr_MG1655.mat',\n",
    "\t\t\t \"../AGORA2_Models/Bacteroides_thetaiotaomicron_3731.mat\"]\n",
    "S_matrix = [] #list of models\n",
    "# Load Models and Save in S vector\n",
    "for i in range(len(mod_paths)):\n",
    "\tmodel = cb.io.load_matlab_model(mod_paths[i])\n",
    "\tS_matrix.append(model) #append models to list\n",
    "\n",
    "# Define input environment f_0\n",
    "# this should be defined as a pandas dataframe with columns \"Reaction\" and \"LB\"\n",
    "# glucose minimal medium\n",
    "# Define Medium Components\n",
    "glc_min_med = ['EX_glc_D(e)','EX_so4(e)','EX_nh4(e)','EX_no3(e)','EX_pi(e)','EX_cys_L(e)',\n",
    "\t\t\t   'EX_mn2(e)','EX_cl(e)','EX_ca2(e)','EX_mg2(e)','EX_cu2(e)','EX_cobalt2(e)','EX_fe2(e)','EX_fe3(e)','EX_zn2(e)','EX_k(e)']\n",
    "# Define medium uptake flux bounds\n",
    "glc_min_med_flux = [-10,-100,-100,-100,-100,-100,\n",
    "\t\t\t\t\t-100,-100,-100,-100,-100,-100,-100,-100,-100,-100]\n",
    "\n",
    "glc_f0 = pd.DataFrame(data={'Reaction': glc_min_med,'LB': glc_min_med_flux})\n",
    "glc_f0 = dict(zip(glc_min_med, glc_min_med_flux))\n",
    "print(glc_f0)"
   ]
  },
  {
   "cell_type": "code",
   "execution_count": 13,
   "id": "fbe9759c",
   "metadata": {},
   "outputs": [
    {
     "name": "stdout",
     "output_type": "stream",
     "text": [
      "Iteration: 0\n",
      "Iteration: 1\n",
      "Iteration: 2\n",
      "Iteration: 3\n",
      "Iteration: 4\n",
      "Iteration: 5\n",
      "Iteration: 6\n",
      "Iteration: 7\n",
      "Iteration: 8\n",
      "Iteration: 9\n"
     ]
    }
   ],
   "source": [
    "f, F = iipfba(S_matrix, glc_f0, np.array([0.5, 0.5]).reshape((-1,1)))\n"
   ]
  },
  {
   "cell_type": "code",
   "execution_count": 14,
   "id": "40e078b1",
   "metadata": {},
   "outputs": [
    {
     "name": "stdout",
     "output_type": "stream",
     "text": [
      "Iteration: 0\n",
      "Iteration: 1\n",
      "Iteration: 2\n",
      "Iteration: 3\n",
      "Iteration: 4\n",
      "Iteration: 5\n",
      "Iteration: 6\n",
      "Iteration: 7\n",
      "Iteration: 8\n",
      "Iteration: 9\n"
     ]
    }
   ],
   "source": [
    "f, F, M = iisampling(S_matrix, glc_f0, np.array([0.5, 0.5]).reshape((-1,1)), \n",
    "\t\t\t\t  iters=10, m_vals=[10,10])\n",
    "\n",
    "# print((f.loc[0,:].to_numpy()).sum(axis=1))\n",
    "# print(f)\n",
    "# print(F)\n",
    "\n",
    "import pickle\n",
    "with open('ii_sampling_061025.pkl', 'wb') as file:\n",
    "    pickle.dump([f, F, M], file)"
   ]
  },
  {
   "cell_type": "code",
   "execution_count": 23,
   "id": "5cb6b1da",
   "metadata": {},
   "outputs": [
    {
     "data": {
      "text/html": [
       "<div>\n",
       "<style scoped>\n",
       "    .dataframe tbody tr th:only-of-type {\n",
       "        vertical-align: middle;\n",
       "    }\n",
       "\n",
       "    .dataframe tbody tr th {\n",
       "        vertical-align: top;\n",
       "    }\n",
       "\n",
       "    .dataframe thead th {\n",
       "        text-align: right;\n",
       "    }\n",
       "</style>\n",
       "<table border=\"1\" class=\"dataframe\">\n",
       "  <thead>\n",
       "    <tr style=\"text-align: right;\">\n",
       "      <th></th>\n",
       "      <th></th>\n",
       "      <th>biomass525</th>\n",
       "    </tr>\n",
       "    <tr>\n",
       "      <th>Iteration</th>\n",
       "      <th>Run</th>\n",
       "      <th></th>\n",
       "    </tr>\n",
       "  </thead>\n",
       "  <tbody>\n",
       "    <tr>\n",
       "      <th rowspan=\"5\" valign=\"top\">0</th>\n",
       "      <th>0</th>\n",
       "      <td>0.706174</td>\n",
       "    </tr>\n",
       "    <tr>\n",
       "      <th>1</th>\n",
       "      <td>0.706173</td>\n",
       "    </tr>\n",
       "    <tr>\n",
       "      <th>2</th>\n",
       "      <td>0.706651</td>\n",
       "    </tr>\n",
       "    <tr>\n",
       "      <th>3</th>\n",
       "      <td>0.706407</td>\n",
       "    </tr>\n",
       "    <tr>\n",
       "      <th>4</th>\n",
       "      <td>0.706174</td>\n",
       "    </tr>\n",
       "    <tr>\n",
       "      <th>...</th>\n",
       "      <th>...</th>\n",
       "      <td>...</td>\n",
       "    </tr>\n",
       "    <tr>\n",
       "      <th rowspan=\"5\" valign=\"top\">9</th>\n",
       "      <th>95</th>\n",
       "      <td>0.419227</td>\n",
       "    </tr>\n",
       "    <tr>\n",
       "      <th>96</th>\n",
       "      <td>0.419252</td>\n",
       "    </tr>\n",
       "    <tr>\n",
       "      <th>97</th>\n",
       "      <td>0.419253</td>\n",
       "    </tr>\n",
       "    <tr>\n",
       "      <th>98</th>\n",
       "      <td>0.419291</td>\n",
       "    </tr>\n",
       "    <tr>\n",
       "      <th>99</th>\n",
       "      <td>0.419279</td>\n",
       "    </tr>\n",
       "  </tbody>\n",
       "</table>\n",
       "<p>1000 rows × 1 columns</p>\n",
       "</div>"
      ],
      "text/plain": [
       "               biomass525\n",
       "Iteration Run            \n",
       "0         0      0.706174\n",
       "          1      0.706173\n",
       "          2      0.706651\n",
       "          3      0.706407\n",
       "          4      0.706174\n",
       "...                   ...\n",
       "9         95     0.419227\n",
       "          96     0.419252\n",
       "          97     0.419253\n",
       "          98     0.419291\n",
       "          99     0.419279\n",
       "\n",
       "[1000 rows x 1 columns]"
      ]
     },
     "execution_count": 23,
     "metadata": {},
     "output_type": "execute_result"
    }
   ],
   "source": [
    "F.loc[0 ,: ,:][[\"biomass525\"]]\n"
   ]
  },
  {
   "cell_type": "code",
   "execution_count": 362,
   "id": "6c650651",
   "metadata": {},
   "outputs": [
    {
     "name": "stdout",
     "output_type": "stream",
     "text": [
      "Iteration\n",
      "0    0.784637\n",
      "1    0.505684\n",
      "2    0.472349\n",
      "3    0.465576\n",
      "4    0.464291\n",
      "5    0.463970\n",
      "6    0.463890\n",
      "7    0.463870\n",
      "8    0.463865\n",
      "9    0.463863\n",
      "Name: biomass525, dtype: float64\n"
     ]
    }
   ],
   "source": [
    "print(F.loc[0, :][\"biomass525\"])"
   ]
  }
 ],
 "metadata": {
  "kernelspec": {
   "display_name": "MBE2",
   "language": "python",
   "name": "python3"
  },
  "language_info": {
   "codemirror_mode": {
    "name": "ipython",
    "version": 3
   },
   "file_extension": ".py",
   "mimetype": "text/x-python",
   "name": "python",
   "nbconvert_exporter": "python",
   "pygments_lexer": "ipython3",
   "version": "3.10.15"
  }
 },
 "nbformat": 4,
 "nbformat_minor": 5
}
