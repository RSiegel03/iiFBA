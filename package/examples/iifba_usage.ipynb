{
 "cells": [
  {
   "cell_type": "markdown",
   "id": "67f88209",
   "metadata": {},
   "source": [
    "# General Walkthrough and Usage of Iter-Active FBA \n",
    "\n",
    "Pip installation:<br>\n",
    "(from PyPI)<br>\n",
    "PyPI is not yet registered\n",
    "\n",
    "<br>\n",
    "(or from the github repo)<br>\n",
    "pip install \"git+https://github.com/m-3-lab/iiFBA.git@main#subdirectory=package\"\n"
   ]
  },
  {
   "cell_type": "code",
   "execution_count": 4,
   "id": "e2c56641",
   "metadata": {},
   "outputs": [],
   "source": [
    "# load package\n",
    "import iifba\n"
   ]
  },
  {
   "cell_type": "markdown",
   "id": "f0ef523a",
   "metadata": {},
   "source": [
    "## Model Loading\n",
    "This walkthrough will utilize example models installed with the Iter-Active FBA Package. These models follow and are accessible at [VMH AGORA2](https://vmh.life/files/reconstructions/AGORA2/version2.01/mat_files/individual_reconstructions/):\n",
    "- Bacteroides_thetaiotaomicron_3731.mat\n",
    "- Escherichia_coli_str_K_12_substr_MG1655.mat\n",
    "\n"
   ]
  },
  {
   "cell_type": "code",
   "execution_count": null,
   "id": "dec98743",
   "metadata": {},
   "outputs": [
    {
     "name": "stdout",
     "output_type": "stream",
     "text": [
      "/home/rseag/anaconda3/envs/MBE2/lib/python3.10/site-packages/iifba/AGORA2_Models/Escherichia_coli_str_K_12_substr_MG1655.mat\n"
     ]
    },
    {
     "name": "stderr",
     "output_type": "stream",
     "text": [
      "No defined compartments in model model. Compartments will be deduced heuristically using regular expressions.\n",
      "Using regular expression found the following compartments:c, e, p\n"
     ]
    }
   ],
   "source": [
    "\n",
    "model, media = load_example_models()\n"
   ]
  }
 ],
 "metadata": {
  "kernelspec": {
   "display_name": "MBE2",
   "language": "python",
   "name": "python3"
  },
  "language_info": {
   "codemirror_mode": {
    "name": "ipython",
    "version": 3
   },
   "file_extension": ".py",
   "mimetype": "text/x-python",
   "name": "python",
   "nbconvert_exporter": "python",
   "pygments_lexer": "ipython3",
   "version": "3.10.15"
  }
 },
 "nbformat": 4,
 "nbformat_minor": 5
}
