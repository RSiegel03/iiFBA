{
 "cells": [
  {
   "cell_type": "markdown",
   "id": "67f88209",
   "metadata": {},
   "source": [
    "# General Walkthrough and Usage of Iter-Active FBA \n",
    "\n",
    "Pip installation:<br>\n",
    "(from PyPI)<br>\n",
    "PyPI is not yet registered\n",
    "\n",
    "<br>\n",
    "(or from the github repo)<br>\n",
    "pip install \"git+https://github.com/m-3-lab/iiFBA.git@main#subdirectory=package\"\n"
   ]
  },
  {
   "cell_type": "markdown",
   "id": "923cbf14",
   "metadata": {},
   "source": [
    "## iiFBA Argument Formats\n",
    "This walkthrough will mention required formats, along with thorough docstring in package files, but will again be explicitly stated below.\n",
    "\n",
    "Models:\n",
    "- Must be provided to functions as a list of cobra.Model\n",
    "  - Even if only one model is being simulated\n",
    "  \n",
    "Media:\n",
    "- Must be formatted as dictionary\n",
    "  - Key: \"Exchange Reaction IDs\"\n",
    "  - Value: Negative Exchange Flux Lower Bound\n",
    "\n",
    "Relative Abundance:\n",
    "- Must be formatted as np.ndarray of float values as the decimal percentage of relative abundances or \"equal\"\n",
    "  - if rel_abund is \"equal\"\n",
    "    - rel_abund will default to vector of 1/n, of length n, (n = number of models) \n",
    "  - If relative abundances do not sum to 1:\n",
    "    - rel_abund is scaled to sum to 1\n",
    "  - Errors Raised if:\n",
    "    - rel_abund is not ndarray\n",
    "    - rel_abund is not capable of converting to ndarray (list types)\n",
    "    - any values are less than 0\n",
    "    - sum of values are equal to 0\n",
    "\n",
    "Iterations:\n",
    "- Must be numeric value for the count of iterations performed\n",
    "  - if iters less than 1\n",
    "    - change to 1\n",
    "  - if iters is not int\n",
    "    - will be cast as int (may raise errors)\n",
    "\n",
    "Flow:\n",
    "- Must be float value between 0 and 1, for ratio of environment replenishment\n",
    "  - If flow is outside of 0 and 1\n",
    "    - default to 0.5\n",
    "  - If flow is not float\n",
    "    - will be cast as float (may raise errors)\n",
    "\n"
   ]
  },
  {
   "cell_type": "code",
   "execution_count": 1,
   "id": "e2c56641",
   "metadata": {},
   "outputs": [],
   "source": [
    "# load package\n",
    "import iifba\n"
   ]
  },
  {
   "cell_type": "markdown",
   "id": "f0ef523a",
   "metadata": {},
   "source": [
    "## Model Loading\n",
    "This walkthrough will utilize example models installed with the Iter-Active FBA Package. These models are accessible at [VMH AGORA2](https://vmh.life/files/reconstructions/AGORA2/version2.01/mat_files/individual_reconstructions/):\n",
    "- Bacteroides_thetaiotaomicron_3731.mat\n",
    "- Escherichia_coli_str_K_12_substr_MG1655.mat\n",
    "\n",
    "\n",
    "<div class=\"alert alert-block alert-info\">\n",
    "Even if only 1 model will be used for simulation, model must still be stored in a list.\n",
    "</div>"
   ]
  },
  {
   "cell_type": "code",
   "execution_count": 4,
   "id": "dec98743",
   "metadata": {},
   "outputs": [
    {
     "ename": "NameError",
     "evalue": "name 'files' is not defined",
     "output_type": "error",
     "traceback": [
      "\u001b[0;31m---------------------------------------------------------------------------\u001b[0m",
      "\u001b[0;31mNameError\u001b[0m                                 Traceback (most recent call last)",
      "Cell \u001b[0;32mIn[4], line 2\u001b[0m\n\u001b[1;32m      1\u001b[0m \u001b[38;5;28;01mfrom\u001b[39;00m \u001b[38;5;21;01miifba\u001b[39;00m\u001b[38;5;21;01m.\u001b[39;00m\u001b[38;5;21;01mutils\u001b[39;00m \u001b[38;5;28;01mimport\u001b[39;00m load_example_models\n\u001b[0;32m----> 2\u001b[0m EC, BT, media \u001b[38;5;241m=\u001b[39m \u001b[43mload_example_models\u001b[49m\u001b[43m(\u001b[49m\u001b[43m)\u001b[49m\n\u001b[1;32m      4\u001b[0m \u001b[38;5;66;03m# combine models in list of cobra.Models\u001b[39;00m\n\u001b[1;32m      5\u001b[0m models \u001b[38;5;241m=\u001b[39m [EC, BT]\n",
      "File \u001b[0;32m~/anaconda3/envs/MBE2/lib/python3.10/site-packages/iifba/utils.py:10\u001b[0m, in \u001b[0;36mload_example_models\u001b[0;34m()\u001b[0m\n\u001b[1;32m      9\u001b[0m \u001b[38;5;28;01mdef\u001b[39;00m \u001b[38;5;21mload_example_models\u001b[39m():\n\u001b[0;32m---> 10\u001b[0m \tmat_path \u001b[38;5;241m=\u001b[39m \u001b[43mfiles\u001b[49m(\u001b[38;5;124m\"\u001b[39m\u001b[38;5;124miifba\u001b[39m\u001b[38;5;124m\"\u001b[39m)\u001b[38;5;241m.\u001b[39mjoinpath(\u001b[38;5;124m\"\u001b[39m\u001b[38;5;124mAGORA2_Models\u001b[39m\u001b[38;5;124m\"\u001b[39m, \u001b[38;5;124m\"\u001b[39m\u001b[38;5;124mEscherichia_coli_str_K_12_substr_MG1655.mat\u001b[39m\u001b[38;5;124m\"\u001b[39m)\n\u001b[1;32m     11\u001b[0m \texample_EC \u001b[38;5;241m=\u001b[39m cb\u001b[38;5;241m.\u001b[39mio\u001b[38;5;241m.\u001b[39mload_matlab_model(\u001b[38;5;28mstr\u001b[39m(mat_path))\n\u001b[1;32m     13\u001b[0m \tmat_path \u001b[38;5;241m=\u001b[39m files(\u001b[38;5;124m\"\u001b[39m\u001b[38;5;124miifba\u001b[39m\u001b[38;5;124m\"\u001b[39m)\u001b[38;5;241m.\u001b[39mjoinpath(\u001b[38;5;124m\"\u001b[39m\u001b[38;5;124mAGORA2_Models\u001b[39m\u001b[38;5;124m\"\u001b[39m, \u001b[38;5;124m\"\u001b[39m\u001b[38;5;124mBacteroides_thetaiotaomicron_3731.mat\u001b[39m\u001b[38;5;124m\"\u001b[39m)\n",
      "\u001b[0;31mNameError\u001b[0m: name 'files' is not defined"
     ]
    }
   ],
   "source": [
    "from iifba.utils import load_example_models\n",
    "EC, BT, media = load_example_models()\n",
    "\n",
    "# combine models in list of cobra.Models\n",
    "models = [EC, BT]\n",
    "\n",
    "# ensure any media takes the following format for defining \n",
    "# environment (exchange) flux bounds correctly\n",
    "print(media)"
   ]
  },
  {
   "cell_type": "markdown",
   "id": "4f9a7766",
   "metadata": {},
   "source": [
    "## Running iiFBA\n",
    "Iter-Active FBA utilizes COBRApy parsimonious FBA for simulation.\n",
    "\n"
   ]
  },
  {
   "cell_type": "code",
   "execution_count": 4,
   "id": "12fdf489",
   "metadata": {},
   "outputs": [
    {
     "name": "stdout",
     "output_type": "stream",
     "text": [
      "<class 'cobra.core.model.Model'>\n"
     ]
    }
   ],
   "source": [
    "print(type(EC))"
   ]
  },
  {
   "cell_type": "code",
   "execution_count": 5,
   "id": "781ea774",
   "metadata": {},
   "outputs": [
    {
     "ename": "ValueError",
     "evalue": "models must be a list of cobra.Model objects.",
     "output_type": "error",
     "traceback": [
      "\u001b[0;31m---------------------------------------------------------------------------\u001b[0m",
      "\u001b[0;31mValueError\u001b[0m                                Traceback (most recent call last)",
      "Cell \u001b[0;32mIn[5], line 3\u001b[0m\n\u001b[1;32m      1\u001b[0m \u001b[38;5;28;01mfrom\u001b[39;00m \u001b[38;5;21;01miifba\u001b[39;00m \u001b[38;5;28;01mimport\u001b[39;00m iipfba\n\u001b[0;32m----> 3\u001b[0m F, f \u001b[38;5;241m=\u001b[39m \u001b[43miipfba\u001b[49m\u001b[43m(\u001b[49m\u001b[43m[\u001b[49m\u001b[43mEC\u001b[49m\u001b[43m]\u001b[49m\u001b[43m,\u001b[49m\u001b[43m \u001b[49m\u001b[43mmedia\u001b[49m\u001b[43m,\u001b[49m\u001b[43m \u001b[49m\u001b[43mrel_abund\u001b[49m\u001b[38;5;241;43m=\u001b[39;49m\u001b[43m[\u001b[49m\u001b[38;5;241;43m1\u001b[39;49m\u001b[43m]\u001b[49m\u001b[43m,\u001b[49m\u001b[43m \u001b[49m\u001b[43miters\u001b[49m\u001b[38;5;241;43m=\u001b[39;49m\u001b[38;5;241;43m10\u001b[39;49m\u001b[43m,\u001b[49m\u001b[43m \u001b[49m\u001b[43mflow\u001b[49m\u001b[38;5;241;43m=\u001b[39;49m\u001b[38;5;241;43m0.5\u001b[39;49m\u001b[43m)\u001b[49m\n",
      "File \u001b[0;32m~/anaconda3/envs/MBE2/lib/python3.10/site-packages/iifba/analysis.py:321\u001b[0m, in \u001b[0;36miipfba\u001b[0;34m(models, media, rel_abund, iters, flow)\u001b[0m\n\u001b[1;32m    287\u001b[0m \u001b[38;5;28;01mdef\u001b[39;00m \u001b[38;5;21miipfba\u001b[39m(models, media, rel_abund\u001b[38;5;241m=\u001b[39m\u001b[38;5;28;01mNone\u001b[39;00m,\n\u001b[1;32m    288\u001b[0m            iters\u001b[38;5;241m=\u001b[39m\u001b[38;5;241m10\u001b[39m, flow\u001b[38;5;241m=\u001b[39m\u001b[38;5;241m0.5\u001b[39m):\n\u001b[1;32m    289\u001b[0m \u001b[38;5;250m    \u001b[39m\u001b[38;5;124;03m\"\"\"Wrapper function for running iiFBA with parsimonious FBA (pFBA). This function initializes \u001b[39;00m\n\u001b[1;32m    290\u001b[0m \u001b[38;5;124;03m    the environment and organism fluxes, sets the exchange reactions for each model, runs pFBA,\u001b[39;00m\n\u001b[1;32m    291\u001b[0m \u001b[38;5;124;03m    and updates the environment fluxes based on the results of pFBA. It returns the\u001b[39;00m\n\u001b[0;32m   (...)\u001b[0m\n\u001b[1;32m    319\u001b[0m \u001b[38;5;124;03m            iteration.\u001b[39;00m\n\u001b[1;32m    320\u001b[0m \u001b[38;5;124;03m    \"\"\"\u001b[39;00m\n\u001b[0;32m--> 321\u001b[0m     models, media, iters, flow, rel_abund, _, _ \u001b[38;5;241m=\u001b[39m \u001b[43minput_validation\u001b[49m\u001b[43m(\u001b[49m\u001b[43mmodels\u001b[49m\u001b[43m,\u001b[49m\u001b[43m \u001b[49m\u001b[43mmedia\u001b[49m\u001b[43m,\u001b[49m\u001b[43m \u001b[49m\u001b[43miters\u001b[49m\u001b[43m,\u001b[49m\u001b[43m \u001b[49m\u001b[43mflow\u001b[49m\u001b[43m,\u001b[49m\u001b[43m \u001b[49m\u001b[43mrel_abund\u001b[49m\u001b[43m)\u001b[49m\n\u001b[1;32m    323\u001b[0m     env_fluxes, org_fluxes \u001b[38;5;241m=\u001b[39m init_iifba(models, media, iters)\n\u001b[1;32m    325\u001b[0m     \u001b[38;5;28;01mfor\u001b[39;00m \u001b[38;5;28miter\u001b[39m \u001b[38;5;129;01min\u001b[39;00m \u001b[38;5;28mrange\u001b[39m(iters):\n",
      "File \u001b[0;32m~/anaconda3/envs/MBE2/lib/python3.10/site-packages/iifba/utils.py:13\u001b[0m, in \u001b[0;36minput_validation\u001b[0;34m(models, media, iters, flow, rel_abund, m_vals, obj_percent)\u001b[0m\n\u001b[1;32m     10\u001b[0m \u001b[38;5;28;01mdef\u001b[39;00m \u001b[38;5;21minput_validation\u001b[39m(models\u001b[38;5;241m=\u001b[39m\u001b[38;5;28;01mNone\u001b[39;00m, media\u001b[38;5;241m=\u001b[39m\u001b[38;5;28;01mNone\u001b[39;00m, iters\u001b[38;5;241m=\u001b[39m\u001b[38;5;28;01mNone\u001b[39;00m, flow\u001b[38;5;241m=\u001b[39m\u001b[38;5;28;01mNone\u001b[39;00m, \n\u001b[1;32m     11\u001b[0m \t\t\t\t\t rel_abund\u001b[38;5;241m=\u001b[39m\u001b[38;5;124m\"\u001b[39m\u001b[38;5;124mNone\u001b[39m\u001b[38;5;124m\"\u001b[39m, m_vals\u001b[38;5;241m=\u001b[39m\u001b[38;5;28;01mNone\u001b[39;00m, obj_percent\u001b[38;5;241m=\u001b[39m\u001b[38;5;28;01mNone\u001b[39;00m):\n\u001b[1;32m     12\u001b[0m \t\u001b[38;5;28;01mif\u001b[39;00m models \u001b[38;5;129;01mis\u001b[39;00m \u001b[38;5;129;01mnot\u001b[39;00m \u001b[38;5;28;01mNone\u001b[39;00m \u001b[38;5;129;01mor\u001b[39;00m \u001b[38;5;129;01mnot\u001b[39;00m \u001b[38;5;28misinstance\u001b[39m(models, \u001b[38;5;28mlist\u001b[39m):\n\u001b[0;32m---> 13\u001b[0m \t\t\u001b[38;5;28;01mraise\u001b[39;00m \u001b[38;5;167;01mValueError\u001b[39;00m(\u001b[38;5;124m\"\u001b[39m\u001b[38;5;124mmodels must be a list of cobra.Model objects.\u001b[39m\u001b[38;5;124m\"\u001b[39m)\n\u001b[1;32m     15\u001b[0m \t\u001b[38;5;28;01mif\u001b[39;00m media \u001b[38;5;129;01mis\u001b[39;00m \u001b[38;5;129;01mnot\u001b[39;00m \u001b[38;5;28;01mNone\u001b[39;00m \u001b[38;5;129;01mor\u001b[39;00m \u001b[38;5;129;01mnot\u001b[39;00m \u001b[38;5;28misinstance\u001b[39m(media, \u001b[38;5;28mdict\u001b[39m):\n\u001b[1;32m     16\u001b[0m \t\t\u001b[38;5;28;01mraise\u001b[39;00m \u001b[38;5;167;01mValueError\u001b[39;00m(\u001b[38;5;124m\"\u001b[39m\u001b[38;5;124mmedia must be a dictionary with reaction IDs as keys and flux values as values.\u001b[39m\u001b[38;5;124m\"\u001b[39m)\n",
      "\u001b[0;31mValueError\u001b[0m: models must be a list of cobra.Model objects."
     ]
    }
   ],
   "source": [
    "from iifba import iipfba\n",
    "\n",
    "F, f = iipfba([EC], media, rel_abund=[1], iters=10, flow=0.5)"
   ]
  }
 ],
 "metadata": {
  "kernelspec": {
   "display_name": "MBE2",
   "language": "python",
   "name": "python3"
  },
  "language_info": {
   "codemirror_mode": {
    "name": "ipython",
    "version": 3
   },
   "file_extension": ".py",
   "mimetype": "text/x-python",
   "name": "python",
   "nbconvert_exporter": "python",
   "pygments_lexer": "ipython3",
   "version": "3.10.15"
  }
 },
 "nbformat": 4,
 "nbformat_minor": 5
}
