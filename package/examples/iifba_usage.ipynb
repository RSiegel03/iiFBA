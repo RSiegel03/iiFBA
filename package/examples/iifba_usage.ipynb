{
 "cells": [
  {
   "cell_type": "markdown",
   "id": "67f88209",
   "metadata": {},
   "source": [
    "# General Walkthrough and Usage of Iter-Active FBA \n",
    "\n",
    "Pip installation:<br>\n",
    "(from PyPI)<br>\n",
    "PyPI is not yet registered\n",
    "\n",
    "<br>\n",
    "(or from the github repo)<br>\n",
    "pip install \"git+https://github.com/m-3-lab/iiFBA.git@main#subdirectory=package\"\n"
   ]
  },
  {
   "cell_type": "markdown",
   "id": "923cbf14",
   "metadata": {},
   "source": [
    "## iiFBA Argument Formats\n",
    "This walkthrough will mention required formats, along with thorough docstring in package files, but will again be explicitly stated below.\n",
    "\n",
    "Models:\n",
    "- Must be provided to functions as a list of cobra.Model\n",
    "  - Even if only one model is being simulated\n",
    "  \n",
    "Media:\n",
    "- Must be formatted as dictionary\n",
    "  - Key: \"Exchange Reaction IDs\"\n",
    "  - Value: Negative Exchange Flux Lower Bound\n",
    "\n",
    "Relative Abundance:\n",
    "- Must be formatted as np.ndarray of float values as the decimal percentage of relative abundances or \"equal\"\n",
    "  - if rel_abund is \"equal\"\n",
    "    - rel_abund will default to vector of 1/n, of length n, (n = number of models) \n",
    "  - If relative abundances do not sum to 1:\n",
    "    - rel_abund is scaled to sum to 1\n",
    "  - Errors Raised if:\n",
    "    - rel_abund is not ndarray\n",
    "    - rel_abund is not capable of converting to ndarray (list types)\n",
    "    - any values are less than 0\n",
    "    - sum of values are equal to 0\n",
    "\n",
    "Iterations:\n",
    "- Must be numeric value for the count of iterations performed\n",
    "  - if iters less than 1\n",
    "    - change to 1\n",
    "  - if iters is not int\n",
    "    - will be cast as int (may raise errors)\n",
    "\n",
    "Flow:\n",
    "- Must be float value between 0 and 1, for ratio of environment replenishment\n",
    "  - If flow is outside of 0 and 1\n",
    "    - default to 0.5\n",
    "  - If flow is not float\n",
    "    - will be cast as float (may raise errors)\n",
    "\n"
   ]
  },
  {
   "cell_type": "code",
   "execution_count": 1,
   "id": "e2c56641",
   "metadata": {},
   "outputs": [],
   "source": [
    "# load package\n",
    "import iifba\n"
   ]
  },
  {
   "cell_type": "markdown",
   "id": "f0ef523a",
   "metadata": {},
   "source": [
    "## Model Loading\n",
    "This walkthrough will utilize example models installed with the Iter-Active FBA Package. These models are accessible at [VMH AGORA2](https://vmh.life/files/reconstructions/AGORA2/version2.01/mat_files/individual_reconstructions/):\n",
    "- Bacteroides_thetaiotaomicron_3731.mat\n",
    "- Escherichia_coli_str_K_12_substr_MG1655.mat\n",
    "\n",
    "\n",
    "<div class=\"alert alert-block alert-info\">\n",
    "Even if only 1 model will be used for simulation, model must still be stored in a list.\n",
    "</div>"
   ]
  },
  {
   "cell_type": "code",
   "execution_count": 1,
   "id": "dec98743",
   "metadata": {},
   "outputs": [
    {
     "name": "stderr",
     "output_type": "stream",
     "text": [
      "No defined compartments in model model. Compartments will be deduced heuristically using regular expressions.\n",
      "Using regular expression found the following compartments:c, e, p\n",
      "No defined compartments in model model. Compartments will be deduced heuristically using regular expressions.\n",
      "Using regular expression found the following compartments:c, e, p\n"
     ]
    },
    {
     "name": "stdout",
     "output_type": "stream",
     "text": [
      "{'EX_glc_D(e)': -10, 'EX_so4(e)': -100, 'EX_nh4(e)': -100, 'EX_no3(e)': -100, 'EX_pi(e)': -100, 'EX_cys_L(e)': -100, 'EX_mn2(e)': -100, 'EX_cl(e)': -100, 'EX_ca2(e)': -100, 'EX_mg2(e)': -100, 'EX_cu2(e)': -100, 'EX_cobalt2(e)': -100, 'EX_fe2(e)': -100, 'EX_fe3(e)': -100, 'EX_zn2(e)': -100, 'EX_k(e)': -100}\n"
     ]
    }
   ],
   "source": [
    "from iifba.utils import load_example_models\n",
    "EC, BT, media = load_example_models()\n",
    "\n",
    "# combine models in list of cobra.Models\n",
    "models = [EC, BT]\n",
    "\n",
    "# ensure any media takes the following format for defining \n",
    "# environment (exchange) flux bounds correctly\n",
    "print(media)"
   ]
  },
  {
   "cell_type": "markdown",
   "id": "4f9a7766",
   "metadata": {},
   "source": [
    "## Running iiFBA\n",
    "Iter-Active FBA utilizes COBRApy parsimonious FBA for simulation.\n",
    "\n"
   ]
  },
  {
   "cell_type": "code",
   "execution_count": null,
   "id": "781ea774",
   "metadata": {},
   "outputs": [
    {
     "name": "stdout",
     "output_type": "stream",
     "text": [
      "Iterations set to: 10\n",
      "Flow set to: 0.5\n",
      "Relative abundances set to: [1.]\n",
      "Iteration: 0\n",
      "Iteration: 1\n",
      "Iteration: 2\n",
      "Iteration: 3\n",
      "Iteration: 4\n",
      "Iteration: 5\n",
      "Iteration: 6\n",
      "Iteration: 7\n",
      "Iteration: 8\n",
      "Iteration: 9\n",
      "model  Iteration\n",
      "0      0            0.784637\n",
      "       1            0.392319\n",
      "       2            0.392319\n",
      "       3            0.392319\n",
      "       4            0.392319\n",
      "       5            0.392319\n",
      "       6            0.392319\n",
      "       7            0.392319\n",
      "       8            0.392319\n",
      "       9            0.392319\n",
      "Name: biomass525, dtype: float64\n"
     ]
    }
   ],
   "source": [
    "from iifba import iipfba\n",
    "\n",
    "f, F_single = iipfba([EC], media, rel_abund=\"equal\", iters=10, flow=0.5) # defualt values\n",
    "\n",
    "biomass_id = \"biomass525\" # change to match biomass rxn id for model\n",
    "print(F_single[biomass_id])"
   ]
  },
  {
   "cell_type": "markdown",
   "id": "884da318",
   "metadata": {},
   "source": [
    "<div class=\"alert alert-block alert-info\">\n",
    "Single Bacteria simulation is simple and will converge to (1-flow)*flow_initial after the first iteration\n",
    "</div>"
   ]
  },
  {
   "cell_type": "markdown",
   "id": "b7019a85",
   "metadata": {},
   "source": [
    "## iiFBA with 2+ models\n"
   ]
  },
  {
   "cell_type": "code",
   "execution_count": 6,
   "id": "ffedafa5",
   "metadata": {},
   "outputs": [
    {
     "name": "stdout",
     "output_type": "stream",
     "text": [
      "Iterations set to: 10\n",
      "Flow set to: 0.5\n",
      "Relative abundances set to: [0.5 0.5]\n",
      "Iteration: 0\n",
      "Iteration: 1\n",
      "Iteration: 2\n",
      "Iteration: 3\n",
      "Iteration: 4\n",
      "Iteration: 5\n",
      "Iteration: 6\n",
      "Iteration: 7\n",
      "Iteration: 8\n",
      "Iteration: 9\n",
      "Iteration\n",
      "0    0.784637\n",
      "1    0.505684\n",
      "2    0.472349\n",
      "3    0.465576\n",
      "4    0.464291\n",
      "5    0.463970\n",
      "6    0.463890\n",
      "7    0.463870\n",
      "8    0.463865\n",
      "9    0.463863\n",
      "Name: biomass525, dtype: float64\n"
     ]
    }
   ],
   "source": [
    "from iifba import iipfba\n",
    "\n",
    "f, F_two = iipfba(models, media, rel_abund=\"equal\", iters=10, flow=0.5) # defualt values\n",
    "\n",
    "biomass_id = \"biomass525\" # change to match biomass rxn id for model\n",
    "print(F_two.loc[0, :][biomass_id])"
   ]
  }
 ],
 "metadata": {
  "kernelspec": {
   "display_name": "MBE2",
   "language": "python",
   "name": "python3"
  },
  "language_info": {
   "codemirror_mode": {
    "name": "ipython",
    "version": 3
   },
   "file_extension": ".py",
   "mimetype": "text/x-python",
   "name": "python",
   "nbconvert_exporter": "python",
   "pygments_lexer": "ipython3",
   "version": "3.10.15"
  }
 },
 "nbformat": 4,
 "nbformat_minor": 5
}
